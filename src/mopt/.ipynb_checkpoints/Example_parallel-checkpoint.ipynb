{
 "cells": [
  {
   "cell_type": "markdown",
   "metadata": {},
   "source": [
    "# MomentOpt Parallel\n",
    "## Adding workers\n",
    "If you start julia with several processors. The first step is to add \"workers\" to julia. A rule of thumb is to use as many workers as you have processors on your system."
   ]
  },
  {
   "cell_type": "code",
   "execution_count": 1,
   "metadata": {},
   "outputs": [
    {
     "name": "stdout",
     "output_type": "stream",
     "text": [
      "Initial number of workers = 1\n",
      "Number of workers = 4\n"
     ]
    }
   ],
   "source": [
    "# Current number of workers\n",
    "#--------------------------\n",
    "currentWorkers = nprocs()\n",
    "println(\"Initial number of workers = $(currentWorkers)\")\n",
    "# I want to have 4 workers running\n",
    "#--------------------------------\n",
    "maxNumberWorkers = 4\n",
    "while nprocs() < maxNumberWorkers\n",
    "    addprocs(1)\n",
    "end\n",
    "# check the number of workers:\n",
    "#----------------------------\n",
    "currentWorkers = nprocs()\n",
    "println(\"Number of workers = $(currentWorkers)\")"
   ]
  },
  {
   "cell_type": "markdown",
   "metadata": {},
   "source": [
    "## Preliminaries"
   ]
  },
  {
   "cell_type": "code",
   "execution_count": 3,
   "metadata": {},
   "outputs": [
    {
     "data": {
      "text/plain": [
       "2-element Array{Float64,1}:\n",
       " -1.0\n",
       "  1.0"
      ]
     },
     "execution_count": 3,
     "metadata": {},
     "output_type": "execute_result"
    }
   ],
   "source": [
    "@everywhere using MomentOpt\n",
    "@everywhere using GLM\n",
    "@everywhere using DataStructures\n",
    "@everywhere using DataFrames\n",
    "@everywhere using Plots; plotlyjs()\n",
    "#@everywhere pyplot()\n",
    "\n",
    "srand(1234);\n",
    "\n",
    "# Define true values of parameters\n",
    "#---------------------------------\n",
    "trueValues = OrderedDict(\"mu1\" => [-1.0], \"mu2\" => [1.0])\n"
   ]
  },
  {
   "cell_type": "markdown",
   "metadata": {},
   "source": [
    "## Set up a MomentOpt problem"
   ]
  },
  {
   "cell_type": "code",
   "execution_count": 10,
   "metadata": {},
   "outputs": [
    {
     "data": {
      "text/plain": [
       "objfunc_normal (generic function with 1 method)"
      ]
     },
     "execution_count": 10,
     "metadata": {},
     "output_type": "execute_result"
    }
   ],
   "source": [
    "#------------------------------------------------\n",
    "# Options\n",
    "#-------------------------------------------------\n",
    "# Boolean: do you want to save the plots to disk?\n",
    "savePlots = true\n",
    "\n",
    "#------------------------\n",
    "# initialize the problem:\n",
    "#------------------------\n",
    "# Specify the initial values for the parameters, and their support:\n",
    "#------------------------------------------------------------------\n",
    "pb = OrderedDict(\"p1\" => [0.2,-3,3] , \"p2\" => [-0.2,-2,2])\n",
    "# Specify moments to be matched + subjective weights:\n",
    "#----------------------------------------------------\n",
    "moms = DataFrame(name=[\"mu1\",\"mu2\"],value=[trueValues[\"mu1\"][], trueValues[\"mu2\"][]], weight=ones(2))\n",
    "\n",
    "\n",
    "# GMM objective function to be minized.\n",
    "# It returns a weigthed distance between empirical and simulated moments\n",
    "@everywhere function objfunc_normal(ev::Eval; verbose = false)\n",
    "\n",
    "    start(ev)\n",
    "\n",
    "\n",
    "    # when running in parallel, display worker's id:\n",
    "    #-----------------------------------------------\n",
    "    if verbose == true\n",
    "        if nprocs() > 1\n",
    "          println(myid())\n",
    "        end\n",
    "    end\n",
    "\n",
    "    # extract parameters from ev:\n",
    "    #----------------------------\n",
    "    mu  = collect(values(ev.params))\n",
    "\n",
    "    # compute simulated moments\n",
    "    #--------------------------\n",
    "    # Monte-Carlo:\n",
    "    #-------------\n",
    "    ns = 100000 #number of i.i.d draws from N([mu], sigma)\n",
    "    #initialize a multivariate normal N([mu], sigma)\n",
    "    #mu is a four dimensional object\n",
    "    #sigma is set to be the identity matrix\n",
    "    sigma = [1.0; 1.0]\n",
    "    # draw ns observations from N([mu], sigma):\n",
    "    randMultiNormal = MomentOpt.MvNormal(mu,MomentOpt.PDiagMat(sigma))\n",
    "    # calculate the mean of the simulated data\n",
    "    simM            = mean(rand(randMultiNormal,ns),2)\n",
    "    # store simulated moments in a dictionary\n",
    "    simMoments = Dict(:mu1 => simM[1], :mu2 => simM[2])\n",
    "\n",
    "    # Calculate the weighted distance between empirical moments\n",
    "    # and simulated ones:\n",
    "    #-----------------------------------------------------------\n",
    "    v = Dict{Symbol,Float64}()\n",
    "    for (k, mom) in dataMomentd(ev)\n",
    "        # If weight for moment k exists:\n",
    "        #-------------------------------\n",
    "        if haskey(MomentOpt.dataMomentWd(ev), k)\n",
    "            # divide by weight associated to moment k:\n",
    "            #----------------------------------------\n",
    "            v[k] = ((simMoments[k] .- mom) ./ MomentOpt.dataMomentW(ev,k)) .^2\n",
    "        else\n",
    "            v[k] = ((simMoments[k] .- mom) ) .^2\n",
    "        end\n",
    "    end\n",
    "\n",
    "    # Set value of the objective function:\n",
    "    #------------------------------------\n",
    "    setValue(ev, mean(collect(values(v))))\n",
    "\n",
    "    # also return the moments\n",
    "    #-----------------------\n",
    "    setMoment(ev, simMoments)\n",
    "\n",
    "    # flag for success:\n",
    "    #-------------------\n",
    "    ev.status = 1\n",
    "\n",
    "    # finish and return\n",
    "    finish(ev)\n",
    "\n",
    "    return ev\n",
    "end\n",
    "\n",
    "\n",
    "\n",
    "# Initialize an empty MProb() object:\n",
    "#------------------------------------\n",
    "mprob = MProb()\n",
    "\n",
    "# Add structural parameters to MProb():\n",
    "# specify starting values and support\n",
    "#--------------------------------------\n",
    "addSampledParam!(mprob,pb)\n",
    "\n",
    "# Add moments to be matched to MProb():\n",
    "#--------------------------------------\n",
    "addMoment!(mprob,moms)\n",
    "\n",
    "# Attach an objective function to MProb():\n",
    "#----------------------------------------\n",
    "addEvalFunc!(mprob, objfunc_normal)"
   ]
  },
  {
   "cell_type": "code",
   "execution_count": 11,
   "metadata": {},
   "outputs": [
    {
     "name": "stderr",
     "output_type": "stream",
     "text": [
      "17:47:23:INFO:Main:Starting estimation loop.\n",
      "17:52:57:WARN:Main:could not find 'filename' and did not save\n",
      "17:52:57:INFO:Main:Done with estimation after 5.6 minutes\n"
     ]
    },
    {
     "name": "stdout",
     "output_type": "stream",
     "text": [
      "342.136009 seconds (187.35 M allocations: 10.229 GiB, 1.64% gc time)\n"
     ]
    },
    {
     "data": {
      "text/html": [
       "<table class=\"data-frame\"><thead><tr><th></th><th>id</th><th>acc_rate</th><th>perc_exchanged</th><th>exchanged_most_with</th><th>best_val</th></tr></thead><tbody><tr><th>1</th><td>1</td><td>0.562341</td><td>60.8</td><td>3</td><td>0.000236079</td></tr><tr><th>2</th><td>2</td><td>0.451524</td><td>64.0</td><td>3</td><td>0.000307646</td></tr><tr><th>3</th><td>3</td><td>0.369628</td><td>65.1</td><td>2</td><td>0.000236079</td></tr></tbody></table>"
      ],
      "text/plain": [
       "3×5 DataFrames.DataFrame\n",
       "│ Row │ id │ acc_rate │ perc_exchanged │ exchanged_most_with │ best_val    │\n",
       "├─────┼────┼──────────┼────────────────┼─────────────────────┼─────────────┤\n",
       "│ 1   │ 1  │ 0.562341 │ 60.8           │ 3                   │ 0.000236079 │\n",
       "│ 2   │ 2  │ 0.451524 │ 64.0           │ 3                   │ 0.000307646 │\n",
       "│ 3   │ 3  │ 0.369628 │ 65.1           │ 2                   │ 0.000236079 │"
      ]
     },
     "execution_count": 11,
     "metadata": {},
     "output_type": "execute_result"
    },
    {
     "name": "stdout",
     "output_type": "stream",
     "text": [
      "MomentOpt.summary(MA) = 3×5 DataFrames.DataFrame\n",
      "│ Row │ id │ acc_rate │ perc_exchanged │ exchanged_most_with │ best_val    │\n",
      "├─────┼────┼──────────┼────────────────┼─────────────────────┼─────────────┤\n",
      "│ 1   │ 1  │ 0.562341 │ 60.8           │ 3                   │ 0.000236079 │\n",
      "│ 2   │ 2  │ 0.451524 │ 64.0           │ 3                   │ 0.000307646 │\n",
      "│ 3   │ 3  │ 0.369628 │ 65.1           │ 2                   │ 0.000236079 │\n"
     ]
    }
   ],
   "source": [
    "# estimation options:\n",
    "#--------------------\n",
    "# number of iterations for each chain\n",
    "niter = 1000\n",
    "# number of chains\n",
    "# nchains = nprocs()\n",
    "nchains = 3\n",
    "\n",
    "opts = Dict(\"N\"=>nchains,\n",
    "        \"maxiter\"=>niter,\n",
    "        \"maxtemp\"=> 5,\n",
    "        \"coverage\"=>0.025,\n",
    "        \"sigma_update_steps\"=>10,\n",
    "        \"sigma_adjust_by\"=>0.01,\n",
    "        \"smpl_iters\"=>1000,\n",
    "        \"parallel\"=>true,\n",
    "        \"maxdists\"=>[0.05 for i in 1:nchains],\n",
    "        \"mixprob\"=>0.3,\n",
    "        \"acc_tuner\"=>12.0,\n",
    "        \"animate\"=>false)\n",
    "\n",
    "\n",
    "#---------------------------------------\n",
    "# Let's set-up and run the optimization\n",
    "#---------------------------------------\n",
    "# set-up BGP algorithm:\n",
    "MA = MAlgoBGP(mprob,opts)\n",
    "\n",
    "# run the estimation:\n",
    "@time MomentOpt.runMOpt!(MA)\n",
    "\n",
    "# show a summary of the optimization:\n",
    "@show MomentOpt.summary(MA)"
   ]
  },
  {
   "cell_type": "markdown",
   "metadata": {},
   "source": [
    "## Inference\n",
    "When using the BGP algorithm, inference can be done using the first chain. Other chains are used to explore the state space and help to exit local minima."
   ]
  },
  {
   "cell_type": "code",
   "execution_count": null,
   "metadata": {},
   "outputs": [
    {
     "data": {
      "application/vnd.plotly.v1+json": {
       "data": [
        {
         "fill": "tozeroy",
         "fillcolor": "rgba(0, 0, 255, 1.000)",
         "legendgroup": "y1",
         "line": {
          "color": "rgba(0, 0, 0, 1.000)",
          "dash": "solid",
          "width": 1
         },
         "mode": "lines",
         "name": "y1",
         "showlegend": true,
         "type": "scatter",
         "x": [
          -0.2,
          -0.2,
          -0.10000000000000002,
          -0.10000000000000002,
          -0.2,
          -0.2
         ],
         "xaxis": "x2",
         "y": [
          3,
          0,
          0,
          3,
          3,
          3
         ],
         "yaxis": "y2"
        },
        {
         "fill": "tozeroy",
         "fillcolor": "rgba(0, 0, 255, 1.000)",
         "legendgroup": "y1",
         "line": {
          "color": "rgba(0, 0, 0, 1.000)",
          "dash": "solid",
          "width": 1
         },
         "mode": "lines",
         "name": "y1",
         "showlegend": false,
         "type": "scatter",
         "x": [
          -0.1,
          -0.1,
          0,
          0,
          -0.1,
          -0.1
         ],
         "xaxis": "x2",
         "y": [
          3,
          0,
          0,
          3,
          3,
          3
         ],
         "yaxis": "y2"
        },
        {
         "fill": "tozeroy",
         "fillcolor": "rgba(0, 0, 255, 1.000)",
         "legendgroup": "y1",
         "line": {
          "color": "rgba(0, 0, 0, 1.000)",
          "dash": "solid",
          "width": 1
         },
         "mode": "lines",
         "name": "y1",
         "showlegend": false,
         "type": "scatter",
         "x": [
          0,
          0,
          0.1,
          0.1,
          0,
          0
         ],
         "xaxis": "x2",
         "y": [
          3,
          0,
          0,
          3,
          3,
          3
         ],
         "yaxis": "y2"
        },
        {
         "fill": "tozeroy",
         "fillcolor": "rgba(0, 0, 255, 1.000)",
         "legendgroup": "y1",
         "line": {
          "color": "rgba(0, 0, 0, 1.000)",
          "dash": "solid",
          "width": 1
         },
         "mode": "lines",
         "name": "y1",
         "showlegend": false,
         "type": "scatter",
         "x": [
          0.10000000000000002,
          0.10000000000000002,
          0.2,
          0.2,
          0.10000000000000002,
          0.10000000000000002
         ],
         "xaxis": "x2",
         "y": [
          1,
          0,
          0,
          1,
          1,
          1
         ],
         "yaxis": "y2"
        },
        {
         "fill": "tozeroy",
         "fillcolor": "rgba(0, 0, 255, 1.000)",
         "legendgroup": "y1",
         "line": {
          "color": "rgba(0, 0, 0, 1.000)",
          "dash": "solid",
          "width": 1
         },
         "mode": "lines",
         "name": "y1",
         "showlegend": false,
         "type": "scatter",
         "x": [
          0.2,
          0.2,
          0.3,
          0.3,
          0.2,
          0.2
         ],
         "xaxis": "x2",
         "y": [
          4,
          0,
          0,
          4,
          4,
          4
         ],
         "yaxis": "y2"
        },
        {
         "fill": "tozeroy",
         "fillcolor": "rgba(0, 0, 255, 1.000)",
         "legendgroup": "y1",
         "line": {
          "color": "rgba(0, 0, 0, 1.000)",
          "dash": "solid",
          "width": 1
         },
         "mode": "lines",
         "name": "y1",
         "showlegend": false,
         "type": "scatter",
         "x": [
          0.29999999999999993,
          0.29999999999999993,
          0.4,
          0.4,
          0.29999999999999993,
          0.29999999999999993
         ],
         "xaxis": "x2",
         "y": [
          8,
          0,
          0,
          8,
          8,
          8
         ],
         "yaxis": "y2"
        },
        {
         "fill": "tozeroy",
         "fillcolor": "rgba(0, 0, 255, 1.000)",
         "legendgroup": "y1",
         "line": {
          "color": "rgba(0, 0, 0, 1.000)",
          "dash": "solid",
          "width": 1
         },
         "mode": "lines",
         "name": "y1",
         "showlegend": false,
         "type": "scatter",
         "x": [
          0.4,
          0.4,
          0.5,
          0.5,
          0.4,
          0.4
         ],
         "xaxis": "x2",
         "y": [
          12,
          0,
          0,
          12,
          12,
          12
         ],
         "yaxis": "y2"
        },
        {
         "fill": "tozeroy",
         "fillcolor": "rgba(0, 0, 255, 1.000)",
         "legendgroup": "y1",
         "line": {
          "color": "rgba(0, 0, 0, 1.000)",
          "dash": "solid",
          "width": 1
         },
         "mode": "lines",
         "name": "y1",
         "showlegend": false,
         "type": "scatter",
         "x": [
          0.5,
          0.5,
          0.6000000000000001,
          0.6000000000000001,
          0.5,
          0.5
         ],
         "xaxis": "x2",
         "y": [
          30,
          0,
          0,
          30,
          30,
          30
         ],
         "yaxis": "y2"
        },
        {
         "fill": "tozeroy",
         "fillcolor": "rgba(0, 0, 255, 1.000)",
         "legendgroup": "y1",
         "line": {
          "color": "rgba(0, 0, 0, 1.000)",
          "dash": "solid",
          "width": 1
         },
         "mode": "lines",
         "name": "y1",
         "showlegend": false,
         "type": "scatter",
         "x": [
          0.5999999999999999,
          0.5999999999999999,
          0.7,
          0.7,
          0.5999999999999999,
          0.5999999999999999
         ],
         "xaxis": "x2",
         "y": [
          71,
          0,
          0,
          71,
          71,
          71
         ],
         "yaxis": "y2"
        },
        {
         "fill": "tozeroy",
         "fillcolor": "rgba(0, 0, 255, 1.000)",
         "legendgroup": "y1",
         "line": {
          "color": "rgba(0, 0, 0, 1.000)",
          "dash": "solid",
          "width": 1
         },
         "mode": "lines",
         "name": "y1",
         "showlegend": false,
         "type": "scatter",
         "x": [
          0.7,
          0.7,
          0.8,
          0.8,
          0.7,
          0.7
         ],
         "xaxis": "x2",
         "y": [
          70,
          0,
          0,
          70,
          70,
          70
         ],
         "yaxis": "y2"
        },
        {
         "fill": "tozeroy",
         "fillcolor": "rgba(0, 0, 255, 1.000)",
         "legendgroup": "y1",
         "line": {
          "color": "rgba(0, 0, 0, 1.000)",
          "dash": "solid",
          "width": 1
         },
         "mode": "lines",
         "name": "y1",
         "showlegend": false,
         "type": "scatter",
         "x": [
          0.8,
          0.8,
          0.9000000000000001,
          0.9000000000000001,
          0.8,
          0.8
         ],
         "xaxis": "x2",
         "y": [
          96,
          0,
          0,
          96,
          96,
          96
         ],
         "yaxis": "y2"
        },
        {
         "fill": "tozeroy",
         "fillcolor": "rgba(0, 0, 255, 1.000)",
         "legendgroup": "y1",
         "line": {
          "color": "rgba(0, 0, 0, 1.000)",
          "dash": "solid",
          "width": 1
         },
         "mode": "lines",
         "name": "y1",
         "showlegend": false,
         "type": "scatter",
         "x": [
          0.8999999999999999,
          0.8999999999999999,
          1,
          1,
          0.8999999999999999,
          0.8999999999999999
         ],
         "xaxis": "x2",
         "y": [
          101,
          0,
          0,
          101,
          101,
          101
         ],
         "yaxis": "y2"
        },
        {
         "fill": "tozeroy",
         "fillcolor": "rgba(0, 0, 255, 1.000)",
         "legendgroup": "y1",
         "line": {
          "color": "rgba(0, 0, 0, 1.000)",
          "dash": "solid",
          "width": 1
         },
         "mode": "lines",
         "name": "y1",
         "showlegend": false,
         "type": "scatter",
         "x": [
          1,
          1,
          1.1,
          1.1,
          1,
          1
         ],
         "xaxis": "x2",
         "y": [
          108,
          0,
          0,
          108,
          108,
          108
         ],
         "yaxis": "y2"
        },
        {
         "fill": "tozeroy",
         "fillcolor": "rgba(0, 0, 255, 1.000)",
         "legendgroup": "y1",
         "line": {
          "color": "rgba(0, 0, 0, 1.000)",
          "dash": "solid",
          "width": 1
         },
         "mode": "lines",
         "name": "y1",
         "showlegend": false,
         "type": "scatter",
         "x": [
          1.1,
          1.1,
          1.1999999999999997,
          1.1999999999999997,
          1.1,
          1.1
         ],
         "xaxis": "x2",
         "y": [
          101,
          0,
          0,
          101,
          101,
          101
         ],
         "yaxis": "y2"
        },
        {
         "fill": "tozeroy",
         "fillcolor": "rgba(0, 0, 255, 1.000)",
         "legendgroup": "y1",
         "line": {
          "color": "rgba(0, 0, 0, 1.000)",
          "dash": "solid",
          "width": 1
         },
         "mode": "lines",
         "name": "y1",
         "showlegend": false,
         "type": "scatter",
         "x": [
          1.2,
          1.2,
          1.3,
          1.3,
          1.2,
          1.2
         ],
         "xaxis": "x2",
         "y": [
          99,
          0,
          0,
          99,
          99,
          99
         ],
         "yaxis": "y2"
        },
        {
         "fill": "tozeroy",
         "fillcolor": "rgba(0, 0, 255, 1.000)",
         "legendgroup": "y1",
         "line": {
          "color": "rgba(0, 0, 0, 1.000)",
          "dash": "solid",
          "width": 1
         },
         "mode": "lines",
         "name": "y1",
         "showlegend": false,
         "type": "scatter",
         "x": [
          1.3000000000000003,
          1.3000000000000003,
          1.4,
          1.4,
          1.3000000000000003,
          1.3000000000000003
         ],
         "xaxis": "x2",
         "y": [
          47,
          0,
          0,
          47,
          47,
          47
         ],
         "yaxis": "y2"
        },
        {
         "fill": "tozeroy",
         "fillcolor": "rgba(0, 0, 255, 1.000)",
         "legendgroup": "y1",
         "line": {
          "color": "rgba(0, 0, 0, 1.000)",
          "dash": "solid",
          "width": 1
         },
         "mode": "lines",
         "name": "y1",
         "showlegend": false,
         "type": "scatter",
         "x": [
          1.4,
          1.4,
          1.5,
          1.5,
          1.4,
          1.4
         ],
         "xaxis": "x2",
         "y": [
          24,
          0,
          0,
          24,
          24,
          24
         ],
         "yaxis": "y2"
        },
        {
         "fill": "tozeroy",
         "fillcolor": "rgba(0, 0, 255, 1.000)",
         "legendgroup": "y1",
         "line": {
          "color": "rgba(0, 0, 0, 1.000)",
          "dash": "solid",
          "width": 1
         },
         "mode": "lines",
         "name": "y1",
         "showlegend": false,
         "type": "scatter",
         "x": [
          1.5,
          1.5,
          1.6,
          1.6,
          1.5,
          1.5
         ],
         "xaxis": "x2",
         "y": [
          22,
          0,
          0,
          22,
          22,
          22
         ],
         "yaxis": "y2"
        },
        {
         "fill": "tozeroy",
         "fillcolor": "rgba(0, 0, 255, 1.000)",
         "legendgroup": "y1",
         "line": {
          "color": "rgba(0, 0, 0, 1.000)",
          "dash": "solid",
          "width": 1
         },
         "mode": "lines",
         "name": "y1",
         "showlegend": false,
         "type": "scatter",
         "x": [
          1.6,
          1.6,
          1.6999999999999997,
          1.6999999999999997,
          1.6,
          1.6
         ],
         "xaxis": "x2",
         "y": [
          21,
          0,
          0,
          21,
          21,
          21
         ],
         "yaxis": "y2"
        },
        {
         "fill": "tozeroy",
         "fillcolor": "rgba(0, 0, 255, 1.000)",
         "legendgroup": "y1",
         "line": {
          "color": "rgba(0, 0, 0, 1.000)",
          "dash": "solid",
          "width": 1
         },
         "mode": "lines",
         "name": "y1",
         "showlegend": false,
         "type": "scatter",
         "x": [
          1.7,
          1.7,
          1.8,
          1.8,
          1.7,
          1.7
         ],
         "xaxis": "x2",
         "y": [
          1,
          0,
          0,
          1,
          1,
          1
         ],
         "yaxis": "y2"
        },
        {
         "fill": "tozeroy",
         "fillcolor": "rgba(0, 0, 255, 1.000)",
         "legendgroup": "y1",
         "line": {
          "color": "rgba(0, 0, 0, 1.000)",
          "dash": "solid",
          "width": 1
         },
         "mode": "lines",
         "name": "y1",
         "showlegend": false,
         "type": "scatter",
         "x": [
          1.8000000000000003,
          1.8000000000000003,
          1.9,
          1.9,
          1.8000000000000003,
          1.8000000000000003
         ],
         "xaxis": "x2",
         "y": [
          2,
          0,
          0,
          2,
          2,
          2
         ],
         "yaxis": "y2"
        },
        {
         "fill": "tozeroy",
         "fillcolor": "rgba(0, 0, 255, 1.000)",
         "legendgroup": "y1",
         "line": {
          "color": "rgba(0, 0, 0, 1.000)",
          "dash": "solid",
          "width": 1
         },
         "mode": "lines",
         "name": "y1",
         "showlegend": false,
         "type": "scatter",
         "x": [
          1.9,
          1.9,
          2,
          2,
          1.9,
          1.9
         ],
         "xaxis": "x2",
         "y": [
          2,
          0,
          0,
          2,
          2,
          2
         ],
         "yaxis": "y2"
        },
        {
         "fill": "tozeroy",
         "fillcolor": "rgba(0, 0, 255, 1.000)",
         "legendgroup": "y2",
         "line": {
          "color": "rgba(0, 0, 0, 1.000)",
          "dash": "solid",
          "width": 1
         },
         "mode": "lines",
         "name": "y2",
         "showlegend": true,
         "type": "scatter",
         "x": [
          -2,
          -2,
          -1.9,
          -1.9,
          -2,
          -2
         ],
         "xaxis": "x1",
         "y": [
          1,
          0,
          0,
          1,
          1,
          1
         ],
         "yaxis": "y1"
        },
        {
         "fill": "tozeroy",
         "fillcolor": "rgba(0, 0, 255, 1.000)",
         "legendgroup": "y2",
         "line": {
          "color": "rgba(0, 0, 0, 1.000)",
          "dash": "solid",
          "width": 1
         },
         "mode": "lines",
         "name": "y2",
         "showlegend": false,
         "type": "scatter",
         "x": [
          -1.9,
          -1.9,
          -1.8000000000000003,
          -1.8000000000000003,
          -1.9,
          -1.9
         ],
         "xaxis": "x1",
         "y": [
          0,
          0,
          0,
          0,
          0,
          0
         ],
         "yaxis": "y1"
        },
        {
         "fill": "tozeroy",
         "fillcolor": "rgba(0, 0, 255, 1.000)",
         "legendgroup": "y2",
         "line": {
          "color": "rgba(0, 0, 0, 1.000)",
          "dash": "solid",
          "width": 1
         },
         "mode": "lines",
         "name": "y2",
         "showlegend": false,
         "type": "scatter",
         "x": [
          -1.8,
          -1.8,
          -1.7,
          -1.7,
          -1.8,
          -1.8
         ],
         "xaxis": "x1",
         "y": [
          1,
          0,
          0,
          1,
          1,
          1
         ],
         "yaxis": "y1"
        },
        {
         "fill": "tozeroy",
         "fillcolor": "rgba(0, 0, 255, 1.000)",
         "legendgroup": "y2",
         "line": {
          "color": "rgba(0, 0, 0, 1.000)",
          "dash": "solid",
          "width": 1
         },
         "mode": "lines",
         "name": "y2",
         "showlegend": false,
         "type": "scatter",
         "x": [
          -1.6999999999999997,
          -1.6999999999999997,
          -1.6,
          -1.6,
          -1.6999999999999997,
          -1.6999999999999997
         ],
         "xaxis": "x1",
         "y": [
          8,
          0,
          0,
          8,
          8,
          8
         ],
         "yaxis": "y1"
        },
        {
         "fill": "tozeroy",
         "fillcolor": "rgba(0, 0, 255, 1.000)",
         "legendgroup": "y2",
         "line": {
          "color": "rgba(0, 0, 0, 1.000)",
          "dash": "solid",
          "width": 1
         },
         "mode": "lines",
         "name": "y2",
         "showlegend": false,
         "type": "scatter",
         "x": [
          -1.6,
          -1.6,
          -1.5,
          -1.5,
          -1.6,
          -1.6
         ],
         "xaxis": "x1",
         "y": [
          11,
          0,
          0,
          11,
          11,
          11
         ],
         "yaxis": "y1"
        },
        {
         "fill": "tozeroy",
         "fillcolor": "rgba(0, 0, 255, 1.000)",
         "legendgroup": "y2",
         "line": {
          "color": "rgba(0, 0, 0, 1.000)",
          "dash": "solid",
          "width": 1
         },
         "mode": "lines",
         "name": "y2",
         "showlegend": false,
         "type": "scatter",
         "x": [
          -1.5,
          -1.5,
          -1.4,
          -1.4,
          -1.5,
          -1.5
         ],
         "xaxis": "x1",
         "y": [
          40,
          0,
          0,
          40,
          40,
          40
         ],
         "yaxis": "y1"
        },
        {
         "fill": "tozeroy",
         "fillcolor": "rgba(0, 0, 255, 1.000)",
         "legendgroup": "y2",
         "line": {
          "color": "rgba(0, 0, 0, 1.000)",
          "dash": "solid",
          "width": 1
         },
         "mode": "lines",
         "name": "y2",
         "showlegend": false,
         "type": "scatter",
         "x": [
          -1.4,
          -1.4,
          -1.3000000000000003,
          -1.3000000000000003,
          -1.4,
          -1.4
         ],
         "xaxis": "x1",
         "y": [
          47,
          0,
          0,
          47,
          47,
          47
         ],
         "yaxis": "y1"
        },
        {
         "fill": "tozeroy",
         "fillcolor": "rgba(0, 0, 255, 1.000)",
         "legendgroup": "y2",
         "line": {
          "color": "rgba(0, 0, 0, 1.000)",
          "dash": "solid",
          "width": 1
         },
         "mode": "lines",
         "name": "y2",
         "showlegend": false,
         "type": "scatter",
         "x": [
          -1.3,
          -1.3,
          -1.2,
          -1.2,
          -1.3,
          -1.3
         ],
         "xaxis": "x1",
         "y": [
          63,
          0,
          0,
          63,
          63,
          63
         ],
         "yaxis": "y1"
        },
        {
         "fill": "tozeroy",
         "fillcolor": "rgba(0, 0, 255, 1.000)",
         "legendgroup": "y2",
         "line": {
          "color": "rgba(0, 0, 0, 1.000)",
          "dash": "solid",
          "width": 1
         },
         "mode": "lines",
         "name": "y2",
         "showlegend": false,
         "type": "scatter",
         "x": [
          -1.1999999999999997,
          -1.1999999999999997,
          -1.1,
          -1.1,
          -1.1999999999999997,
          -1.1999999999999997
         ],
         "xaxis": "x1",
         "y": [
          101,
          0,
          0,
          101,
          101,
          101
         ],
         "yaxis": "y1"
        },
        {
         "fill": "tozeroy",
         "fillcolor": "rgba(0, 0, 255, 1.000)",
         "legendgroup": "y2",
         "line": {
          "color": "rgba(0, 0, 0, 1.000)",
          "dash": "solid",
          "width": 1
         },
         "mode": "lines",
         "name": "y2",
         "showlegend": false,
         "type": "scatter",
         "x": [
          -1.1,
          -1.1,
          -1,
          -1,
          -1.1,
          -1.1
         ],
         "xaxis": "x1",
         "y": [
          103,
          0,
          0,
          103,
          103,
          103
         ],
         "yaxis": "y1"
        },
        {
         "fill": "tozeroy",
         "fillcolor": "rgba(0, 0, 255, 1.000)",
         "legendgroup": "y2",
         "line": {
          "color": "rgba(0, 0, 0, 1.000)",
          "dash": "solid",
          "width": 1
         },
         "mode": "lines",
         "name": "y2",
         "showlegend": false,
         "type": "scatter",
         "x": [
          -1,
          -1,
          -0.8999999999999999,
          -0.8999999999999999,
          -1,
          -1
         ],
         "xaxis": "x1",
         "y": [
          117,
          0,
          0,
          117,
          117,
          117
         ],
         "yaxis": "y1"
        },
        {
         "fill": "tozeroy",
         "fillcolor": "rgba(0, 0, 255, 1.000)",
         "legendgroup": "y2",
         "line": {
          "color": "rgba(0, 0, 0, 1.000)",
          "dash": "solid",
          "width": 1
         },
         "mode": "lines",
         "name": "y2",
         "showlegend": false,
         "type": "scatter",
         "x": [
          -0.9000000000000001,
          -0.9000000000000001,
          -0.8,
          -0.8,
          -0.9000000000000001,
          -0.9000000000000001
         ],
         "xaxis": "x1",
         "y": [
          110,
          0,
          0,
          110,
          110,
          110
         ],
         "yaxis": "y1"
        },
        {
         "fill": "tozeroy",
         "fillcolor": "rgba(0, 0, 255, 1.000)",
         "legendgroup": "y2",
         "line": {
          "color": "rgba(0, 0, 0, 1.000)",
          "dash": "solid",
          "width": 1
         },
         "mode": "lines",
         "name": "y2",
         "showlegend": false,
         "type": "scatter",
         "x": [
          -0.8,
          -0.8,
          -0.7,
          -0.7,
          -0.8,
          -0.8
         ],
         "xaxis": "x1",
         "y": [
          87,
          0,
          0,
          87,
          87,
          87
         ],
         "yaxis": "y1"
        },
        {
         "fill": "tozeroy",
         "fillcolor": "rgba(0, 0, 255, 1.000)",
         "legendgroup": "y2",
         "line": {
          "color": "rgba(0, 0, 0, 1.000)",
          "dash": "solid",
          "width": 1
         },
         "mode": "lines",
         "name": "y2",
         "showlegend": false,
         "type": "scatter",
         "x": [
          -0.7,
          -0.7,
          -0.5999999999999999,
          -0.5999999999999999,
          -0.7,
          -0.7
         ],
         "xaxis": "x1",
         "y": [
          67,
          0,
          0,
          67,
          67,
          67
         ],
         "yaxis": "y1"
        },
        {
         "fill": "tozeroy",
         "fillcolor": "rgba(0, 0, 255, 1.000)",
         "legendgroup": "y2",
         "line": {
          "color": "rgba(0, 0, 0, 1.000)",
          "dash": "solid",
          "width": 1
         },
         "mode": "lines",
         "name": "y2",
         "showlegend": false,
         "type": "scatter",
         "x": [
          -0.6000000000000001,
          -0.6000000000000001,
          -0.5,
          -0.5,
          -0.6000000000000001,
          -0.6000000000000001
         ],
         "xaxis": "x1",
         "y": [
          35,
          0,
          0,
          35,
          35,
          35
         ],
         "yaxis": "y1"
        },
        {
         "fill": "tozeroy",
         "fillcolor": "rgba(0, 0, 255, 1.000)",
         "legendgroup": "y2",
         "line": {
          "color": "rgba(0, 0, 0, 1.000)",
          "dash": "solid",
          "width": 1
         },
         "mode": "lines",
         "name": "y2",
         "showlegend": false,
         "type": "scatter",
         "x": [
          -0.5,
          -0.5,
          -0.4,
          -0.4,
          -0.5,
          -0.5
         ],
         "xaxis": "x1",
         "y": [
          17,
          0,
          0,
          17,
          17,
          17
         ],
         "yaxis": "y1"
        },
        {
         "fill": "tozeroy",
         "fillcolor": "rgba(0, 0, 255, 1.000)",
         "legendgroup": "y2",
         "line": {
          "color": "rgba(0, 0, 0, 1.000)",
          "dash": "solid",
          "width": 1
         },
         "mode": "lines",
         "name": "y2",
         "showlegend": false,
         "type": "scatter",
         "x": [
          -0.4,
          -0.4,
          -0.29999999999999993,
          -0.29999999999999993,
          -0.4,
          -0.4
         ],
         "xaxis": "x1",
         "y": [
          12,
          0,
          0,
          12,
          12,
          12
         ],
         "yaxis": "y1"
        },
        {
         "fill": "tozeroy",
         "fillcolor": "rgba(0, 0, 255, 1.000)",
         "legendgroup": "y2",
         "line": {
          "color": "rgba(0, 0, 0, 1.000)",
          "dash": "solid",
          "width": 1
         },
         "mode": "lines",
         "name": "y2",
         "showlegend": false,
         "type": "scatter",
         "x": [
          -0.3,
          -0.3,
          -0.2,
          -0.2,
          -0.3,
          -0.3
         ],
         "xaxis": "x1",
         "y": [
          3,
          0,
          0,
          3,
          3,
          3
         ],
         "yaxis": "y1"
        },
        {
         "fill": "tozeroy",
         "fillcolor": "rgba(0, 0, 255, 1.000)",
         "legendgroup": "y2",
         "line": {
          "color": "rgba(0, 0, 0, 1.000)",
          "dash": "solid",
          "width": 1
         },
         "mode": "lines",
         "name": "y2",
         "showlegend": false,
         "type": "scatter",
         "x": [
          -0.2,
          -0.2,
          -0.10000000000000002,
          -0.10000000000000002,
          -0.2,
          -0.2
         ],
         "xaxis": "x1",
         "y": [
          2,
          0,
          0,
          2,
          2,
          2
         ],
         "yaxis": "y1"
        },
        {
         "fill": "tozeroy",
         "fillcolor": "rgba(0, 0, 255, 1.000)",
         "legendgroup": "y2",
         "line": {
          "color": "rgba(0, 0, 0, 1.000)",
          "dash": "solid",
          "width": 1
         },
         "mode": "lines",
         "name": "y2",
         "showlegend": false,
         "type": "scatter",
         "x": [
          -0.1,
          -0.1,
          0,
          0,
          -0.1,
          -0.1
         ],
         "xaxis": "x1",
         "y": [
          1,
          0,
          0,
          1,
          1,
          1
         ],
         "yaxis": "y1"
        },
        {
         "fill": "tozeroy",
         "fillcolor": "rgba(0, 0, 255, 1.000)",
         "legendgroup": "y2",
         "line": {
          "color": "rgba(0, 0, 0, 1.000)",
          "dash": "solid",
          "width": 1
         },
         "mode": "lines",
         "name": "y2",
         "showlegend": false,
         "type": "scatter",
         "x": [
          0,
          0,
          0.1,
          0.1,
          0,
          0
         ],
         "xaxis": "x1",
         "y": [
          0,
          0,
          0,
          0,
          0,
          0
         ],
         "yaxis": "y1"
        },
        {
         "fill": "tozeroy",
         "fillcolor": "rgba(0, 0, 255, 1.000)",
         "legendgroup": "y2",
         "line": {
          "color": "rgba(0, 0, 0, 1.000)",
          "dash": "solid",
          "width": 1
         },
         "mode": "lines",
         "name": "y2",
         "showlegend": false,
         "type": "scatter",
         "x": [
          0.10000000000000002,
          0.10000000000000002,
          0.2,
          0.2,
          0.10000000000000002,
          0.10000000000000002
         ],
         "xaxis": "x1",
         "y": [
          1,
          0,
          0,
          1,
          1,
          1
         ],
         "yaxis": "y1"
        },
        {
         "fill": "tozeroy",
         "fillcolor": "rgba(0, 0, 255, 1.000)",
         "legendgroup": "y2",
         "line": {
          "color": "rgba(0, 0, 0, 1.000)",
          "dash": "solid",
          "width": 1
         },
         "mode": "lines",
         "name": "y2",
         "showlegend": false,
         "type": "scatter",
         "x": [
          0.2,
          0.2,
          0.3,
          0.3,
          0.2,
          0.2
         ],
         "xaxis": "x1",
         "y": [
          2,
          0,
          0,
          2,
          2,
          2
         ],
         "yaxis": "y1"
        }
       ],
       "layout": {
        "annotations": [],
        "height": 400,
        "margin": {
         "b": 20,
         "l": 0,
         "r": 0,
         "t": 20
        },
        "paper_bgcolor": "rgba(255, 255, 255, 1.000)",
        "plot_bgcolor": "rgba(255, 255, 255, 1.000)",
        "showlegend": false,
        "width": 600,
        "xaxis1": {
         "anchor": "y1",
         "domain": [
          0.05100612423447069,
          0.4934383202099738
         ],
         "gridcolor": "rgba(0, 0, 0, 0.100)",
         "gridwidth": 0.5,
         "linecolor": "rgba(0, 0, 0, 1.000)",
         "mirror": false,
         "range": [
          -2.14214,
          0.44214
         ],
         "showgrid": true,
         "showline": true,
         "showticklabels": true,
         "tickangle": 0,
         "tickcolor": "rgb(0, 0, 0)",
         "tickfont": {
          "color": "rgba(0, 0, 0, 1.000)",
          "family": "sans-serif",
          "size": 11
         },
         "tickmode": "array",
         "ticks": "inside",
         "ticktext": [
          "-2.0",
          "-1.5",
          "-1.0",
          "-0.5",
          "0.0"
         ],
         "tickvals": [
          -2,
          -1.5,
          -1,
          -0.5,
          0
         ],
         "title": "p1",
         "titlefont": {
          "color": "rgba(0, 0, 0, 1.000)",
          "family": "sans-serif",
          "size": 15
         },
         "type": "-",
         "visible": true,
         "zeroline": false,
         "zerolinecolor": "rgba(0, 0, 0, 1.000)"
        },
        "xaxis2": {
         "anchor": "y2",
         "domain": [
          0.5510061242344708,
          0.9934383202099739
         ],
         "gridcolor": "rgba(0, 0, 0, 0.100)",
         "gridwidth": 0.5,
         "linecolor": "rgba(0, 0, 0, 1.000)",
         "mirror": false,
         "range": [
          -0.33596000000000004,
          2.13596
         ],
         "showgrid": true,
         "showline": true,
         "showticklabels": true,
         "tickangle": 0,
         "tickcolor": "rgb(0, 0, 0)",
         "tickfont": {
          "color": "rgba(0, 0, 0, 1.000)",
          "family": "sans-serif",
          "size": 11
         },
         "tickmode": "array",
         "ticks": "inside",
         "ticktext": [
          "0.0",
          "0.5",
          "1.0",
          "1.5",
          "2.0"
         ],
         "tickvals": [
          0,
          0.5,
          1,
          1.5,
          2
         ],
         "title": "p2",
         "titlefont": {
          "color": "rgba(0, 0, 0, 1.000)",
          "family": "sans-serif",
          "size": 15
         },
         "type": "-",
         "visible": true,
         "zeroline": false,
         "zerolinecolor": "rgba(0, 0, 0, 1.000)"
        },
        "yaxis1": {
         "anchor": "x1",
         "domain": [
          0.07581474190726165,
          0.9901574803149606
         ],
         "gridcolor": "rgba(0, 0, 0, 0.100)",
         "gridwidth": 0.5,
         "linecolor": "rgba(0, 0, 0, 1.000)",
         "mirror": false,
         "range": [
          -3.51,
          120.51
         ],
         "showgrid": true,
         "showline": true,
         "showticklabels": true,
         "tickangle": 0,
         "tickcolor": "rgb(0, 0, 0)",
         "tickfont": {
          "color": "rgba(0, 0, 0, 1.000)",
          "family": "sans-serif",
          "size": 11
         },
         "tickmode": "array",
         "ticks": "inside",
         "ticktext": [
          "0",
          "25",
          "50",
          "75",
          "100"
         ],
         "tickvals": [
          0,
          25,
          50,
          75,
          100
         ],
         "title": "",
         "titlefont": {
          "color": "rgba(0, 0, 0, 1.000)",
          "family": "sans-serif",
          "size": 15
         },
         "type": "-",
         "visible": true,
         "zeroline": false,
         "zerolinecolor": "rgba(0, 0, 0, 1.000)"
        },
        "yaxis2": {
         "anchor": "x2",
         "domain": [
          0.07581474190726165,
          0.9901574803149606
         ],
         "gridcolor": "rgba(0, 0, 0, 0.100)",
         "gridwidth": 0.5,
         "linecolor": "rgba(0, 0, 0, 1.000)",
         "mirror": false,
         "range": [
          -3.2399999999999998,
          111.24
         ],
         "showgrid": true,
         "showline": true,
         "showticklabels": true,
         "tickangle": 0,
         "tickcolor": "rgb(0, 0, 0)",
         "tickfont": {
          "color": "rgba(0, 0, 0, 1.000)",
          "family": "sans-serif",
          "size": 11
         },
         "tickmode": "array",
         "ticks": "inside",
         "ticktext": [
          "0",
          "25",
          "50",
          "75",
          "100"
         ],
         "tickvals": [
          0,
          25,
          50,
          75,
          100
         ],
         "title": "",
         "titlefont": {
          "color": "rgba(0, 0, 0, 1.000)",
          "family": "sans-serif",
          "size": 15
         },
         "type": "-",
         "visible": true,
         "zeroline": false,
         "zerolinecolor": "rgba(0, 0, 0, 1.000)"
        }
       }
      },
      "text/html": [
       "<div id=\"29c560fe-1ee4-438f-967f-de99415632c3\" class=\"plotly-graph-div\"></div>\n",
       "\n",
       "<script>\n",
       "    (function() {\n",
       "        var data_29c560fe = [{\"xaxis\":\"x2\",\"fill\":\"tozeroy\",\"yaxis\":\"y2\",\"x\":[-0.2,-0.2,-0.10000000000000002,-0.10000000000000002,-0.2,-0.2],\"showlegend\":true,\"mode\":\"lines\",\"fillcolor\":\"rgba(0, 0, 255, 1.000)\",\"name\":\"y1\",\"legendgroup\":\"y1\",\"line\":{\"color\":\"rgba(0, 0, 0, 1.000)\",\"dash\":\"solid\",\"width\":1},\"y\":[3.0,0.0,0.0,3.0,3.0,3.0],\"type\":\"scatter\"},{\"xaxis\":\"x2\",\"fill\":\"tozeroy\",\"yaxis\":\"y2\",\"x\":[-0.1,-0.1,0.0,0.0,-0.1,-0.1],\"showlegend\":false,\"mode\":\"lines\",\"fillcolor\":\"rgba(0, 0, 255, 1.000)\",\"name\":\"y1\",\"legendgroup\":\"y1\",\"line\":{\"color\":\"rgba(0, 0, 0, 1.000)\",\"dash\":\"solid\",\"width\":1},\"y\":[3.0,0.0,0.0,3.0,3.0,3.0],\"type\":\"scatter\"},{\"xaxis\":\"x2\",\"fill\":\"tozeroy\",\"yaxis\":\"y2\",\"x\":[0.0,0.0,0.1,0.1,0.0,0.0],\"showlegend\":false,\"mode\":\"lines\",\"fillcolor\":\"rgba(0, 0, 255, 1.000)\",\"name\":\"y1\",\"legendgroup\":\"y1\",\"line\":{\"color\":\"rgba(0, 0, 0, 1.000)\",\"dash\":\"solid\",\"width\":1},\"y\":[3.0,0.0,0.0,3.0,3.0,3.0],\"type\":\"scatter\"},{\"xaxis\":\"x2\",\"fill\":\"tozeroy\",\"yaxis\":\"y2\",\"x\":[0.10000000000000002,0.10000000000000002,0.2,0.2,0.10000000000000002,0.10000000000000002],\"showlegend\":false,\"mode\":\"lines\",\"fillcolor\":\"rgba(0, 0, 255, 1.000)\",\"name\":\"y1\",\"legendgroup\":\"y1\",\"line\":{\"color\":\"rgba(0, 0, 0, 1.000)\",\"dash\":\"solid\",\"width\":1},\"y\":[1.0,0.0,0.0,1.0,1.0,1.0],\"type\":\"scatter\"},{\"xaxis\":\"x2\",\"fill\":\"tozeroy\",\"yaxis\":\"y2\",\"x\":[0.2,0.2,0.3,0.3,0.2,0.2],\"showlegend\":false,\"mode\":\"lines\",\"fillcolor\":\"rgba(0, 0, 255, 1.000)\",\"name\":\"y1\",\"legendgroup\":\"y1\",\"line\":{\"color\":\"rgba(0, 0, 0, 1.000)\",\"dash\":\"solid\",\"width\":1},\"y\":[4.0,0.0,0.0,4.0,4.0,4.0],\"type\":\"scatter\"},{\"xaxis\":\"x2\",\"fill\":\"tozeroy\",\"yaxis\":\"y2\",\"x\":[0.29999999999999993,0.29999999999999993,0.4,0.4,0.29999999999999993,0.29999999999999993],\"showlegend\":false,\"mode\":\"lines\",\"fillcolor\":\"rgba(0, 0, 255, 1.000)\",\"name\":\"y1\",\"legendgroup\":\"y1\",\"line\":{\"color\":\"rgba(0, 0, 0, 1.000)\",\"dash\":\"solid\",\"width\":1},\"y\":[8.0,0.0,0.0,8.0,8.0,8.0],\"type\":\"scatter\"},{\"xaxis\":\"x2\",\"fill\":\"tozeroy\",\"yaxis\":\"y2\",\"x\":[0.4,0.4,0.5,0.5,0.4,0.4],\"showlegend\":false,\"mode\":\"lines\",\"fillcolor\":\"rgba(0, 0, 255, 1.000)\",\"name\":\"y1\",\"legendgroup\":\"y1\",\"line\":{\"color\":\"rgba(0, 0, 0, 1.000)\",\"dash\":\"solid\",\"width\":1},\"y\":[12.0,0.0,0.0,12.0,12.0,12.0],\"type\":\"scatter\"},{\"xaxis\":\"x2\",\"fill\":\"tozeroy\",\"yaxis\":\"y2\",\"x\":[0.5,0.5,0.6000000000000001,0.6000000000000001,0.5,0.5],\"showlegend\":false,\"mode\":\"lines\",\"fillcolor\":\"rgba(0, 0, 255, 1.000)\",\"name\":\"y1\",\"legendgroup\":\"y1\",\"line\":{\"color\":\"rgba(0, 0, 0, 1.000)\",\"dash\":\"solid\",\"width\":1},\"y\":[30.0,0.0,0.0,30.0,30.0,30.0],\"type\":\"scatter\"},{\"xaxis\":\"x2\",\"fill\":\"tozeroy\",\"yaxis\":\"y2\",\"x\":[0.5999999999999999,0.5999999999999999,0.7,0.7,0.5999999999999999,0.5999999999999999],\"showlegend\":false,\"mode\":\"lines\",\"fillcolor\":\"rgba(0, 0, 255, 1.000)\",\"name\":\"y1\",\"legendgroup\":\"y1\",\"line\":{\"color\":\"rgba(0, 0, 0, 1.000)\",\"dash\":\"solid\",\"width\":1},\"y\":[71.0,0.0,0.0,71.0,71.0,71.0],\"type\":\"scatter\"},{\"xaxis\":\"x2\",\"fill\":\"tozeroy\",\"yaxis\":\"y2\",\"x\":[0.7,0.7,0.8,0.8,0.7,0.7],\"showlegend\":false,\"mode\":\"lines\",\"fillcolor\":\"rgba(0, 0, 255, 1.000)\",\"name\":\"y1\",\"legendgroup\":\"y1\",\"line\":{\"color\":\"rgba(0, 0, 0, 1.000)\",\"dash\":\"solid\",\"width\":1},\"y\":[70.0,0.0,0.0,70.0,70.0,70.0],\"type\":\"scatter\"},{\"xaxis\":\"x2\",\"fill\":\"tozeroy\",\"yaxis\":\"y2\",\"x\":[0.8,0.8,0.9000000000000001,0.9000000000000001,0.8,0.8],\"showlegend\":false,\"mode\":\"lines\",\"fillcolor\":\"rgba(0, 0, 255, 1.000)\",\"name\":\"y1\",\"legendgroup\":\"y1\",\"line\":{\"color\":\"rgba(0, 0, 0, 1.000)\",\"dash\":\"solid\",\"width\":1},\"y\":[96.0,0.0,0.0,96.0,96.0,96.0],\"type\":\"scatter\"},{\"xaxis\":\"x2\",\"fill\":\"tozeroy\",\"yaxis\":\"y2\",\"x\":[0.8999999999999999,0.8999999999999999,1.0,1.0,0.8999999999999999,0.8999999999999999],\"showlegend\":false,\"mode\":\"lines\",\"fillcolor\":\"rgba(0, 0, 255, 1.000)\",\"name\":\"y1\",\"legendgroup\":\"y1\",\"line\":{\"color\":\"rgba(0, 0, 0, 1.000)\",\"dash\":\"solid\",\"width\":1},\"y\":[101.0,0.0,0.0,101.0,101.0,101.0],\"type\":\"scatter\"},{\"xaxis\":\"x2\",\"fill\":\"tozeroy\",\"yaxis\":\"y2\",\"x\":[1.0,1.0,1.1,1.1,1.0,1.0],\"showlegend\":false,\"mode\":\"lines\",\"fillcolor\":\"rgba(0, 0, 255, 1.000)\",\"name\":\"y1\",\"legendgroup\":\"y1\",\"line\":{\"color\":\"rgba(0, 0, 0, 1.000)\",\"dash\":\"solid\",\"width\":1},\"y\":[108.0,0.0,0.0,108.0,108.0,108.0],\"type\":\"scatter\"},{\"xaxis\":\"x2\",\"fill\":\"tozeroy\",\"yaxis\":\"y2\",\"x\":[1.1,1.1,1.1999999999999997,1.1999999999999997,1.1,1.1],\"showlegend\":false,\"mode\":\"lines\",\"fillcolor\":\"rgba(0, 0, 255, 1.000)\",\"name\":\"y1\",\"legendgroup\":\"y1\",\"line\":{\"color\":\"rgba(0, 0, 0, 1.000)\",\"dash\":\"solid\",\"width\":1},\"y\":[101.0,0.0,0.0,101.0,101.0,101.0],\"type\":\"scatter\"},{\"xaxis\":\"x2\",\"fill\":\"tozeroy\",\"yaxis\":\"y2\",\"x\":[1.2,1.2,1.3,1.3,1.2,1.2],\"showlegend\":false,\"mode\":\"lines\",\"fillcolor\":\"rgba(0, 0, 255, 1.000)\",\"name\":\"y1\",\"legendgroup\":\"y1\",\"line\":{\"color\":\"rgba(0, 0, 0, 1.000)\",\"dash\":\"solid\",\"width\":1},\"y\":[99.0,0.0,0.0,99.0,99.0,99.0],\"type\":\"scatter\"},{\"xaxis\":\"x2\",\"fill\":\"tozeroy\",\"yaxis\":\"y2\",\"x\":[1.3000000000000003,1.3000000000000003,1.4,1.4,1.3000000000000003,1.3000000000000003],\"showlegend\":false,\"mode\":\"lines\",\"fillcolor\":\"rgba(0, 0, 255, 1.000)\",\"name\":\"y1\",\"legendgroup\":\"y1\",\"line\":{\"color\":\"rgba(0, 0, 0, 1.000)\",\"dash\":\"solid\",\"width\":1},\"y\":[47.0,0.0,0.0,47.0,47.0,47.0],\"type\":\"scatter\"},{\"xaxis\":\"x2\",\"fill\":\"tozeroy\",\"yaxis\":\"y2\",\"x\":[1.4,1.4,1.5,1.5,1.4,1.4],\"showlegend\":false,\"mode\":\"lines\",\"fillcolor\":\"rgba(0, 0, 255, 1.000)\",\"name\":\"y1\",\"legendgroup\":\"y1\",\"line\":{\"color\":\"rgba(0, 0, 0, 1.000)\",\"dash\":\"solid\",\"width\":1},\"y\":[24.0,0.0,0.0,24.0,24.0,24.0],\"type\":\"scatter\"},{\"xaxis\":\"x2\",\"fill\":\"tozeroy\",\"yaxis\":\"y2\",\"x\":[1.5,1.5,1.6,1.6,1.5,1.5],\"showlegend\":false,\"mode\":\"lines\",\"fillcolor\":\"rgba(0, 0, 255, 1.000)\",\"name\":\"y1\",\"legendgroup\":\"y1\",\"line\":{\"color\":\"rgba(0, 0, 0, 1.000)\",\"dash\":\"solid\",\"width\":1},\"y\":[22.0,0.0,0.0,22.0,22.0,22.0],\"type\":\"scatter\"},{\"xaxis\":\"x2\",\"fill\":\"tozeroy\",\"yaxis\":\"y2\",\"x\":[1.6,1.6,1.6999999999999997,1.6999999999999997,1.6,1.6],\"showlegend\":false,\"mode\":\"lines\",\"fillcolor\":\"rgba(0, 0, 255, 1.000)\",\"name\":\"y1\",\"legendgroup\":\"y1\",\"line\":{\"color\":\"rgba(0, 0, 0, 1.000)\",\"dash\":\"solid\",\"width\":1},\"y\":[21.0,0.0,0.0,21.0,21.0,21.0],\"type\":\"scatter\"},{\"xaxis\":\"x2\",\"fill\":\"tozeroy\",\"yaxis\":\"y2\",\"x\":[1.7,1.7,1.8,1.8,1.7,1.7],\"showlegend\":false,\"mode\":\"lines\",\"fillcolor\":\"rgba(0, 0, 255, 1.000)\",\"name\":\"y1\",\"legendgroup\":\"y1\",\"line\":{\"color\":\"rgba(0, 0, 0, 1.000)\",\"dash\":\"solid\",\"width\":1},\"y\":[1.0,0.0,0.0,1.0,1.0,1.0],\"type\":\"scatter\"},{\"xaxis\":\"x2\",\"fill\":\"tozeroy\",\"yaxis\":\"y2\",\"x\":[1.8000000000000003,1.8000000000000003,1.9,1.9,1.8000000000000003,1.8000000000000003],\"showlegend\":false,\"mode\":\"lines\",\"fillcolor\":\"rgba(0, 0, 255, 1.000)\",\"name\":\"y1\",\"legendgroup\":\"y1\",\"line\":{\"color\":\"rgba(0, 0, 0, 1.000)\",\"dash\":\"solid\",\"width\":1},\"y\":[2.0,0.0,0.0,2.0,2.0,2.0],\"type\":\"scatter\"},{\"xaxis\":\"x2\",\"fill\":\"tozeroy\",\"yaxis\":\"y2\",\"x\":[1.9,1.9,2.0,2.0,1.9,1.9],\"showlegend\":false,\"mode\":\"lines\",\"fillcolor\":\"rgba(0, 0, 255, 1.000)\",\"name\":\"y1\",\"legendgroup\":\"y1\",\"line\":{\"color\":\"rgba(0, 0, 0, 1.000)\",\"dash\":\"solid\",\"width\":1},\"y\":[2.0,0.0,0.0,2.0,2.0,2.0],\"type\":\"scatter\"},{\"xaxis\":\"x1\",\"fill\":\"tozeroy\",\"yaxis\":\"y1\",\"x\":[-2.0,-2.0,-1.9,-1.9,-2.0,-2.0],\"showlegend\":true,\"mode\":\"lines\",\"fillcolor\":\"rgba(0, 0, 255, 1.000)\",\"name\":\"y2\",\"legendgroup\":\"y2\",\"line\":{\"color\":\"rgba(0, 0, 0, 1.000)\",\"dash\":\"solid\",\"width\":1},\"y\":[1.0,0.0,0.0,1.0,1.0,1.0],\"type\":\"scatter\"},{\"xaxis\":\"x1\",\"fill\":\"tozeroy\",\"yaxis\":\"y1\",\"x\":[-1.9,-1.9,-1.8000000000000003,-1.8000000000000003,-1.9,-1.9],\"showlegend\":false,\"mode\":\"lines\",\"fillcolor\":\"rgba(0, 0, 255, 1.000)\",\"name\":\"y2\",\"legendgroup\":\"y2\",\"line\":{\"color\":\"rgba(0, 0, 0, 1.000)\",\"dash\":\"solid\",\"width\":1},\"y\":[0.0,0.0,0.0,0.0,0.0,0.0],\"type\":\"scatter\"},{\"xaxis\":\"x1\",\"fill\":\"tozeroy\",\"yaxis\":\"y1\",\"x\":[-1.8,-1.8,-1.7,-1.7,-1.8,-1.8],\"showlegend\":false,\"mode\":\"lines\",\"fillcolor\":\"rgba(0, 0, 255, 1.000)\",\"name\":\"y2\",\"legendgroup\":\"y2\",\"line\":{\"color\":\"rgba(0, 0, 0, 1.000)\",\"dash\":\"solid\",\"width\":1},\"y\":[1.0,0.0,0.0,1.0,1.0,1.0],\"type\":\"scatter\"},{\"xaxis\":\"x1\",\"fill\":\"tozeroy\",\"yaxis\":\"y1\",\"x\":[-1.6999999999999997,-1.6999999999999997,-1.6,-1.6,-1.6999999999999997,-1.6999999999999997],\"showlegend\":false,\"mode\":\"lines\",\"fillcolor\":\"rgba(0, 0, 255, 1.000)\",\"name\":\"y2\",\"legendgroup\":\"y2\",\"line\":{\"color\":\"rgba(0, 0, 0, 1.000)\",\"dash\":\"solid\",\"width\":1},\"y\":[8.0,0.0,0.0,8.0,8.0,8.0],\"type\":\"scatter\"},{\"xaxis\":\"x1\",\"fill\":\"tozeroy\",\"yaxis\":\"y1\",\"x\":[-1.6,-1.6,-1.5,-1.5,-1.6,-1.6],\"showlegend\":false,\"mode\":\"lines\",\"fillcolor\":\"rgba(0, 0, 255, 1.000)\",\"name\":\"y2\",\"legendgroup\":\"y2\",\"line\":{\"color\":\"rgba(0, 0, 0, 1.000)\",\"dash\":\"solid\",\"width\":1},\"y\":[11.0,0.0,0.0,11.0,11.0,11.0],\"type\":\"scatter\"},{\"xaxis\":\"x1\",\"fill\":\"tozeroy\",\"yaxis\":\"y1\",\"x\":[-1.5,-1.5,-1.4,-1.4,-1.5,-1.5],\"showlegend\":false,\"mode\":\"lines\",\"fillcolor\":\"rgba(0, 0, 255, 1.000)\",\"name\":\"y2\",\"legendgroup\":\"y2\",\"line\":{\"color\":\"rgba(0, 0, 0, 1.000)\",\"dash\":\"solid\",\"width\":1},\"y\":[40.0,0.0,0.0,40.0,40.0,40.0],\"type\":\"scatter\"},{\"xaxis\":\"x1\",\"fill\":\"tozeroy\",\"yaxis\":\"y1\",\"x\":[-1.4,-1.4,-1.3000000000000003,-1.3000000000000003,-1.4,-1.4],\"showlegend\":false,\"mode\":\"lines\",\"fillcolor\":\"rgba(0, 0, 255, 1.000)\",\"name\":\"y2\",\"legendgroup\":\"y2\",\"line\":{\"color\":\"rgba(0, 0, 0, 1.000)\",\"dash\":\"solid\",\"width\":1},\"y\":[47.0,0.0,0.0,47.0,47.0,47.0],\"type\":\"scatter\"},{\"xaxis\":\"x1\",\"fill\":\"tozeroy\",\"yaxis\":\"y1\",\"x\":[-1.3,-1.3,-1.2,-1.2,-1.3,-1.3],\"showlegend\":false,\"mode\":\"lines\",\"fillcolor\":\"rgba(0, 0, 255, 1.000)\",\"name\":\"y2\",\"legendgroup\":\"y2\",\"line\":{\"color\":\"rgba(0, 0, 0, 1.000)\",\"dash\":\"solid\",\"width\":1},\"y\":[63.0,0.0,0.0,63.0,63.0,63.0],\"type\":\"scatter\"},{\"xaxis\":\"x1\",\"fill\":\"tozeroy\",\"yaxis\":\"y1\",\"x\":[-1.1999999999999997,-1.1999999999999997,-1.1,-1.1,-1.1999999999999997,-1.1999999999999997],\"showlegend\":false,\"mode\":\"lines\",\"fillcolor\":\"rgba(0, 0, 255, 1.000)\",\"name\":\"y2\",\"legendgroup\":\"y2\",\"line\":{\"color\":\"rgba(0, 0, 0, 1.000)\",\"dash\":\"solid\",\"width\":1},\"y\":[101.0,0.0,0.0,101.0,101.0,101.0],\"type\":\"scatter\"},{\"xaxis\":\"x1\",\"fill\":\"tozeroy\",\"yaxis\":\"y1\",\"x\":[-1.1,-1.1,-1.0,-1.0,-1.1,-1.1],\"showlegend\":false,\"mode\":\"lines\",\"fillcolor\":\"rgba(0, 0, 255, 1.000)\",\"name\":\"y2\",\"legendgroup\":\"y2\",\"line\":{\"color\":\"rgba(0, 0, 0, 1.000)\",\"dash\":\"solid\",\"width\":1},\"y\":[103.0,0.0,0.0,103.0,103.0,103.0],\"type\":\"scatter\"},{\"xaxis\":\"x1\",\"fill\":\"tozeroy\",\"yaxis\":\"y1\",\"x\":[-1.0,-1.0,-0.8999999999999999,-0.8999999999999999,-1.0,-1.0],\"showlegend\":false,\"mode\":\"lines\",\"fillcolor\":\"rgba(0, 0, 255, 1.000)\",\"name\":\"y2\",\"legendgroup\":\"y2\",\"line\":{\"color\":\"rgba(0, 0, 0, 1.000)\",\"dash\":\"solid\",\"width\":1},\"y\":[117.0,0.0,0.0,117.0,117.0,117.0],\"type\":\"scatter\"},{\"xaxis\":\"x1\",\"fill\":\"tozeroy\",\"yaxis\":\"y1\",\"x\":[-0.9000000000000001,-0.9000000000000001,-0.8,-0.8,-0.9000000000000001,-0.9000000000000001],\"showlegend\":false,\"mode\":\"lines\",\"fillcolor\":\"rgba(0, 0, 255, 1.000)\",\"name\":\"y2\",\"legendgroup\":\"y2\",\"line\":{\"color\":\"rgba(0, 0, 0, 1.000)\",\"dash\":\"solid\",\"width\":1},\"y\":[110.0,0.0,0.0,110.0,110.0,110.0],\"type\":\"scatter\"},{\"xaxis\":\"x1\",\"fill\":\"tozeroy\",\"yaxis\":\"y1\",\"x\":[-0.8,-0.8,-0.7,-0.7,-0.8,-0.8],\"showlegend\":false,\"mode\":\"lines\",\"fillcolor\":\"rgba(0, 0, 255, 1.000)\",\"name\":\"y2\",\"legendgroup\":\"y2\",\"line\":{\"color\":\"rgba(0, 0, 0, 1.000)\",\"dash\":\"solid\",\"width\":1},\"y\":[87.0,0.0,0.0,87.0,87.0,87.0],\"type\":\"scatter\"},{\"xaxis\":\"x1\",\"fill\":\"tozeroy\",\"yaxis\":\"y1\",\"x\":[-0.7,-0.7,-0.5999999999999999,-0.5999999999999999,-0.7,-0.7],\"showlegend\":false,\"mode\":\"lines\",\"fillcolor\":\"rgba(0, 0, 255, 1.000)\",\"name\":\"y2\",\"legendgroup\":\"y2\",\"line\":{\"color\":\"rgba(0, 0, 0, 1.000)\",\"dash\":\"solid\",\"width\":1},\"y\":[67.0,0.0,0.0,67.0,67.0,67.0],\"type\":\"scatter\"},{\"xaxis\":\"x1\",\"fill\":\"tozeroy\",\"yaxis\":\"y1\",\"x\":[-0.6000000000000001,-0.6000000000000001,-0.5,-0.5,-0.6000000000000001,-0.6000000000000001],\"showlegend\":false,\"mode\":\"lines\",\"fillcolor\":\"rgba(0, 0, 255, 1.000)\",\"name\":\"y2\",\"legendgroup\":\"y2\",\"line\":{\"color\":\"rgba(0, 0, 0, 1.000)\",\"dash\":\"solid\",\"width\":1},\"y\":[35.0,0.0,0.0,35.0,35.0,35.0],\"type\":\"scatter\"},{\"xaxis\":\"x1\",\"fill\":\"tozeroy\",\"yaxis\":\"y1\",\"x\":[-0.5,-0.5,-0.4,-0.4,-0.5,-0.5],\"showlegend\":false,\"mode\":\"lines\",\"fillcolor\":\"rgba(0, 0, 255, 1.000)\",\"name\":\"y2\",\"legendgroup\":\"y2\",\"line\":{\"color\":\"rgba(0, 0, 0, 1.000)\",\"dash\":\"solid\",\"width\":1},\"y\":[17.0,0.0,0.0,17.0,17.0,17.0],\"type\":\"scatter\"},{\"xaxis\":\"x1\",\"fill\":\"tozeroy\",\"yaxis\":\"y1\",\"x\":[-0.4,-0.4,-0.29999999999999993,-0.29999999999999993,-0.4,-0.4],\"showlegend\":false,\"mode\":\"lines\",\"fillcolor\":\"rgba(0, 0, 255, 1.000)\",\"name\":\"y2\",\"legendgroup\":\"y2\",\"line\":{\"color\":\"rgba(0, 0, 0, 1.000)\",\"dash\":\"solid\",\"width\":1},\"y\":[12.0,0.0,0.0,12.0,12.0,12.0],\"type\":\"scatter\"},{\"xaxis\":\"x1\",\"fill\":\"tozeroy\",\"yaxis\":\"y1\",\"x\":[-0.3,-0.3,-0.2,-0.2,-0.3,-0.3],\"showlegend\":false,\"mode\":\"lines\",\"fillcolor\":\"rgba(0, 0, 255, 1.000)\",\"name\":\"y2\",\"legendgroup\":\"y2\",\"line\":{\"color\":\"rgba(0, 0, 0, 1.000)\",\"dash\":\"solid\",\"width\":1},\"y\":[3.0,0.0,0.0,3.0,3.0,3.0],\"type\":\"scatter\"},{\"xaxis\":\"x1\",\"fill\":\"tozeroy\",\"yaxis\":\"y1\",\"x\":[-0.2,-0.2,-0.10000000000000002,-0.10000000000000002,-0.2,-0.2],\"showlegend\":false,\"mode\":\"lines\",\"fillcolor\":\"rgba(0, 0, 255, 1.000)\",\"name\":\"y2\",\"legendgroup\":\"y2\",\"line\":{\"color\":\"rgba(0, 0, 0, 1.000)\",\"dash\":\"solid\",\"width\":1},\"y\":[2.0,0.0,0.0,2.0,2.0,2.0],\"type\":\"scatter\"},{\"xaxis\":\"x1\",\"fill\":\"tozeroy\",\"yaxis\":\"y1\",\"x\":[-0.1,-0.1,0.0,0.0,-0.1,-0.1],\"showlegend\":false,\"mode\":\"lines\",\"fillcolor\":\"rgba(0, 0, 255, 1.000)\",\"name\":\"y2\",\"legendgroup\":\"y2\",\"line\":{\"color\":\"rgba(0, 0, 0, 1.000)\",\"dash\":\"solid\",\"width\":1},\"y\":[1.0,0.0,0.0,1.0,1.0,1.0],\"type\":\"scatter\"},{\"xaxis\":\"x1\",\"fill\":\"tozeroy\",\"yaxis\":\"y1\",\"x\":[0.0,0.0,0.1,0.1,0.0,0.0],\"showlegend\":false,\"mode\":\"lines\",\"fillcolor\":\"rgba(0, 0, 255, 1.000)\",\"name\":\"y2\",\"legendgroup\":\"y2\",\"line\":{\"color\":\"rgba(0, 0, 0, 1.000)\",\"dash\":\"solid\",\"width\":1},\"y\":[0.0,0.0,0.0,0.0,0.0,0.0],\"type\":\"scatter\"},{\"xaxis\":\"x1\",\"fill\":\"tozeroy\",\"yaxis\":\"y1\",\"x\":[0.10000000000000002,0.10000000000000002,0.2,0.2,0.10000000000000002,0.10000000000000002],\"showlegend\":false,\"mode\":\"lines\",\"fillcolor\":\"rgba(0, 0, 255, 1.000)\",\"name\":\"y2\",\"legendgroup\":\"y2\",\"line\":{\"color\":\"rgba(0, 0, 0, 1.000)\",\"dash\":\"solid\",\"width\":1},\"y\":[1.0,0.0,0.0,1.0,1.0,1.0],\"type\":\"scatter\"},{\"xaxis\":\"x1\",\"fill\":\"tozeroy\",\"yaxis\":\"y1\",\"x\":[0.2,0.2,0.3,0.3,0.2,0.2],\"showlegend\":false,\"mode\":\"lines\",\"fillcolor\":\"rgba(0, 0, 255, 1.000)\",\"name\":\"y2\",\"legendgroup\":\"y2\",\"line\":{\"color\":\"rgba(0, 0, 0, 1.000)\",\"dash\":\"solid\",\"width\":1},\"y\":[2.0,0.0,0.0,2.0,2.0,2.0],\"type\":\"scatter\"}];\n",
       "var layout_29c560fe = {\"paper_bgcolor\":\"rgba(255, 255, 255, 1.000)\",\"height\":400,\"yaxis2\":{\"showticklabels\":true,\"gridwidth\":0.5,\"tickvals\":[0.0,25.0,50.0,75.0,100.0],\"visible\":true,\"ticks\":\"inside\",\"range\":[-3.2399999999999998,111.24],\"domain\":[0.07581474190726165,0.9901574803149606],\"tickmode\":\"array\",\"linecolor\":\"rgba(0, 0, 0, 1.000)\",\"showgrid\":true,\"title\":\"\",\"mirror\":false,\"tickangle\":0,\"showline\":true,\"gridcolor\":\"rgba(0, 0, 0, 0.100)\",\"titlefont\":{\"color\":\"rgba(0, 0, 0, 1.000)\",\"family\":\"sans-serif\",\"size\":15},\"tickcolor\":\"rgb(0, 0, 0)\",\"ticktext\":[\"0\",\"25\",\"50\",\"75\",\"100\"],\"zeroline\":false,\"type\":\"-\",\"tickfont\":{\"color\":\"rgba(0, 0, 0, 1.000)\",\"family\":\"sans-serif\",\"size\":11},\"zerolinecolor\":\"rgba(0, 0, 0, 1.000)\",\"anchor\":\"x2\"},\"yaxis1\":{\"showticklabels\":true,\"gridwidth\":0.5,\"tickvals\":[0.0,25.0,50.0,75.0,100.0],\"visible\":true,\"ticks\":\"inside\",\"range\":[-3.51,120.51],\"domain\":[0.07581474190726165,0.9901574803149606],\"tickmode\":\"array\",\"linecolor\":\"rgba(0, 0, 0, 1.000)\",\"showgrid\":true,\"title\":\"\",\"mirror\":false,\"tickangle\":0,\"showline\":true,\"gridcolor\":\"rgba(0, 0, 0, 0.100)\",\"titlefont\":{\"color\":\"rgba(0, 0, 0, 1.000)\",\"family\":\"sans-serif\",\"size\":15},\"tickcolor\":\"rgb(0, 0, 0)\",\"ticktext\":[\"0\",\"25\",\"50\",\"75\",\"100\"],\"zeroline\":false,\"type\":\"-\",\"tickfont\":{\"color\":\"rgba(0, 0, 0, 1.000)\",\"family\":\"sans-serif\",\"size\":11},\"zerolinecolor\":\"rgba(0, 0, 0, 1.000)\",\"anchor\":\"x1\"},\"annotations\":[],\"plot_bgcolor\":\"rgba(255, 255, 255, 1.000)\",\"showlegend\":false,\"xaxis1\":{\"showticklabels\":true,\"gridwidth\":0.5,\"tickvals\":[-2.0,-1.5,-1.0,-0.5,0.0],\"visible\":true,\"ticks\":\"inside\",\"range\":[-2.14214,0.44214],\"domain\":[0.05100612423447069,0.4934383202099738],\"tickmode\":\"array\",\"linecolor\":\"rgba(0, 0, 0, 1.000)\",\"showgrid\":true,\"title\":\"p1\",\"mirror\":false,\"tickangle\":0,\"showline\":true,\"gridcolor\":\"rgba(0, 0, 0, 0.100)\",\"titlefont\":{\"color\":\"rgba(0, 0, 0, 1.000)\",\"family\":\"sans-serif\",\"size\":15},\"tickcolor\":\"rgb(0, 0, 0)\",\"ticktext\":[\"-2.0\",\"-1.5\",\"-1.0\",\"-0.5\",\"0.0\"],\"zeroline\":false,\"type\":\"-\",\"tickfont\":{\"color\":\"rgba(0, 0, 0, 1.000)\",\"family\":\"sans-serif\",\"size\":11},\"zerolinecolor\":\"rgba(0, 0, 0, 1.000)\",\"anchor\":\"y1\"},\"xaxis2\":{\"showticklabels\":true,\"gridwidth\":0.5,\"tickvals\":[0.0,0.5,1.0,1.5,2.0],\"visible\":true,\"ticks\":\"inside\",\"range\":[-0.33596000000000004,2.13596],\"domain\":[0.5510061242344708,0.9934383202099739],\"tickmode\":\"array\",\"linecolor\":\"rgba(0, 0, 0, 1.000)\",\"showgrid\":true,\"title\":\"p2\",\"mirror\":false,\"tickangle\":0,\"showline\":true,\"gridcolor\":\"rgba(0, 0, 0, 0.100)\",\"titlefont\":{\"color\":\"rgba(0, 0, 0, 1.000)\",\"family\":\"sans-serif\",\"size\":15},\"tickcolor\":\"rgb(0, 0, 0)\",\"ticktext\":[\"0.0\",\"0.5\",\"1.0\",\"1.5\",\"2.0\"],\"zeroline\":false,\"type\":\"-\",\"tickfont\":{\"color\":\"rgba(0, 0, 0, 1.000)\",\"family\":\"sans-serif\",\"size\":11},\"zerolinecolor\":\"rgba(0, 0, 0, 1.000)\",\"anchor\":\"y2\"},\"margin\":{\"l\":0,\"b\":20,\"r\":0,\"t\":20},\"width\":600};\n",
       "\n",
       "        if (!requirejs.specified('plotly')) {\n",
       "          requirejs.config({\n",
       "            paths: {\n",
       "              'plotly_cdn': ['https://cdn.plot.ly/plotly-latest.min']\n",
       "            },\n",
       "          });\n",
       "          require(['plotly_cdn'], function(Plotly) {\n",
       "            Plotly.newPlot('29c560fe-1ee4-438f-967f-de99415632c3',\n",
       "    data_29c560fe, layout_29c560fe,\n",
       "    {showLink: false}\n",
       ");\n",
       "\n",
       "          });\n",
       "        } else {\n",
       "          require(['plotly'], function(Plotly) {\n",
       "            Plotly.newPlot('29c560fe-1ee4-438f-967f-de99415632c3',\n",
       "    data_29c560fe, layout_29c560fe,\n",
       "    {showLink: false}\n",
       ");\n",
       "\n",
       "            if (window.Plotly == undefined) {\n",
       "                window.Plotly = Plotly;\n",
       "            }\n",
       "          });\n",
       "        }\n",
       "    })();\n",
       " </script>\n"
      ]
     },
     "metadata": {},
     "output_type": "display_data"
    }
   ],
   "source": [
    "# Plot histograms for the first chain, the one with which inference should be done.\n",
    "# Other chains are used to explore the space and avoid local minima\n",
    "#-------------------------------------------------------------------------------\n",
    "p1 = histogram(MA.chains[1])\n",
    "display(p1)\n",
    "\n",
    "if savePlots == true\n",
    "    savefig(p1, joinpath(pwd(),\"histogram.svg\"))\n",
    "end\n",
    "\n",
    "# Plot the realization of the first chain\n",
    "#----------------------------------------\n",
    "p2 = plot(MA.chains[1])\n",
    "if savePlots == true\n",
    "    savefig(p2, joinpath(pwd(),\"lines.svg\"))\n",
    "end\n",
    "display(p2)"
   ]
  },
  {
   "cell_type": "code",
   "execution_count": 17,
   "metadata": {},
   "outputs": [
    {
     "name": "stdout",
     "output_type": "stream",
     "text": [
      "Quasi posterior mean for p1 = -0.9933866913736091\n",
      "Quasi posterior median for p1 = -1.0042108996171293\n",
      "True value = -1.0\n",
      "abs(True value - Quasi posterior median)  = 0.004210899617129282 \n",
      "\n",
      "Quasi posterior mean for p2 = 0.8741783094683604\n",
      "Quasi posterior median for p2 = 0.8783767138071625\n",
      "True value = 1.0\n",
      "abs(True value - Quasi posterior median)  = 0.12162328619283747 \n",
      "\n",
      "Quasi posterior mean for p3 = 4.884588560515209\n",
      "Quasi posterior median for p3 = 4.935585186131482\n",
      "True value = 5.0\n",
      "abs(True value - Quasi posterior median)  = 0.06441481386851766 \n",
      "\n",
      "Quasi posterior mean for p4 = -3.891640334309565\n",
      "Quasi posterior median for p4 = -3.955359653906345\n",
      "True value = -4.0\n",
      "abs(True value - Quasi posterior median)  = 0.04464034609365486 \n",
      "\n"
     ]
    }
   ],
   "source": [
    "# Realization of the first chain:\n",
    "#-------------------------------\n",
    "dat_chain1 = MomentOpt.history(MA.chains[1])\n",
    "\n",
    "# discard the first 10th of the observations (\"burn-in\" phase):\n",
    "#--------------------------------------------------------------\n",
    "dat_chain1[round(Int, niter/10):niter, :]\n",
    "\n",
    "# keep only accepted draws:\n",
    "#--------------------------\n",
    "dat_chain1 = dat_chain1[dat_chain1[:accepted ].== true, : ]\n",
    "\n",
    "# create a list with the parameters to be estimated\n",
    "parameters = [Symbol(String(\"mu$(i)\")) for i=1:4]\n",
    "# list with the corresponding priors:\n",
    "#------------------------------------\n",
    "estimatedParameters = [Symbol(String(\"p$(i)\")) for i=1:4]\n",
    "\n",
    "\n",
    "# Quasi Posterior mean and quasi posterior median for each parameter:\n",
    "#-------------------------------------------------------------------\n",
    "for (estimatedParameter, param) in zip(estimatedParameters, parameters)\n",
    "\n",
    "  println(\"Quasi posterior mean for $(String(estimatedParameter)) = $(mean(dat_chain1[estimatedParameter]))\")\n",
    "  println(\"Quasi posterior median for $(String(estimatedParameter)) = $(median(dat_chain1[estimatedParameter]))\")\n",
    "  println(\"True value = $(trueValues[String(param)][])\")\n",
    "  println(\"abs(True value - Quasi posterior median)  = $(abs(median(dat_chain1[estimatedParameter]) - trueValues[String(param)][])) \\n\")\n",
    "\n",
    "end"
   ]
  },
  {
   "cell_type": "markdown",
   "metadata": {},
   "source": [
    "## Slices"
   ]
  },
  {
   "cell_type": "code",
   "execution_count": 18,
   "metadata": {},
   "outputs": [
    {
     "name": "stderr",
     "output_type": "stream",
     "text": [
      "12:40:37:INFO:Main:slicing along p1\n",
      "12:40:41:INFO:Main:slicing along p2\n",
      "12:40:45:INFO:Main:slicing along p3\n",
      "12:40:49:INFO:Main:slicing along p4\n",
      "12:40:53:INFO:Main:done after 0.0 minutes\n"
     ]
    },
    {
     "data": {
      "application/vnd.plotly.v1+json": {
       "data": [
        {
         "colorbar": {
          "title": ""
         },
         "hoverinfo": "text",
         "legendgroup": "y1",
         "line": {
          "color": "rgba(0, 0, 0, 1.000)",
          "dash": "solid",
          "shape": "linear",
          "width": 1
         },
         "mode": "lines",
         "name": "y1",
         "showlegend": true,
         "text": [
          null,
          null,
          null,
          null,
          null,
          null,
          null,
          null,
          null,
          null,
          null,
          null,
          null,
          null,
          null,
          null,
          null,
          null,
          null,
          null
         ],
         "type": "scatter",
         "x": [
          -2,
          -1.7894736842105263,
          -1.5789473684210527,
          -1.368421052631579,
          -1.1578947368421053,
          -0.9473684210526315,
          -0.7368421052631579,
          -0.5263157894736842,
          -0.3157894736842105,
          -0.10526315789473684,
          0.10526315789473684,
          0.3157894736842105,
          0.5263157894736842,
          0.7368421052631579,
          0.9473684210526315,
          1.1578947368421053,
          1.368421052631579,
          1.5789473684210527,
          1.7894736842105263,
          2
         ],
         "xaxis": "x2",
         "y": [
          12.440513320810334,
          12.117750661236723,
          11.836798387188042,
          11.578980027565102,
          11.337330946603611,
          11.134507880725653,
          10.935226303438785,
          10.77331204763909,
          10.620821237666528,
          10.492525329154955,
          10.391154676181223,
          10.311911536614593,
          10.250276710317248,
          10.199833414309406,
          10.180027961456286,
          10.19946848042708,
          10.234311488353221,
          10.261844423524431,
          10.330375066148836,
          10.435530538892566
         ],
         "yaxis": "y2"
        },
        {
         "colorbar": {
          "title": ""
         },
         "hoverinfo": "text",
         "legendgroup": "y2",
         "line": {
          "color": "rgba(0, 0, 0, 1.000)",
          "dash": "solid",
          "shape": "linear",
          "width": 1
         },
         "mode": "lines",
         "name": "y2",
         "showlegend": true,
         "text": [
          null,
          null,
          null,
          null,
          null,
          null,
          null,
          null,
          null,
          null,
          null,
          null,
          null,
          null,
          null,
          null,
          null,
          null,
          null,
          null
         ],
         "type": "scatter",
         "x": [
          -10,
          -9.473684210526315,
          -8.947368421052632,
          -8.421052631578947,
          -7.894736842105263,
          -7.368421052631579,
          -6.842105263157895,
          -6.315789473684211,
          -5.7894736842105265,
          -5.2631578947368425,
          -4.7368421052631575,
          -4.2105263157894735,
          -3.6842105263157894,
          -3.1578947368421053,
          -2.6315789473684212,
          -2.1052631578947367,
          -1.5789473684210527,
          -1.0526315789473684,
          -0.5263157894736842,
          0
         ],
         "xaxis": "x2",
         "y": [
          15.72428155160101,
          14.234455107008259,
          12.854062572980443,
          11.635188085921811,
          10.52578644087259,
          9.584646960757418,
          8.75601848682484,
          8.077575331601498,
          7.546926834846824,
          7.136436371104477,
          6.8781574833414085,
          6.74260085335006,
          6.766069489295163,
          6.9177458454886835,
          7.205486699767665,
          7.645671091207366,
          8.220695182536268,
          8.920399103411997,
          9.749735988899996,
          10.756301292109065
         ],
         "yaxis": "y4"
        },
        {
         "colorbar": {
          "title": ""
         },
         "hoverinfo": "text",
         "legendgroup": "y3",
         "line": {
          "color": "rgba(0, 0, 0, 1.000)",
          "dash": "solid",
          "shape": "linear",
          "width": 1
         },
         "mode": "lines",
         "name": "y3",
         "showlegend": true,
         "text": [
          null,
          null,
          null,
          null,
          null,
          null,
          null,
          null,
          null,
          null,
          null,
          null,
          null,
          null,
          null,
          null,
          null,
          null,
          null,
          null
         ],
         "type": "scatter",
         "x": [
          -3,
          -2.6842105263157894,
          -2.3684210526315788,
          -2.0526315789473686,
          -1.736842105263158,
          -1.4210526315789473,
          -1.105263157894737,
          -0.7894736842105263,
          -0.47368421052631576,
          -0.15789473684210525,
          0.15789473684210525,
          0.47368421052631576,
          0.7894736842105263,
          1.105263157894737,
          1.4210526315789473,
          1.736842105263158,
          2.0526315789473686,
          2.3684210526315788,
          2.6842105263157894,
          3
         ],
         "xaxis": "x1",
         "y": [
          11.176855533977527,
          10.885034038091217,
          10.653697389386775,
          10.458210187029788,
          10.328685815464015,
          10.244581691966768,
          10.201117193035888,
          10.19233589365259,
          10.265773791879798,
          10.354968137931214,
          10.509753750527004,
          10.718548770611616,
          11.003871417702525,
          11.292506103955134,
          11.644032658499096,
          12.04890886861254,
          12.492486753923782,
          13.007369948019338,
          13.568213470135834,
          14.18230864605616
         ],
         "yaxis": "y1"
        },
        {
         "colorbar": {
          "title": ""
         },
         "hoverinfo": "text",
         "legendgroup": "y4",
         "line": {
          "color": "rgba(0, 0, 0, 1.000)",
          "dash": "solid",
          "shape": "linear",
          "width": 1
         },
         "mode": "lines",
         "name": "y4",
         "showlegend": true,
         "text": [
          null,
          null,
          null,
          null,
          null,
          null,
          null,
          null,
          null,
          null,
          null,
          null,
          null,
          null,
          null,
          null,
          null,
          null,
          null,
          null
         ],
         "type": "scatter",
         "x": [
          0,
          0.5263157894736842,
          1.0526315789473684,
          1.5789473684210527,
          2.1052631578947367,
          2.6315789473684212,
          3.1578947368421053,
          3.6842105263157894,
          4.2105263157894735,
          4.7368421052631575,
          5.2631578947368425,
          5.7894736842105265,
          6.315789473684211,
          6.842105263157895,
          7.368421052631579,
          7.894736842105263,
          8.421052631578947,
          8.947368421052632,
          9.473684210526315,
          10
         ],
         "xaxis": "x1",
         "y": [
          10.784182774842048,
          9.554891069620417,
          8.442828325645484,
          7.452336777000953,
          6.618998056506154,
          5.943613758080216,
          5.389345491831092,
          4.957389710741185,
          4.682654030805942,
          4.541706089593007,
          4.542204756864938,
          4.672411209626522,
          4.960278869086058,
          5.371756042243189,
          5.923351147421596,
          6.6109096988870775,
          7.442865755819846,
          8.4106832479249,
          9.502251642035604,
          10.749505429170004
         ],
         "yaxis": "y3"
        }
       ],
       "layout": {
        "annotations": [],
        "height": 400,
        "margin": {
         "b": 20,
         "l": 0,
         "r": 0,
         "t": 20
        },
        "paper_bgcolor": "rgba(255, 255, 255, 1.000)",
        "plot_bgcolor": "rgba(255, 255, 255, 1.000)",
        "showlegend": false,
        "width": 600,
        "xaxis1": {
         "anchor": "y3",
         "domain": [
          0.061654272382618835,
          0.4913549868766405
         ],
         "gridcolor": "rgba(0, 0, 0, 0.100)",
         "gridwidth": 0.5,
         "linecolor": "rgba(0, 0, 0, 1.000)",
         "mirror": false,
         "range": [
          -3.39,
          10.39
         ],
         "showgrid": true,
         "showline": true,
         "showticklabels": true,
         "tickangle": 0,
         "tickcolor": "rgb(0, 0, 0)",
         "tickfont": {
          "color": "rgba(0, 0, 0, 1.000)",
          "family": "sans-serif",
          "size": 11
         },
         "tickmode": "array",
         "ticks": "inside",
         "ticktext": [
          "-2",
          "0",
          "2",
          "4",
          "6",
          "8",
          "10"
         ],
         "tickvals": [
          -2,
          0,
          2,
          4,
          6,
          8,
          10
         ],
         "title": "p3",
         "titlefont": {
          "color": "rgba(0, 0, 0, 1.000)",
          "family": "sans-serif",
          "size": 15
         },
         "type": "-",
         "visible": true,
         "zeroline": false,
         "zerolinecolor": "rgba(0, 0, 0, 1.000)"
        },
        "xaxis2": {
         "anchor": "y4",
         "domain": [
          0.5637376057159522,
          0.9934383202099739
         ],
         "gridcolor": "rgba(0, 0, 0, 0.100)",
         "gridwidth": 0.5,
         "linecolor": "rgba(0, 0, 0, 1.000)",
         "mirror": false,
         "range": [
          -10.36,
          2.36
         ],
         "showgrid": true,
         "showline": true,
         "showticklabels": true,
         "tickangle": 0,
         "tickcolor": "rgb(0, 0, 0)",
         "tickfont": {
          "color": "rgba(0, 0, 0, 1.000)",
          "family": "sans-serif",
          "size": 11
         },
         "tickmode": "array",
         "ticks": "inside",
         "ticktext": [
          "-10.0",
          "-7.5",
          "-5.0",
          "-2.5",
          "0.0"
         ],
         "tickvals": [
          -10,
          -7.5,
          -5,
          -2.5,
          0
         ],
         "title": "p4",
         "titlefont": {
          "color": "rgba(0, 0, 0, 1.000)",
          "family": "sans-serif",
          "size": 15
         },
         "type": "-",
         "visible": true,
         "zeroline": false,
         "zerolinecolor": "rgba(0, 0, 0, 1.000)"
        },
        "yaxis1": {
         "anchor": "x1",
         "domain": [
          0.5758147419072616,
          0.9901574803149606
         ],
         "gridcolor": "rgba(0, 0, 0, 0.100)",
         "gridwidth": 0.5,
         "linecolor": "rgba(0, 0, 0, 1.000)",
         "mirror": false,
         "range": [
          10.072636711080483,
          14.302007828628268
         ],
         "showgrid": true,
         "showline": true,
         "showticklabels": true,
         "tickangle": 0,
         "tickcolor": "rgb(0, 0, 0)",
         "tickfont": {
          "color": "rgba(0, 0, 0, 1.000)",
          "family": "sans-serif",
          "size": 11
         },
         "tickmode": "array",
         "ticks": "inside",
         "ticktext": [
          "11",
          "12",
          "13",
          "14"
         ],
         "tickvals": [
          11,
          12,
          13,
          14
         ],
         "title": "value",
         "titlefont": {
          "color": "rgba(0, 0, 0, 1.000)",
          "family": "sans-serif",
          "size": 15
         },
         "type": "-",
         "visible": true,
         "zeroline": false,
         "zerolinecolor": "rgba(0, 0, 0, 1.000)"
        },
        "yaxis2": {
         "anchor": "x2",
         "domain": [
          0.5758147419072616,
          0.9901574803149606
         ],
         "gridcolor": "rgba(0, 0, 0, 0.100)",
         "gridwidth": 0.5,
         "linecolor": "rgba(0, 0, 0, 1.000)",
         "mirror": false,
         "range": [
          10.112213400675664,
          12.508327881590956
         ],
         "showgrid": true,
         "showline": true,
         "showticklabels": true,
         "tickangle": 0,
         "tickcolor": "rgb(0, 0, 0)",
         "tickfont": {
          "color": "rgba(0, 0, 0, 1.000)",
          "family": "sans-serif",
          "size": 11
         },
         "tickmode": "array",
         "ticks": "inside",
         "ticktext": [
          "10.5",
          "11.0",
          "11.5",
          "12.0",
          "12.5"
         ],
         "tickvals": [
          10.5,
          11,
          11.5,
          12,
          12.5
         ],
         "title": "",
         "titlefont": {
          "color": "rgba(0, 0, 0, 1.000)",
          "family": "sans-serif",
          "size": 15
         },
         "type": "-",
         "visible": true,
         "zeroline": false,
         "zerolinecolor": "rgba(0, 0, 0, 1.000)"
        },
        "yaxis3": {
         "anchor": "x1",
         "domain": [
          0.07581474190726165,
          0.49015748031496065
         ],
         "gridcolor": "rgba(0, 0, 0, 0.100)",
         "gridwidth": 0.5,
         "linecolor": "rgba(0, 0, 0, 1.000)",
         "mirror": false,
         "range": [
          4.354431789035536,
          10.971457075399519
         ],
         "showgrid": true,
         "showline": true,
         "showticklabels": true,
         "tickangle": 0,
         "tickcolor": "rgb(0, 0, 0)",
         "tickfont": {
          "color": "rgba(0, 0, 0, 1.000)",
          "family": "sans-serif",
          "size": 11
         },
         "tickmode": "array",
         "ticks": "inside",
         "ticktext": [
          "5",
          "6",
          "7",
          "8",
          "9",
          "10"
         ],
         "tickvals": [
          5,
          6,
          7,
          8,
          9,
          10
         ],
         "title": "value",
         "titlefont": {
          "color": "rgba(0, 0, 0, 1.000)",
          "family": "sans-serif",
          "size": 15
         },
         "type": "-",
         "visible": true,
         "zeroline": false,
         "zerolinecolor": "rgba(0, 0, 0, 1.000)"
        },
        "yaxis4": {
         "anchor": "x2",
         "domain": [
          0.07581474190726165,
          0.49015748031496065
         ],
         "gridcolor": "rgba(0, 0, 0, 0.100)",
         "gridwidth": 0.5,
         "linecolor": "rgba(0, 0, 0, 1.000)",
         "mirror": false,
         "range": [
          6.473150432402532,
          15.993731972548538
         ],
         "showgrid": true,
         "showline": true,
         "showticklabels": true,
         "tickangle": 0,
         "tickcolor": "rgb(0, 0, 0)",
         "tickfont": {
          "color": "rgba(0, 0, 0, 1.000)",
          "family": "sans-serif",
          "size": 11
         },
         "tickmode": "array",
         "ticks": "inside",
         "ticktext": [
          "8",
          "10",
          "12",
          "14"
         ],
         "tickvals": [
          8,
          10,
          12,
          14
         ],
         "title": "",
         "titlefont": {
          "color": "rgba(0, 0, 0, 1.000)",
          "family": "sans-serif",
          "size": 15
         },
         "type": "-",
         "visible": true,
         "zeroline": false,
         "zerolinecolor": "rgba(0, 0, 0, 1.000)"
        }
       }
      },
      "text/html": [
       "<div id=\"e3742a63-f35c-4a68-805d-87f0d51cac80\" class=\"plotly-graph-div\"></div>\n",
       "\n",
       "<script>\n",
       "    (function() {\n",
       "        var data_e3742a63 = [{\"xaxis\":\"x2\",\"colorbar\":{\"title\":\"\"},\"yaxis\":\"y2\",\"text\":[null,null,null,null,null,null,null,null,null,null,null,null,null,null,null,null,null,null,null,null],\"x\":[-2.0,-1.7894736842105263,-1.5789473684210527,-1.368421052631579,-1.1578947368421053,-0.9473684210526315,-0.7368421052631579,-0.5263157894736842,-0.3157894736842105,-0.10526315789473684,0.10526315789473684,0.3157894736842105,0.5263157894736842,0.7368421052631579,0.9473684210526315,1.1578947368421053,1.368421052631579,1.5789473684210527,1.7894736842105263,2.0],\"showlegend\":true,\"mode\":\"lines\",\"name\":\"y1\",\"legendgroup\":\"y1\",\"line\":{\"color\":\"rgba(0, 0, 0, 1.000)\",\"width\":1,\"dash\":\"solid\",\"shape\":\"linear\"},\"y\":[12.440513320810334,12.117750661236723,11.836798387188042,11.578980027565102,11.337330946603611,11.134507880725653,10.935226303438785,10.77331204763909,10.620821237666528,10.492525329154955,10.391154676181223,10.311911536614593,10.250276710317248,10.199833414309406,10.180027961456286,10.19946848042708,10.234311488353221,10.261844423524431,10.330375066148836,10.435530538892566],\"type\":\"scatter\",\"hoverinfo\":\"text\"},{\"xaxis\":\"x2\",\"colorbar\":{\"title\":\"\"},\"yaxis\":\"y4\",\"text\":[null,null,null,null,null,null,null,null,null,null,null,null,null,null,null,null,null,null,null,null],\"x\":[-10.0,-9.473684210526315,-8.947368421052632,-8.421052631578947,-7.894736842105263,-7.368421052631579,-6.842105263157895,-6.315789473684211,-5.7894736842105265,-5.2631578947368425,-4.7368421052631575,-4.2105263157894735,-3.6842105263157894,-3.1578947368421053,-2.6315789473684212,-2.1052631578947367,-1.5789473684210527,-1.0526315789473684,-0.5263157894736842,0.0],\"showlegend\":true,\"mode\":\"lines\",\"name\":\"y2\",\"legendgroup\":\"y2\",\"line\":{\"color\":\"rgba(0, 0, 0, 1.000)\",\"width\":1,\"dash\":\"solid\",\"shape\":\"linear\"},\"y\":[15.72428155160101,14.234455107008259,12.854062572980443,11.635188085921811,10.52578644087259,9.584646960757418,8.75601848682484,8.077575331601498,7.546926834846824,7.136436371104477,6.8781574833414085,6.74260085335006,6.766069489295163,6.9177458454886835,7.205486699767665,7.645671091207366,8.220695182536268,8.920399103411997,9.749735988899996,10.756301292109065],\"type\":\"scatter\",\"hoverinfo\":\"text\"},{\"xaxis\":\"x1\",\"colorbar\":{\"title\":\"\"},\"yaxis\":\"y1\",\"text\":[null,null,null,null,null,null,null,null,null,null,null,null,null,null,null,null,null,null,null,null],\"x\":[-3.0,-2.6842105263157894,-2.3684210526315788,-2.0526315789473686,-1.736842105263158,-1.4210526315789473,-1.105263157894737,-0.7894736842105263,-0.47368421052631576,-0.15789473684210525,0.15789473684210525,0.47368421052631576,0.7894736842105263,1.105263157894737,1.4210526315789473,1.736842105263158,2.0526315789473686,2.3684210526315788,2.6842105263157894,3.0],\"showlegend\":true,\"mode\":\"lines\",\"name\":\"y3\",\"legendgroup\":\"y3\",\"line\":{\"color\":\"rgba(0, 0, 0, 1.000)\",\"width\":1,\"dash\":\"solid\",\"shape\":\"linear\"},\"y\":[11.176855533977527,10.885034038091217,10.653697389386775,10.458210187029788,10.328685815464015,10.244581691966768,10.201117193035888,10.19233589365259,10.265773791879798,10.354968137931214,10.509753750527004,10.718548770611616,11.003871417702525,11.292506103955134,11.644032658499096,12.04890886861254,12.492486753923782,13.007369948019338,13.568213470135834,14.18230864605616],\"type\":\"scatter\",\"hoverinfo\":\"text\"},{\"xaxis\":\"x1\",\"colorbar\":{\"title\":\"\"},\"yaxis\":\"y3\",\"text\":[null,null,null,null,null,null,null,null,null,null,null,null,null,null,null,null,null,null,null,null],\"x\":[0.0,0.5263157894736842,1.0526315789473684,1.5789473684210527,2.1052631578947367,2.6315789473684212,3.1578947368421053,3.6842105263157894,4.2105263157894735,4.7368421052631575,5.2631578947368425,5.7894736842105265,6.315789473684211,6.842105263157895,7.368421052631579,7.894736842105263,8.421052631578947,8.947368421052632,9.473684210526315,10.0],\"showlegend\":true,\"mode\":\"lines\",\"name\":\"y4\",\"legendgroup\":\"y4\",\"line\":{\"color\":\"rgba(0, 0, 0, 1.000)\",\"width\":1,\"dash\":\"solid\",\"shape\":\"linear\"},\"y\":[10.784182774842048,9.554891069620417,8.442828325645484,7.452336777000953,6.618998056506154,5.943613758080216,5.389345491831092,4.957389710741185,4.682654030805942,4.541706089593007,4.542204756864938,4.672411209626522,4.960278869086058,5.371756042243189,5.923351147421596,6.6109096988870775,7.442865755819846,8.4106832479249,9.502251642035604,10.749505429170004],\"type\":\"scatter\",\"hoverinfo\":\"text\"}];\n",
       "var layout_e3742a63 = {\"paper_bgcolor\":\"rgba(255, 255, 255, 1.000)\",\"height\":400,\"yaxis4\":{\"showticklabels\":true,\"gridwidth\":0.5,\"tickvals\":[8.0,10.0,12.0,14.0],\"visible\":true,\"ticks\":\"inside\",\"range\":[6.473150432402532,15.993731972548538],\"domain\":[0.07581474190726165,0.49015748031496065],\"tickmode\":\"array\",\"linecolor\":\"rgba(0, 0, 0, 1.000)\",\"showgrid\":true,\"title\":\"\",\"mirror\":false,\"tickangle\":0,\"showline\":true,\"gridcolor\":\"rgba(0, 0, 0, 0.100)\",\"titlefont\":{\"color\":\"rgba(0, 0, 0, 1.000)\",\"family\":\"sans-serif\",\"size\":15},\"tickcolor\":\"rgb(0, 0, 0)\",\"ticktext\":[\"8\",\"10\",\"12\",\"14\"],\"zeroline\":false,\"type\":\"-\",\"tickfont\":{\"color\":\"rgba(0, 0, 0, 1.000)\",\"family\":\"sans-serif\",\"size\":11},\"zerolinecolor\":\"rgba(0, 0, 0, 1.000)\",\"anchor\":\"x2\"},\"yaxis2\":{\"showticklabels\":true,\"gridwidth\":0.5,\"tickvals\":[10.5,11.0,11.5,12.0,12.5],\"visible\":true,\"ticks\":\"inside\",\"range\":[10.112213400675664,12.508327881590956],\"domain\":[0.5758147419072616,0.9901574803149606],\"tickmode\":\"array\",\"linecolor\":\"rgba(0, 0, 0, 1.000)\",\"showgrid\":true,\"title\":\"\",\"mirror\":false,\"tickangle\":0,\"showline\":true,\"gridcolor\":\"rgba(0, 0, 0, 0.100)\",\"titlefont\":{\"color\":\"rgba(0, 0, 0, 1.000)\",\"family\":\"sans-serif\",\"size\":15},\"tickcolor\":\"rgb(0, 0, 0)\",\"ticktext\":[\"10.5\",\"11.0\",\"11.5\",\"12.0\",\"12.5\"],\"zeroline\":false,\"type\":\"-\",\"tickfont\":{\"color\":\"rgba(0, 0, 0, 1.000)\",\"family\":\"sans-serif\",\"size\":11},\"zerolinecolor\":\"rgba(0, 0, 0, 1.000)\",\"anchor\":\"x2\"},\"yaxis1\":{\"showticklabels\":true,\"gridwidth\":0.5,\"tickvals\":[11.0,12.0,13.0,14.0],\"visible\":true,\"ticks\":\"inside\",\"range\":[10.072636711080483,14.302007828628268],\"domain\":[0.5758147419072616,0.9901574803149606],\"tickmode\":\"array\",\"linecolor\":\"rgba(0, 0, 0, 1.000)\",\"showgrid\":true,\"title\":\"value\",\"mirror\":false,\"tickangle\":0,\"showline\":true,\"gridcolor\":\"rgba(0, 0, 0, 0.100)\",\"titlefont\":{\"color\":\"rgba(0, 0, 0, 1.000)\",\"family\":\"sans-serif\",\"size\":15},\"tickcolor\":\"rgb(0, 0, 0)\",\"ticktext\":[\"11\",\"12\",\"13\",\"14\"],\"zeroline\":false,\"type\":\"-\",\"tickfont\":{\"color\":\"rgba(0, 0, 0, 1.000)\",\"family\":\"sans-serif\",\"size\":11},\"zerolinecolor\":\"rgba(0, 0, 0, 1.000)\",\"anchor\":\"x1\"},\"annotations\":[],\"plot_bgcolor\":\"rgba(255, 255, 255, 1.000)\",\"showlegend\":false,\"xaxis1\":{\"showticklabels\":true,\"gridwidth\":0.5,\"tickvals\":[-2.0,0.0,2.0,4.0,6.0,8.0,10.0],\"visible\":true,\"ticks\":\"inside\",\"range\":[-3.39,10.39],\"domain\":[0.061654272382618835,0.4913549868766405],\"tickmode\":\"array\",\"linecolor\":\"rgba(0, 0, 0, 1.000)\",\"showgrid\":true,\"title\":\"p3\",\"mirror\":false,\"tickangle\":0,\"showline\":true,\"gridcolor\":\"rgba(0, 0, 0, 0.100)\",\"titlefont\":{\"color\":\"rgba(0, 0, 0, 1.000)\",\"family\":\"sans-serif\",\"size\":15},\"tickcolor\":\"rgb(0, 0, 0)\",\"ticktext\":[\"-2\",\"0\",\"2\",\"4\",\"6\",\"8\",\"10\"],\"zeroline\":false,\"type\":\"-\",\"tickfont\":{\"color\":\"rgba(0, 0, 0, 1.000)\",\"family\":\"sans-serif\",\"size\":11},\"zerolinecolor\":\"rgba(0, 0, 0, 1.000)\",\"anchor\":\"y3\"},\"yaxis3\":{\"showticklabels\":true,\"gridwidth\":0.5,\"tickvals\":[5.0,6.0,7.0,8.0,9.0,10.0],\"visible\":true,\"ticks\":\"inside\",\"range\":[4.354431789035536,10.971457075399519],\"domain\":[0.07581474190726165,0.49015748031496065],\"tickmode\":\"array\",\"linecolor\":\"rgba(0, 0, 0, 1.000)\",\"showgrid\":true,\"title\":\"value\",\"mirror\":false,\"tickangle\":0,\"showline\":true,\"gridcolor\":\"rgba(0, 0, 0, 0.100)\",\"titlefont\":{\"color\":\"rgba(0, 0, 0, 1.000)\",\"family\":\"sans-serif\",\"size\":15},\"tickcolor\":\"rgb(0, 0, 0)\",\"ticktext\":[\"5\",\"6\",\"7\",\"8\",\"9\",\"10\"],\"zeroline\":false,\"type\":\"-\",\"tickfont\":{\"color\":\"rgba(0, 0, 0, 1.000)\",\"family\":\"sans-serif\",\"size\":11},\"zerolinecolor\":\"rgba(0, 0, 0, 1.000)\",\"anchor\":\"x1\"},\"xaxis2\":{\"showticklabels\":true,\"gridwidth\":0.5,\"tickvals\":[-10.0,-7.5,-5.0,-2.5,0.0],\"visible\":true,\"ticks\":\"inside\",\"range\":[-10.36,2.36],\"domain\":[0.5637376057159522,0.9934383202099739],\"tickmode\":\"array\",\"linecolor\":\"rgba(0, 0, 0, 1.000)\",\"showgrid\":true,\"title\":\"p4\",\"mirror\":false,\"tickangle\":0,\"showline\":true,\"gridcolor\":\"rgba(0, 0, 0, 0.100)\",\"titlefont\":{\"color\":\"rgba(0, 0, 0, 1.000)\",\"family\":\"sans-serif\",\"size\":15},\"tickcolor\":\"rgb(0, 0, 0)\",\"ticktext\":[\"-10.0\",\"-7.5\",\"-5.0\",\"-2.5\",\"0.0\"],\"zeroline\":false,\"type\":\"-\",\"tickfont\":{\"color\":\"rgba(0, 0, 0, 1.000)\",\"family\":\"sans-serif\",\"size\":11},\"zerolinecolor\":\"rgba(0, 0, 0, 1.000)\",\"anchor\":\"y4\"},\"margin\":{\"l\":0,\"b\":20,\"r\":0,\"t\":20},\"width\":600};\n",
       "\n",
       "        if (!requirejs.specified('plotly')) {\n",
       "          requirejs.config({\n",
       "            paths: {\n",
       "              'plotly_cdn': ['https://cdn.plot.ly/plotly-latest.min']\n",
       "            },\n",
       "          });\n",
       "          require(['plotly_cdn'], function(Plotly) {\n",
       "            Plotly.newPlot('e3742a63-f35c-4a68-805d-87f0d51cac80',\n",
       "    data_e3742a63, layout_e3742a63,\n",
       "    {showLink: false}\n",
       ");\n",
       "\n",
       "          });\n",
       "        } else {\n",
       "          require(['plotly'], function(Plotly) {\n",
       "            Plotly.newPlot('e3742a63-f35c-4a68-805d-87f0d51cac80',\n",
       "    data_e3742a63, layout_e3742a63,\n",
       "    {showLink: false}\n",
       ");\n",
       "\n",
       "            if (window.Plotly == undefined) {\n",
       "                window.Plotly = Plotly;\n",
       "            }\n",
       "          });\n",
       "        }\n",
       "    })();\n",
       " </script>\n"
      ]
     },
     "metadata": {},
     "output_type": "display_data"
    },
    {
     "data": {
      "application/vnd.plotly.v1+json": {
       "data": [
        {
         "colorbar": {
          "title": ""
         },
         "hoverinfo": "text",
         "legendgroup": "y1",
         "line": {
          "color": "rgba(255, 0, 0, 1.000)",
          "dash": "dash",
          "shape": "linear",
          "width": 1
         },
         "mode": "lines",
         "name": "y1",
         "showlegend": true,
         "text": [
          null,
          null,
          null,
          null,
          null,
          null,
          null,
          null,
          null,
          null,
          null,
          null,
          null,
          null,
          null,
          null,
          null,
          null,
          null,
          null
         ],
         "type": "scatter",
         "x": [
          -2,
          -1.7894736842105263,
          -1.5789473684210527,
          -1.368421052631579,
          -1.1578947368421053,
          -0.9473684210526315,
          -0.7368421052631579,
          -0.5263157894736842,
          -0.3157894736842105,
          -0.10526315789473684,
          0.10526315789473684,
          0.3157894736842105,
          0.5263157894736842,
          0.7368421052631579,
          0.9473684210526315,
          1.1578947368421053,
          1.368421052631579,
          1.5789473684210527,
          1.7894736842105263,
          2
         ],
         "xaxis": "x2",
         "y": [
          -1.0009643862065163,
          -1.0009643862065163,
          -1.0009643862065163,
          -1.0009643862065163,
          -1.0009643862065163,
          -1.0009643862065163,
          -1.0009643862065163,
          -1.0009643862065163,
          -1.0009643862065163,
          -1.0009643862065163,
          -1.0009643862065163,
          -1.0009643862065163,
          -1.0009643862065163,
          -1.0009643862065163,
          -1.0009643862065163,
          -1.0009643862065163,
          -1.0009643862065163,
          -1.0009643862065163,
          -1.0009643862065163,
          -1.0009643862065163
         ],
         "yaxis": "y2"
        },
        {
         "colorbar": {
          "title": ""
         },
         "hoverinfo": "text",
         "legendgroup": "y2",
         "line": {
          "color": "rgba(0, 0, 0, 1.000)",
          "dash": "solid",
          "shape": "linear",
          "width": 1
         },
         "mode": "lines",
         "name": "y2",
         "showlegend": true,
         "text": [
          null,
          null,
          null,
          null,
          null,
          null,
          null,
          null,
          null,
          null,
          null,
          null,
          null,
          null,
          null,
          null,
          null,
          null,
          null,
          null
         ],
         "type": "scatter",
         "x": [
          -2,
          -1.7894736842105263,
          -1.5789473684210527,
          -1.368421052631579,
          -1.1578947368421053,
          -0.9473684210526315,
          -0.7368421052631579,
          -0.5263157894736842,
          -0.3157894736842105,
          -0.10526315789473684,
          0.10526315789473684,
          0.3157894736842105,
          0.5263157894736842,
          0.7368421052631579,
          0.9473684210526315,
          1.1578947368421053,
          1.368421052631579,
          1.5789473684210527,
          1.7894736842105263,
          2
         ],
         "xaxis": "x2",
         "y": [
          0.1957179070702715,
          0.19556580190214157,
          0.2026720324622825,
          0.1993137292743772,
          0.20244724374022594,
          0.20091567284251677,
          0.19452674560952754,
          0.1995563215866126,
          0.20333385797888537,
          0.20203880791833556,
          0.19747117088437238,
          0.19718040041823745,
          0.1977188266526742,
          0.20223470047037065,
          0.19869559899287761,
          0.19995197307268928,
          0.20069986055266625,
          0.20315091576006133,
          0.1978901453153855,
          0.20913892556473967
         ],
         "yaxis": "y2"
        },
        {
         "colorbar": {
          "title": ""
         },
         "hoverinfo": "text",
         "legendgroup": "y3",
         "line": {
          "color": "rgba(255, 0, 0, 1.000)",
          "dash": "dash",
          "shape": "linear",
          "width": 1
         },
         "mode": "lines",
         "name": "y3",
         "showlegend": true,
         "text": [
          null,
          null,
          null,
          null,
          null,
          null,
          null,
          null,
          null,
          null,
          null,
          null,
          null,
          null,
          null,
          null,
          null,
          null,
          null,
          null
         ],
         "type": "scatter",
         "x": [
          -10,
          -9.473684210526315,
          -8.947368421052632,
          -8.421052631578947,
          -7.894736842105263,
          -7.368421052631579,
          -6.842105263157895,
          -6.315789473684211,
          -5.7894736842105265,
          -5.2631578947368425,
          -4.7368421052631575,
          -4.2105263157894735,
          -3.6842105263157894,
          -3.1578947368421053,
          -2.6315789473684212,
          -2.1052631578947367,
          -1.5789473684210527,
          -1.0526315789473684,
          -0.5263157894736842,
          0
         ],
         "xaxis": "x2",
         "y": [
          -1.0009643862065163,
          -1.0009643862065163,
          -1.0009643862065163,
          -1.0009643862065163,
          -1.0009643862065163,
          -1.0009643862065163,
          -1.0009643862065163,
          -1.0009643862065163,
          -1.0009643862065163,
          -1.0009643862065163,
          -1.0009643862065163,
          -1.0009643862065163,
          -1.0009643862065163,
          -1.0009643862065163,
          -1.0009643862065163,
          -1.0009643862065163,
          -1.0009643862065163,
          -1.0009643862065163,
          -1.0009643862065163,
          -1.0009643862065163
         ],
         "yaxis": "y4"
        },
        {
         "colorbar": {
          "title": ""
         },
         "hoverinfo": "text",
         "legendgroup": "y4",
         "line": {
          "color": "rgba(0, 0, 0, 1.000)",
          "dash": "solid",
          "shape": "linear",
          "width": 1
         },
         "mode": "lines",
         "name": "y4",
         "showlegend": true,
         "text": [
          null,
          null,
          null,
          null,
          null,
          null,
          null,
          null,
          null,
          null,
          null,
          null,
          null,
          null,
          null,
          null,
          null,
          null,
          null,
          null
         ],
         "type": "scatter",
         "x": [
          -10,
          -9.473684210526315,
          -8.947368421052632,
          -8.421052631578947,
          -7.894736842105263,
          -7.368421052631579,
          -6.842105263157895,
          -6.315789473684211,
          -5.7894736842105265,
          -5.2631578947368425,
          -4.7368421052631575,
          -4.2105263157894735,
          -3.6842105263157894,
          -3.1578947368421053,
          -2.6315789473684212,
          -2.1052631578947367,
          -1.5789473684210527,
          -1.0526315789473684,
          -0.5263157894736842,
          0
         ],
         "xaxis": "x2",
         "y": [
          0.1949381004169322,
          0.197117447750952,
          0.20062221188295595,
          0.19572470036503092,
          0.2026786824489326,
          0.20396922497355272,
          0.19957607305734812,
          0.19517664300802162,
          0.20069030099309426,
          0.19640393478076765,
          0.20045942488957286,
          0.19445335815752116,
          0.20301254856549134,
          0.19948795053392035,
          0.19862074766746052,
          0.2002268068106354,
          0.20082765929452326,
          0.20466013202708636,
          0.19651707308307353,
          0.19933193414335593
         ],
         "yaxis": "y4"
        },
        {
         "colorbar": {
          "title": ""
         },
         "hoverinfo": "text",
         "legendgroup": "y5",
         "line": {
          "color": "rgba(255, 0, 0, 1.000)",
          "dash": "dash",
          "shape": "linear",
          "width": 1
         },
         "mode": "lines",
         "name": "y5",
         "showlegend": true,
         "text": [
          null,
          null,
          null,
          null,
          null,
          null,
          null,
          null,
          null,
          null,
          null,
          null,
          null,
          null,
          null,
          null,
          null,
          null,
          null,
          null
         ],
         "type": "scatter",
         "x": [
          -3,
          -2.6842105263157894,
          -2.3684210526315788,
          -2.0526315789473686,
          -1.736842105263158,
          -1.4210526315789473,
          -1.105263157894737,
          -0.7894736842105263,
          -0.47368421052631576,
          -0.15789473684210525,
          0.15789473684210525,
          0.47368421052631576,
          0.7894736842105263,
          1.105263157894737,
          1.4210526315789473,
          1.736842105263158,
          2.0526315789473686,
          2.3684210526315788,
          2.6842105263157894,
          3
         ],
         "xaxis": "x1",
         "y": [
          -1.0009643862065163,
          -1.0009643862065163,
          -1.0009643862065163,
          -1.0009643862065163,
          -1.0009643862065163,
          -1.0009643862065163,
          -1.0009643862065163,
          -1.0009643862065163,
          -1.0009643862065163,
          -1.0009643862065163,
          -1.0009643862065163,
          -1.0009643862065163,
          -1.0009643862065163,
          -1.0009643862065163,
          -1.0009643862065163,
          -1.0009643862065163,
          -1.0009643862065163,
          -1.0009643862065163,
          -1.0009643862065163,
          -1.0009643862065163
         ],
         "yaxis": "y1"
        },
        {
         "colorbar": {
          "title": ""
         },
         "hoverinfo": "text",
         "legendgroup": "y6",
         "line": {
          "color": "rgba(0, 0, 0, 1.000)",
          "dash": "solid",
          "shape": "linear",
          "width": 1
         },
         "mode": "lines",
         "name": "y6",
         "showlegend": true,
         "text": [
          null,
          null,
          null,
          null,
          null,
          null,
          null,
          null,
          null,
          null,
          null,
          null,
          null,
          null,
          null,
          null,
          null,
          null,
          null,
          null
         ],
         "type": "scatter",
         "x": [
          -3,
          -2.6842105263157894,
          -2.3684210526315788,
          -2.0526315789473686,
          -1.736842105263158,
          -1.4210526315789473,
          -1.105263157894737,
          -0.7894736842105263,
          -0.47368421052631576,
          -0.15789473684210525,
          0.15789473684210525,
          0.47368421052631576,
          0.7894736842105263,
          1.105263157894737,
          1.4210526315789473,
          1.736842105263158,
          2.0526315789473686,
          2.3684210526315788,
          2.6842105263157894,
          3
         ],
         "xaxis": "x1",
         "y": [
          -2.9952681266231087,
          -2.6830864526556115,
          -2.36555900815258,
          -2.0531396743098167,
          -1.7330967860508277,
          -1.4214050491625732,
          -1.1072682120778412,
          -0.7929469646043885,
          -0.47332560819390496,
          -0.15869143954087322,
          0.15718877887807048,
          0.47614316039327004,
          0.7918525016398212,
          1.1050966701972802,
          1.4216037880376209,
          1.740001035342347,
          2.047735362964233,
          2.361930972054071,
          2.683290774753328,
          2.9963231314684324
         ],
         "yaxis": "y1"
        },
        {
         "colorbar": {
          "title": ""
         },
         "hoverinfo": "text",
         "legendgroup": "y7",
         "line": {
          "color": "rgba(255, 0, 0, 1.000)",
          "dash": "dash",
          "shape": "linear",
          "width": 1
         },
         "mode": "lines",
         "name": "y7",
         "showlegend": true,
         "text": [
          null,
          null,
          null,
          null,
          null,
          null,
          null,
          null,
          null,
          null,
          null,
          null,
          null,
          null,
          null,
          null,
          null,
          null,
          null,
          null
         ],
         "type": "scatter",
         "x": [
          0,
          0.5263157894736842,
          1.0526315789473684,
          1.5789473684210527,
          2.1052631578947367,
          2.6315789473684212,
          3.1578947368421053,
          3.6842105263157894,
          4.2105263157894735,
          4.7368421052631575,
          5.2631578947368425,
          5.7894736842105265,
          6.315789473684211,
          6.842105263157895,
          7.368421052631579,
          7.894736842105263,
          8.421052631578947,
          8.947368421052632,
          9.473684210526315,
          10
         ],
         "xaxis": "x1",
         "y": [
          -1.0009643862065163,
          -1.0009643862065163,
          -1.0009643862065163,
          -1.0009643862065163,
          -1.0009643862065163,
          -1.0009643862065163,
          -1.0009643862065163,
          -1.0009643862065163,
          -1.0009643862065163,
          -1.0009643862065163,
          -1.0009643862065163,
          -1.0009643862065163,
          -1.0009643862065163,
          -1.0009643862065163,
          -1.0009643862065163,
          -1.0009643862065163,
          -1.0009643862065163,
          -1.0009643862065163,
          -1.0009643862065163,
          -1.0009643862065163
         ],
         "yaxis": "y3"
        },
        {
         "colorbar": {
          "title": ""
         },
         "hoverinfo": "text",
         "legendgroup": "y8",
         "line": {
          "color": "rgba(0, 0, 0, 1.000)",
          "dash": "solid",
          "shape": "linear",
          "width": 1
         },
         "mode": "lines",
         "name": "y8",
         "showlegend": true,
         "text": [
          null,
          null,
          null,
          null,
          null,
          null,
          null,
          null,
          null,
          null,
          null,
          null,
          null,
          null,
          null,
          null,
          null,
          null,
          null,
          null
         ],
         "type": "scatter",
         "x": [
          0,
          0.5263157894736842,
          1.0526315789473684,
          1.5789473684210527,
          2.1052631578947367,
          2.6315789473684212,
          3.1578947368421053,
          3.6842105263157894,
          4.2105263157894735,
          4.7368421052631575,
          5.2631578947368425,
          5.7894736842105265,
          6.315789473684211,
          6.842105263157895,
          7.368421052631579,
          7.894736842105263,
          8.421052631578947,
          8.947368421052632,
          9.473684210526315,
          10
         ],
         "xaxis": "x1",
         "y": [
          0.19584597071144116,
          0.19973295872265867,
          0.2047643756177276,
          0.19394578054626688,
          0.1964322570912994,
          0.1978792403486792,
          0.1985737412732414,
          0.20369041138129748,
          0.19776440322076533,
          0.1929827658046099,
          0.1986009043458872,
          0.20374619962320675,
          0.2008594091301219,
          0.19589793450993528,
          0.19454003774271755,
          0.20361708558220812,
          0.2004633111000729,
          0.20549691497019842,
          0.1963942457815964,
          0.19622085964449712
         ],
         "yaxis": "y3"
        }
       ],
       "layout": {
        "annotations": [],
        "height": 400,
        "margin": {
         "b": 20,
         "l": 0,
         "r": 0,
         "t": 20
        },
        "paper_bgcolor": "rgba(255, 255, 255, 1.000)",
        "plot_bgcolor": "rgba(255, 255, 255, 1.000)",
        "showlegend": false,
        "width": 600,
        "xaxis1": {
         "anchor": "y3",
         "domain": [
          0.10609871682706327,
          0.5061698016914552
         ],
         "gridcolor": "rgba(0, 0, 0, 0.100)",
         "gridwidth": 0.5,
         "linecolor": "rgba(0, 0, 0, 1.000)",
         "mirror": false,
         "range": [
          -3.39,
          10.39
         ],
         "showgrid": true,
         "showline": true,
         "showticklabels": true,
         "tickangle": 0,
         "tickcolor": "rgb(0, 0, 0)",
         "tickfont": {
          "color": "rgba(0, 0, 0, 1.000)",
          "family": "sans-serif",
          "size": 11
         },
         "tickmode": "array",
         "ticks": "inside",
         "ticktext": [
          "-2",
          "0",
          "2",
          "4",
          "6",
          "8",
          "10"
         ],
         "tickvals": [
          -2,
          0,
          2,
          4,
          6,
          8,
          10
         ],
         "title": "p3",
         "titlefont": {
          "color": "rgba(0, 0, 0, 1.000)",
          "family": "sans-serif",
          "size": 15
         },
         "type": "-",
         "visible": true,
         "zeroline": false,
         "zerolinecolor": "rgba(0, 0, 0, 1.000)"
        },
        "xaxis2": {
         "anchor": "y4",
         "domain": [
          0.5933672353455818,
          0.9934383202099737
         ],
         "gridcolor": "rgba(0, 0, 0, 0.100)",
         "gridwidth": 0.5,
         "linecolor": "rgba(0, 0, 0, 1.000)",
         "mirror": false,
         "range": [
          -10.36,
          2.36
         ],
         "showgrid": true,
         "showline": true,
         "showticklabels": true,
         "tickangle": 0,
         "tickcolor": "rgb(0, 0, 0)",
         "tickfont": {
          "color": "rgba(0, 0, 0, 1.000)",
          "family": "sans-serif",
          "size": 11
         },
         "tickmode": "array",
         "ticks": "inside",
         "ticktext": [
          "-10.0",
          "-7.5",
          "-5.0",
          "-2.5",
          "0.0"
         ],
         "tickvals": [
          -10,
          -7.5,
          -5,
          -2.5,
          0
         ],
         "title": "p4",
         "titlefont": {
          "color": "rgba(0, 0, 0, 1.000)",
          "family": "sans-serif",
          "size": 15
         },
         "type": "-",
         "visible": true,
         "zeroline": false,
         "zerolinecolor": "rgba(0, 0, 0, 1.000)"
        },
        "yaxis1": {
         "anchor": "x1",
         "domain": [
          0.5758147419072616,
          0.9901574803149606
         ],
         "gridcolor": "rgba(0, 0, 0, 0.100)",
         "gridwidth": 0.5,
         "linecolor": "rgba(0, 0, 0, 1.000)",
         "mirror": false,
         "range": [
          -3.175015864365855,
          3.1760708692111788
         ],
         "showgrid": true,
         "showline": true,
         "showticklabels": true,
         "tickangle": 0,
         "tickcolor": "rgb(0, 0, 0)",
         "tickfont": {
          "color": "rgba(0, 0, 0, 1.000)",
          "family": "sans-serif",
          "size": 11
         },
         "tickmode": "array",
         "ticks": "inside",
         "ticktext": [
          "-3",
          "-2",
          "-1",
          "0",
          "1",
          "2",
          "3"
         ],
         "tickvals": [
          -3,
          -2,
          -1,
          0,
          1,
          2,
          3
         ],
         "title": "mu1",
         "titlefont": {
          "color": "rgba(0, 0, 0, 1.000)",
          "family": "sans-serif",
          "size": 15
         },
         "type": "-",
         "visible": true,
         "zeroline": false,
         "zerolinecolor": "rgba(0, 0, 0, 1.000)"
        },
        "yaxis2": {
         "anchor": "x2",
         "domain": [
          0.5758147419072616,
          0.9901574803149606
         ],
         "gridcolor": "rgba(0, 0, 0, 0.100)",
         "gridwidth": 0.5,
         "linecolor": "rgba(0, 0, 0, 1.000)",
         "mirror": false,
         "range": [
          -1.037267485559654,
          0.24544202491787737
         ],
         "showgrid": true,
         "showline": true,
         "showticklabels": true,
         "tickangle": 0,
         "tickcolor": "rgb(0, 0, 0)",
         "tickfont": {
          "color": "rgba(0, 0, 0, 1.000)",
          "family": "sans-serif",
          "size": 11
         },
         "tickmode": "array",
         "ticks": "inside",
         "ticktext": [
          "-1.00",
          "-0.75",
          "-0.50",
          "-0.25",
          "0.00"
         ],
         "tickvals": [
          -1,
          -0.75,
          -0.5,
          -0.25,
          0
         ],
         "title": "",
         "titlefont": {
          "color": "rgba(0, 0, 0, 1.000)",
          "family": "sans-serif",
          "size": 15
         },
         "type": "-",
         "visible": true,
         "zeroline": false,
         "zerolinecolor": "rgba(0, 0, 0, 1.000)"
        },
        "yaxis3": {
         "anchor": "x1",
         "domain": [
          0.07581474190726165,
          0.49015748031496065
         ],
         "gridcolor": "rgba(0, 0, 0, 0.100)",
         "gridwidth": 0.5,
         "linecolor": "rgba(0, 0, 0, 1.000)",
         "mirror": false,
         "range": [
          -1.0371582252418177,
          0.24169075400549986
         ],
         "showgrid": true,
         "showline": true,
         "showticklabels": true,
         "tickangle": 0,
         "tickcolor": "rgb(0, 0, 0)",
         "tickfont": {
          "color": "rgba(0, 0, 0, 1.000)",
          "family": "sans-serif",
          "size": 11
         },
         "tickmode": "array",
         "ticks": "inside",
         "ticktext": [
          "-1.00",
          "-0.75",
          "-0.50",
          "-0.25",
          "0.00"
         ],
         "tickvals": [
          -1,
          -0.75,
          -0.5,
          -0.25,
          0
         ],
         "title": "mu1",
         "titlefont": {
          "color": "rgba(0, 0, 0, 1.000)",
          "family": "sans-serif",
          "size": 15
         },
         "type": "-",
         "visible": true,
         "zeroline": false,
         "zerolinecolor": "rgba(0, 0, 0, 1.000)"
        },
        "yaxis4": {
         "anchor": "x2",
         "domain": [
          0.07581474190726165,
          0.49015748031496065
         ],
         "gridcolor": "rgba(0, 0, 0, 0.100)",
         "gridwidth": 0.5,
         "linecolor": "rgba(0, 0, 0, 1.000)",
         "mirror": false,
         "range": [
          -1.0371331217535245,
          0.24082886757409444
         ],
         "showgrid": true,
         "showline": true,
         "showticklabels": true,
         "tickangle": 0,
         "tickcolor": "rgb(0, 0, 0)",
         "tickfont": {
          "color": "rgba(0, 0, 0, 1.000)",
          "family": "sans-serif",
          "size": 11
         },
         "tickmode": "array",
         "ticks": "inside",
         "ticktext": [
          "-1.00",
          "-0.75",
          "-0.50",
          "-0.25",
          "0.00"
         ],
         "tickvals": [
          -1,
          -0.75,
          -0.5,
          -0.25,
          0
         ],
         "title": "",
         "titlefont": {
          "color": "rgba(0, 0, 0, 1.000)",
          "family": "sans-serif",
          "size": 15
         },
         "type": "-",
         "visible": true,
         "zeroline": false,
         "zerolinecolor": "rgba(0, 0, 0, 1.000)"
        }
       }
      },
      "text/html": [
       "<div id=\"e3424b31-dc3d-417c-8ec9-7634a8be8b1b\" class=\"plotly-graph-div\"></div>\n",
       "\n",
       "<script>\n",
       "    (function() {\n",
       "        var data_e3424b31 = [{\"xaxis\":\"x2\",\"colorbar\":{\"title\":\"\"},\"yaxis\":\"y2\",\"text\":[null,null,null,null,null,null,null,null,null,null,null,null,null,null,null,null,null,null,null,null],\"x\":[-2.0,-1.7894736842105263,-1.5789473684210527,-1.368421052631579,-1.1578947368421053,-0.9473684210526315,-0.7368421052631579,-0.5263157894736842,-0.3157894736842105,-0.10526315789473684,0.10526315789473684,0.3157894736842105,0.5263157894736842,0.7368421052631579,0.9473684210526315,1.1578947368421053,1.368421052631579,1.5789473684210527,1.7894736842105263,2.0],\"showlegend\":true,\"mode\":\"lines\",\"name\":\"y1\",\"legendgroup\":\"y1\",\"line\":{\"color\":\"rgba(255, 0, 0, 1.000)\",\"width\":1,\"dash\":\"dash\",\"shape\":\"linear\"},\"y\":[-1.0009643862065163,-1.0009643862065163,-1.0009643862065163,-1.0009643862065163,-1.0009643862065163,-1.0009643862065163,-1.0009643862065163,-1.0009643862065163,-1.0009643862065163,-1.0009643862065163,-1.0009643862065163,-1.0009643862065163,-1.0009643862065163,-1.0009643862065163,-1.0009643862065163,-1.0009643862065163,-1.0009643862065163,-1.0009643862065163,-1.0009643862065163,-1.0009643862065163],\"type\":\"scatter\",\"hoverinfo\":\"text\"},{\"xaxis\":\"x2\",\"colorbar\":{\"title\":\"\"},\"yaxis\":\"y2\",\"text\":[null,null,null,null,null,null,null,null,null,null,null,null,null,null,null,null,null,null,null,null],\"x\":[-2.0,-1.7894736842105263,-1.5789473684210527,-1.368421052631579,-1.1578947368421053,-0.9473684210526315,-0.7368421052631579,-0.5263157894736842,-0.3157894736842105,-0.10526315789473684,0.10526315789473684,0.3157894736842105,0.5263157894736842,0.7368421052631579,0.9473684210526315,1.1578947368421053,1.368421052631579,1.5789473684210527,1.7894736842105263,2.0],\"showlegend\":true,\"mode\":\"lines\",\"name\":\"y2\",\"legendgroup\":\"y2\",\"line\":{\"color\":\"rgba(0, 0, 0, 1.000)\",\"width\":1,\"dash\":\"solid\",\"shape\":\"linear\"},\"y\":[0.1957179070702715,0.19556580190214157,0.2026720324622825,0.1993137292743772,0.20244724374022594,0.20091567284251677,0.19452674560952754,0.1995563215866126,0.20333385797888537,0.20203880791833556,0.19747117088437238,0.19718040041823745,0.1977188266526742,0.20223470047037065,0.19869559899287761,0.19995197307268928,0.20069986055266625,0.20315091576006133,0.1978901453153855,0.20913892556473967],\"type\":\"scatter\",\"hoverinfo\":\"text\"},{\"xaxis\":\"x2\",\"colorbar\":{\"title\":\"\"},\"yaxis\":\"y4\",\"text\":[null,null,null,null,null,null,null,null,null,null,null,null,null,null,null,null,null,null,null,null],\"x\":[-10.0,-9.473684210526315,-8.947368421052632,-8.421052631578947,-7.894736842105263,-7.368421052631579,-6.842105263157895,-6.315789473684211,-5.7894736842105265,-5.2631578947368425,-4.7368421052631575,-4.2105263157894735,-3.6842105263157894,-3.1578947368421053,-2.6315789473684212,-2.1052631578947367,-1.5789473684210527,-1.0526315789473684,-0.5263157894736842,0.0],\"showlegend\":true,\"mode\":\"lines\",\"name\":\"y3\",\"legendgroup\":\"y3\",\"line\":{\"color\":\"rgba(255, 0, 0, 1.000)\",\"width\":1,\"dash\":\"dash\",\"shape\":\"linear\"},\"y\":[-1.0009643862065163,-1.0009643862065163,-1.0009643862065163,-1.0009643862065163,-1.0009643862065163,-1.0009643862065163,-1.0009643862065163,-1.0009643862065163,-1.0009643862065163,-1.0009643862065163,-1.0009643862065163,-1.0009643862065163,-1.0009643862065163,-1.0009643862065163,-1.0009643862065163,-1.0009643862065163,-1.0009643862065163,-1.0009643862065163,-1.0009643862065163,-1.0009643862065163],\"type\":\"scatter\",\"hoverinfo\":\"text\"},{\"xaxis\":\"x2\",\"colorbar\":{\"title\":\"\"},\"yaxis\":\"y4\",\"text\":[null,null,null,null,null,null,null,null,null,null,null,null,null,null,null,null,null,null,null,null],\"x\":[-10.0,-9.473684210526315,-8.947368421052632,-8.421052631578947,-7.894736842105263,-7.368421052631579,-6.842105263157895,-6.315789473684211,-5.7894736842105265,-5.2631578947368425,-4.7368421052631575,-4.2105263157894735,-3.6842105263157894,-3.1578947368421053,-2.6315789473684212,-2.1052631578947367,-1.5789473684210527,-1.0526315789473684,-0.5263157894736842,0.0],\"showlegend\":true,\"mode\":\"lines\",\"name\":\"y4\",\"legendgroup\":\"y4\",\"line\":{\"color\":\"rgba(0, 0, 0, 1.000)\",\"width\":1,\"dash\":\"solid\",\"shape\":\"linear\"},\"y\":[0.1949381004169322,0.197117447750952,0.20062221188295595,0.19572470036503092,0.2026786824489326,0.20396922497355272,0.19957607305734812,0.19517664300802162,0.20069030099309426,0.19640393478076765,0.20045942488957286,0.19445335815752116,0.20301254856549134,0.19948795053392035,0.19862074766746052,0.2002268068106354,0.20082765929452326,0.20466013202708636,0.19651707308307353,0.19933193414335593],\"type\":\"scatter\",\"hoverinfo\":\"text\"},{\"xaxis\":\"x1\",\"colorbar\":{\"title\":\"\"},\"yaxis\":\"y1\",\"text\":[null,null,null,null,null,null,null,null,null,null,null,null,null,null,null,null,null,null,null,null],\"x\":[-3.0,-2.6842105263157894,-2.3684210526315788,-2.0526315789473686,-1.736842105263158,-1.4210526315789473,-1.105263157894737,-0.7894736842105263,-0.47368421052631576,-0.15789473684210525,0.15789473684210525,0.47368421052631576,0.7894736842105263,1.105263157894737,1.4210526315789473,1.736842105263158,2.0526315789473686,2.3684210526315788,2.6842105263157894,3.0],\"showlegend\":true,\"mode\":\"lines\",\"name\":\"y5\",\"legendgroup\":\"y5\",\"line\":{\"color\":\"rgba(255, 0, 0, 1.000)\",\"width\":1,\"dash\":\"dash\",\"shape\":\"linear\"},\"y\":[-1.0009643862065163,-1.0009643862065163,-1.0009643862065163,-1.0009643862065163,-1.0009643862065163,-1.0009643862065163,-1.0009643862065163,-1.0009643862065163,-1.0009643862065163,-1.0009643862065163,-1.0009643862065163,-1.0009643862065163,-1.0009643862065163,-1.0009643862065163,-1.0009643862065163,-1.0009643862065163,-1.0009643862065163,-1.0009643862065163,-1.0009643862065163,-1.0009643862065163],\"type\":\"scatter\",\"hoverinfo\":\"text\"},{\"xaxis\":\"x1\",\"colorbar\":{\"title\":\"\"},\"yaxis\":\"y1\",\"text\":[null,null,null,null,null,null,null,null,null,null,null,null,null,null,null,null,null,null,null,null],\"x\":[-3.0,-2.6842105263157894,-2.3684210526315788,-2.0526315789473686,-1.736842105263158,-1.4210526315789473,-1.105263157894737,-0.7894736842105263,-0.47368421052631576,-0.15789473684210525,0.15789473684210525,0.47368421052631576,0.7894736842105263,1.105263157894737,1.4210526315789473,1.736842105263158,2.0526315789473686,2.3684210526315788,2.6842105263157894,3.0],\"showlegend\":true,\"mode\":\"lines\",\"name\":\"y6\",\"legendgroup\":\"y6\",\"line\":{\"color\":\"rgba(0, 0, 0, 1.000)\",\"width\":1,\"dash\":\"solid\",\"shape\":\"linear\"},\"y\":[-2.9952681266231087,-2.6830864526556115,-2.36555900815258,-2.0531396743098167,-1.7330967860508277,-1.4214050491625732,-1.1072682120778412,-0.7929469646043885,-0.47332560819390496,-0.15869143954087322,0.15718877887807048,0.47614316039327004,0.7918525016398212,1.1050966701972802,1.4216037880376209,1.740001035342347,2.047735362964233,2.361930972054071,2.683290774753328,2.9963231314684324],\"type\":\"scatter\",\"hoverinfo\":\"text\"},{\"xaxis\":\"x1\",\"colorbar\":{\"title\":\"\"},\"yaxis\":\"y3\",\"text\":[null,null,null,null,null,null,null,null,null,null,null,null,null,null,null,null,null,null,null,null],\"x\":[0.0,0.5263157894736842,1.0526315789473684,1.5789473684210527,2.1052631578947367,2.6315789473684212,3.1578947368421053,3.6842105263157894,4.2105263157894735,4.7368421052631575,5.2631578947368425,5.7894736842105265,6.315789473684211,6.842105263157895,7.368421052631579,7.894736842105263,8.421052631578947,8.947368421052632,9.473684210526315,10.0],\"showlegend\":true,\"mode\":\"lines\",\"name\":\"y7\",\"legendgroup\":\"y7\",\"line\":{\"color\":\"rgba(255, 0, 0, 1.000)\",\"width\":1,\"dash\":\"dash\",\"shape\":\"linear\"},\"y\":[-1.0009643862065163,-1.0009643862065163,-1.0009643862065163,-1.0009643862065163,-1.0009643862065163,-1.0009643862065163,-1.0009643862065163,-1.0009643862065163,-1.0009643862065163,-1.0009643862065163,-1.0009643862065163,-1.0009643862065163,-1.0009643862065163,-1.0009643862065163,-1.0009643862065163,-1.0009643862065163,-1.0009643862065163,-1.0009643862065163,-1.0009643862065163,-1.0009643862065163],\"type\":\"scatter\",\"hoverinfo\":\"text\"},{\"xaxis\":\"x1\",\"colorbar\":{\"title\":\"\"},\"yaxis\":\"y3\",\"text\":[null,null,null,null,null,null,null,null,null,null,null,null,null,null,null,null,null,null,null,null],\"x\":[0.0,0.5263157894736842,1.0526315789473684,1.5789473684210527,2.1052631578947367,2.6315789473684212,3.1578947368421053,3.6842105263157894,4.2105263157894735,4.7368421052631575,5.2631578947368425,5.7894736842105265,6.315789473684211,6.842105263157895,7.368421052631579,7.894736842105263,8.421052631578947,8.947368421052632,9.473684210526315,10.0],\"showlegend\":true,\"mode\":\"lines\",\"name\":\"y8\",\"legendgroup\":\"y8\",\"line\":{\"color\":\"rgba(0, 0, 0, 1.000)\",\"width\":1,\"dash\":\"solid\",\"shape\":\"linear\"},\"y\":[0.19584597071144116,0.19973295872265867,0.2047643756177276,0.19394578054626688,0.1964322570912994,0.1978792403486792,0.1985737412732414,0.20369041138129748,0.19776440322076533,0.1929827658046099,0.1986009043458872,0.20374619962320675,0.2008594091301219,0.19589793450993528,0.19454003774271755,0.20361708558220812,0.2004633111000729,0.20549691497019842,0.1963942457815964,0.19622085964449712],\"type\":\"scatter\",\"hoverinfo\":\"text\"}];\n",
       "var layout_e3424b31 = {\"paper_bgcolor\":\"rgba(255, 255, 255, 1.000)\",\"height\":400,\"yaxis4\":{\"showticklabels\":true,\"gridwidth\":0.5,\"tickvals\":[-1.0,-0.75,-0.5,-0.25,0.0],\"visible\":true,\"ticks\":\"inside\",\"range\":[-1.0371331217535245,0.24082886757409444],\"domain\":[0.07581474190726165,0.49015748031496065],\"tickmode\":\"array\",\"linecolor\":\"rgba(0, 0, 0, 1.000)\",\"showgrid\":true,\"title\":\"\",\"mirror\":false,\"tickangle\":0,\"showline\":true,\"gridcolor\":\"rgba(0, 0, 0, 0.100)\",\"titlefont\":{\"color\":\"rgba(0, 0, 0, 1.000)\",\"family\":\"sans-serif\",\"size\":15},\"tickcolor\":\"rgb(0, 0, 0)\",\"ticktext\":[\"-1.00\",\"-0.75\",\"-0.50\",\"-0.25\",\"0.00\"],\"zeroline\":false,\"type\":\"-\",\"tickfont\":{\"color\":\"rgba(0, 0, 0, 1.000)\",\"family\":\"sans-serif\",\"size\":11},\"zerolinecolor\":\"rgba(0, 0, 0, 1.000)\",\"anchor\":\"x2\"},\"yaxis2\":{\"showticklabels\":true,\"gridwidth\":0.5,\"tickvals\":[-1.0,-0.75,-0.5,-0.25,0.0],\"visible\":true,\"ticks\":\"inside\",\"range\":[-1.037267485559654,0.24544202491787737],\"domain\":[0.5758147419072616,0.9901574803149606],\"tickmode\":\"array\",\"linecolor\":\"rgba(0, 0, 0, 1.000)\",\"showgrid\":true,\"title\":\"\",\"mirror\":false,\"tickangle\":0,\"showline\":true,\"gridcolor\":\"rgba(0, 0, 0, 0.100)\",\"titlefont\":{\"color\":\"rgba(0, 0, 0, 1.000)\",\"family\":\"sans-serif\",\"size\":15},\"tickcolor\":\"rgb(0, 0, 0)\",\"ticktext\":[\"-1.00\",\"-0.75\",\"-0.50\",\"-0.25\",\"0.00\"],\"zeroline\":false,\"type\":\"-\",\"tickfont\":{\"color\":\"rgba(0, 0, 0, 1.000)\",\"family\":\"sans-serif\",\"size\":11},\"zerolinecolor\":\"rgba(0, 0, 0, 1.000)\",\"anchor\":\"x2\"},\"yaxis1\":{\"showticklabels\":true,\"gridwidth\":0.5,\"tickvals\":[-3.0,-2.0,-1.0,0.0,1.0,2.0,3.0],\"visible\":true,\"ticks\":\"inside\",\"range\":[-3.175015864365855,3.1760708692111788],\"domain\":[0.5758147419072616,0.9901574803149606],\"tickmode\":\"array\",\"linecolor\":\"rgba(0, 0, 0, 1.000)\",\"showgrid\":true,\"title\":\"mu1\",\"mirror\":false,\"tickangle\":0,\"showline\":true,\"gridcolor\":\"rgba(0, 0, 0, 0.100)\",\"titlefont\":{\"color\":\"rgba(0, 0, 0, 1.000)\",\"family\":\"sans-serif\",\"size\":15},\"tickcolor\":\"rgb(0, 0, 0)\",\"ticktext\":[\"-3\",\"-2\",\"-1\",\"0\",\"1\",\"2\",\"3\"],\"zeroline\":false,\"type\":\"-\",\"tickfont\":{\"color\":\"rgba(0, 0, 0, 1.000)\",\"family\":\"sans-serif\",\"size\":11},\"zerolinecolor\":\"rgba(0, 0, 0, 1.000)\",\"anchor\":\"x1\"},\"annotations\":[],\"plot_bgcolor\":\"rgba(255, 255, 255, 1.000)\",\"showlegend\":false,\"xaxis1\":{\"showticklabels\":true,\"gridwidth\":0.5,\"tickvals\":[-2.0,0.0,2.0,4.0,6.0,8.0,10.0],\"visible\":true,\"ticks\":\"inside\",\"range\":[-3.39,10.39],\"domain\":[0.10609871682706327,0.5061698016914552],\"tickmode\":\"array\",\"linecolor\":\"rgba(0, 0, 0, 1.000)\",\"showgrid\":true,\"title\":\"p3\",\"mirror\":false,\"tickangle\":0,\"showline\":true,\"gridcolor\":\"rgba(0, 0, 0, 0.100)\",\"titlefont\":{\"color\":\"rgba(0, 0, 0, 1.000)\",\"family\":\"sans-serif\",\"size\":15},\"tickcolor\":\"rgb(0, 0, 0)\",\"ticktext\":[\"-2\",\"0\",\"2\",\"4\",\"6\",\"8\",\"10\"],\"zeroline\":false,\"type\":\"-\",\"tickfont\":{\"color\":\"rgba(0, 0, 0, 1.000)\",\"family\":\"sans-serif\",\"size\":11},\"zerolinecolor\":\"rgba(0, 0, 0, 1.000)\",\"anchor\":\"y3\"},\"yaxis3\":{\"showticklabels\":true,\"gridwidth\":0.5,\"tickvals\":[-1.0,-0.75,-0.5,-0.25,0.0],\"visible\":true,\"ticks\":\"inside\",\"range\":[-1.0371582252418177,0.24169075400549986],\"domain\":[0.07581474190726165,0.49015748031496065],\"tickmode\":\"array\",\"linecolor\":\"rgba(0, 0, 0, 1.000)\",\"showgrid\":true,\"title\":\"mu1\",\"mirror\":false,\"tickangle\":0,\"showline\":true,\"gridcolor\":\"rgba(0, 0, 0, 0.100)\",\"titlefont\":{\"color\":\"rgba(0, 0, 0, 1.000)\",\"family\":\"sans-serif\",\"size\":15},\"tickcolor\":\"rgb(0, 0, 0)\",\"ticktext\":[\"-1.00\",\"-0.75\",\"-0.50\",\"-0.25\",\"0.00\"],\"zeroline\":false,\"type\":\"-\",\"tickfont\":{\"color\":\"rgba(0, 0, 0, 1.000)\",\"family\":\"sans-serif\",\"size\":11},\"zerolinecolor\":\"rgba(0, 0, 0, 1.000)\",\"anchor\":\"x1\"},\"xaxis2\":{\"showticklabels\":true,\"gridwidth\":0.5,\"tickvals\":[-10.0,-7.5,-5.0,-2.5,0.0],\"visible\":true,\"ticks\":\"inside\",\"range\":[-10.36,2.36],\"domain\":[0.5933672353455818,0.9934383202099737],\"tickmode\":\"array\",\"linecolor\":\"rgba(0, 0, 0, 1.000)\",\"showgrid\":true,\"title\":\"p4\",\"mirror\":false,\"tickangle\":0,\"showline\":true,\"gridcolor\":\"rgba(0, 0, 0, 0.100)\",\"titlefont\":{\"color\":\"rgba(0, 0, 0, 1.000)\",\"family\":\"sans-serif\",\"size\":15},\"tickcolor\":\"rgb(0, 0, 0)\",\"ticktext\":[\"-10.0\",\"-7.5\",\"-5.0\",\"-2.5\",\"0.0\"],\"zeroline\":false,\"type\":\"-\",\"tickfont\":{\"color\":\"rgba(0, 0, 0, 1.000)\",\"family\":\"sans-serif\",\"size\":11},\"zerolinecolor\":\"rgba(0, 0, 0, 1.000)\",\"anchor\":\"y4\"},\"margin\":{\"l\":0,\"b\":20,\"r\":0,\"t\":20},\"width\":600};\n",
       "\n",
       "        if (!requirejs.specified('plotly')) {\n",
       "          requirejs.config({\n",
       "            paths: {\n",
       "              'plotly_cdn': ['https://cdn.plot.ly/plotly-latest.min']\n",
       "            },\n",
       "          });\n",
       "          require(['plotly_cdn'], function(Plotly) {\n",
       "            Plotly.newPlot('e3424b31-dc3d-417c-8ec9-7634a8be8b1b',\n",
       "    data_e3424b31, layout_e3424b31,\n",
       "    {showLink: false}\n",
       ");\n",
       "\n",
       "          });\n",
       "        } else {\n",
       "          require(['plotly'], function(Plotly) {\n",
       "            Plotly.newPlot('e3424b31-dc3d-417c-8ec9-7634a8be8b1b',\n",
       "    data_e3424b31, layout_e3424b31,\n",
       "    {showLink: false}\n",
       ");\n",
       "\n",
       "            if (window.Plotly == undefined) {\n",
       "                window.Plotly = Plotly;\n",
       "            }\n",
       "          });\n",
       "        }\n",
       "    })();\n",
       " </script>\n"
      ]
     },
     "metadata": {},
     "output_type": "display_data"
    },
    {
     "data": {
      "application/vnd.plotly.v1+json": {
       "data": [
        {
         "colorbar": {
          "title": ""
         },
         "hoverinfo": "text",
         "legendgroup": "y1",
         "line": {
          "color": "rgba(255, 0, 0, 1.000)",
          "dash": "dash",
          "shape": "linear",
          "width": 1
         },
         "mode": "lines",
         "name": "y1",
         "showlegend": true,
         "text": [
          null,
          null,
          null,
          null,
          null,
          null,
          null,
          null,
          null,
          null,
          null,
          null,
          null,
          null,
          null,
          null,
          null,
          null,
          null,
          null
         ],
         "type": "scatter",
         "x": [
          -2,
          -1.7894736842105263,
          -1.5789473684210527,
          -1.368421052631579,
          -1.1578947368421053,
          -0.9473684210526315,
          -0.7368421052631579,
          -0.5263157894736842,
          -0.3157894736842105,
          -0.10526315789473684,
          0.10526315789473684,
          0.3157894736842105,
          0.5263157894736842,
          0.7368421052631579,
          0.9473684210526315,
          1.1578947368421053,
          1.368421052631579,
          1.5789473684210527,
          1.7894736842105263,
          2
         ],
         "xaxis": "x2",
         "y": [
          1.0001993816836634,
          1.0001993816836634,
          1.0001993816836634,
          1.0001993816836634,
          1.0001993816836634,
          1.0001993816836634,
          1.0001993816836634,
          1.0001993816836634,
          1.0001993816836634,
          1.0001993816836634,
          1.0001993816836634,
          1.0001993816836634,
          1.0001993816836634,
          1.0001993816836634,
          1.0001993816836634,
          1.0001993816836634,
          1.0001993816836634,
          1.0001993816836634,
          1.0001993816836634,
          1.0001993816836634
         ],
         "yaxis": "y2"
        },
        {
         "colorbar": {
          "title": ""
         },
         "hoverinfo": "text",
         "legendgroup": "y2",
         "line": {
          "color": "rgba(0, 0, 0, 1.000)",
          "dash": "solid",
          "shape": "linear",
          "width": 1
         },
         "mode": "lines",
         "name": "y2",
         "showlegend": true,
         "text": [
          null,
          null,
          null,
          null,
          null,
          null,
          null,
          null,
          null,
          null,
          null,
          null,
          null,
          null,
          null,
          null,
          null,
          null,
          null,
          null
         ],
         "type": "scatter",
         "x": [
          -2,
          -1.7894736842105263,
          -1.5789473684210527,
          -1.368421052631579,
          -1.1578947368421053,
          -0.9473684210526315,
          -0.7368421052631579,
          -0.5263157894736842,
          -0.3157894736842105,
          -0.10526315789473684,
          0.10526315789473684,
          0.3157894736842105,
          0.5263157894736842,
          0.7368421052631579,
          0.9473684210526315,
          1.1578947368421053,
          1.368421052631579,
          1.5789473684210527,
          1.7894736842105263,
          2
         ],
         "xaxis": "x2",
         "y": [
          -2.001836304750523,
          -1.7863726038610364,
          -1.5775887958591752,
          -1.3669745334934522,
          -1.1567641244245959,
          -0.9441120535995653,
          -0.73605215867048,
          -0.5299273067121784,
          -0.31289643256227406,
          -0.1052026847667785,
          0.10334946735863738,
          0.31503274484645816,
          0.5227220894939213,
          0.7373681251867527,
          0.9431661724857591,
          1.1536381848597441,
          1.3682170024446079,
          1.5799108676618419,
          1.7847355070862654,
          2.0016258188575056
         ],
         "yaxis": "y2"
        },
        {
         "colorbar": {
          "title": ""
         },
         "hoverinfo": "text",
         "legendgroup": "y3",
         "line": {
          "color": "rgba(255, 0, 0, 1.000)",
          "dash": "dash",
          "shape": "linear",
          "width": 1
         },
         "mode": "lines",
         "name": "y3",
         "showlegend": true,
         "text": [
          null,
          null,
          null,
          null,
          null,
          null,
          null,
          null,
          null,
          null,
          null,
          null,
          null,
          null,
          null,
          null,
          null,
          null,
          null,
          null
         ],
         "type": "scatter",
         "x": [
          -10,
          -9.473684210526315,
          -8.947368421052632,
          -8.421052631578947,
          -7.894736842105263,
          -7.368421052631579,
          -6.842105263157895,
          -6.315789473684211,
          -5.7894736842105265,
          -5.2631578947368425,
          -4.7368421052631575,
          -4.2105263157894735,
          -3.6842105263157894,
          -3.1578947368421053,
          -2.6315789473684212,
          -2.1052631578947367,
          -1.5789473684210527,
          -1.0526315789473684,
          -0.5263157894736842,
          0
         ],
         "xaxis": "x2",
         "y": [
          1.0001993816836634,
          1.0001993816836634,
          1.0001993816836634,
          1.0001993816836634,
          1.0001993816836634,
          1.0001993816836634,
          1.0001993816836634,
          1.0001993816836634,
          1.0001993816836634,
          1.0001993816836634,
          1.0001993816836634,
          1.0001993816836634,
          1.0001993816836634,
          1.0001993816836634,
          1.0001993816836634,
          1.0001993816836634,
          1.0001993816836634,
          1.0001993816836634,
          1.0001993816836634,
          1.0001993816836634
         ],
         "yaxis": "y4"
        },
        {
         "colorbar": {
          "title": ""
         },
         "hoverinfo": "text",
         "legendgroup": "y4",
         "line": {
          "color": "rgba(0, 0, 0, 1.000)",
          "dash": "solid",
          "shape": "linear",
          "width": 1
         },
         "mode": "lines",
         "name": "y4",
         "showlegend": true,
         "text": [
          null,
          null,
          null,
          null,
          null,
          null,
          null,
          null,
          null,
          null,
          null,
          null,
          null,
          null,
          null,
          null,
          null,
          null,
          null,
          null
         ],
         "type": "scatter",
         "x": [
          -10,
          -9.473684210526315,
          -8.947368421052632,
          -8.421052631578947,
          -7.894736842105263,
          -7.368421052631579,
          -6.842105263157895,
          -6.315789473684211,
          -5.7894736842105265,
          -5.2631578947368425,
          -4.7368421052631575,
          -4.2105263157894735,
          -3.6842105263157894,
          -3.1578947368421053,
          -2.6315789473684212,
          -2.1052631578947367,
          -1.5789473684210527,
          -1.0526315789473684,
          -0.5263157894736842,
          0
         ],
         "xaxis": "x2",
         "y": [
          -0.1992468465766886,
          -0.2008408804574244,
          -0.19852810651397299,
          -0.200454540158578,
          -0.2061121775806746,
          -0.1981882300818628,
          -0.20534264239695685,
          -0.2003802082266158,
          -0.19976268626008356,
          -0.1983761488418696,
          -0.19703171839008488,
          -0.19750871607229298,
          -0.19626737187517826,
          -0.19909623332513138,
          -0.19575969737442359,
          -0.19888501192803654,
          -0.20867053048308143,
          -0.19742010888549194,
          -0.19454672258496933,
          -0.19850654985373223
         ],
         "yaxis": "y4"
        },
        {
         "colorbar": {
          "title": ""
         },
         "hoverinfo": "text",
         "legendgroup": "y5",
         "line": {
          "color": "rgba(255, 0, 0, 1.000)",
          "dash": "dash",
          "shape": "linear",
          "width": 1
         },
         "mode": "lines",
         "name": "y5",
         "showlegend": true,
         "text": [
          null,
          null,
          null,
          null,
          null,
          null,
          null,
          null,
          null,
          null,
          null,
          null,
          null,
          null,
          null,
          null,
          null,
          null,
          null,
          null
         ],
         "type": "scatter",
         "x": [
          -3,
          -2.6842105263157894,
          -2.3684210526315788,
          -2.0526315789473686,
          -1.736842105263158,
          -1.4210526315789473,
          -1.105263157894737,
          -0.7894736842105263,
          -0.47368421052631576,
          -0.15789473684210525,
          0.15789473684210525,
          0.47368421052631576,
          0.7894736842105263,
          1.105263157894737,
          1.4210526315789473,
          1.736842105263158,
          2.0526315789473686,
          2.3684210526315788,
          2.6842105263157894,
          3
         ],
         "xaxis": "x1",
         "y": [
          1.0001993816836634,
          1.0001993816836634,
          1.0001993816836634,
          1.0001993816836634,
          1.0001993816836634,
          1.0001993816836634,
          1.0001993816836634,
          1.0001993816836634,
          1.0001993816836634,
          1.0001993816836634,
          1.0001993816836634,
          1.0001993816836634,
          1.0001993816836634,
          1.0001993816836634,
          1.0001993816836634,
          1.0001993816836634,
          1.0001993816836634,
          1.0001993816836634,
          1.0001993816836634,
          1.0001993816836634
         ],
         "yaxis": "y1"
        },
        {
         "colorbar": {
          "title": ""
         },
         "hoverinfo": "text",
         "legendgroup": "y6",
         "line": {
          "color": "rgba(0, 0, 0, 1.000)",
          "dash": "solid",
          "shape": "linear",
          "width": 1
         },
         "mode": "lines",
         "name": "y6",
         "showlegend": true,
         "text": [
          null,
          null,
          null,
          null,
          null,
          null,
          null,
          null,
          null,
          null,
          null,
          null,
          null,
          null,
          null,
          null,
          null,
          null,
          null,
          null
         ],
         "type": "scatter",
         "x": [
          -3,
          -2.6842105263157894,
          -2.3684210526315788,
          -2.0526315789473686,
          -1.736842105263158,
          -1.4210526315789473,
          -1.105263157894737,
          -0.7894736842105263,
          -0.47368421052631576,
          -0.15789473684210525,
          0.15789473684210525,
          0.47368421052631576,
          0.7894736842105263,
          1.105263157894737,
          1.4210526315789473,
          1.736842105263158,
          2.0526315789473686,
          2.3684210526315788,
          2.6842105263157894,
          3
         ],
         "xaxis": "x1",
         "y": [
          -0.19310791957414686,
          -0.19753072641379762,
          -0.20238384658337477,
          -0.19937690081834686,
          -0.20570705528501554,
          -0.19400985202320792,
          -0.19991199528694067,
          -0.20016114163904333,
          -0.20155234631877939,
          -0.19757076030145476,
          -0.1997069905767844,
          -0.1959041370228223,
          -0.20554909831119159,
          -0.2021295595332439,
          -0.20103701119803577,
          -0.20186369694105785,
          -0.20118513999286095,
          -0.19712735965870512,
          -0.19762145201054862,
          -0.20039230521270088
         ],
         "yaxis": "y1"
        },
        {
         "colorbar": {
          "title": ""
         },
         "hoverinfo": "text",
         "legendgroup": "y7",
         "line": {
          "color": "rgba(255, 0, 0, 1.000)",
          "dash": "dash",
          "shape": "linear",
          "width": 1
         },
         "mode": "lines",
         "name": "y7",
         "showlegend": true,
         "text": [
          null,
          null,
          null,
          null,
          null,
          null,
          null,
          null,
          null,
          null,
          null,
          null,
          null,
          null,
          null,
          null,
          null,
          null,
          null,
          null
         ],
         "type": "scatter",
         "x": [
          0,
          0.5263157894736842,
          1.0526315789473684,
          1.5789473684210527,
          2.1052631578947367,
          2.6315789473684212,
          3.1578947368421053,
          3.6842105263157894,
          4.2105263157894735,
          4.7368421052631575,
          5.2631578947368425,
          5.7894736842105265,
          6.315789473684211,
          6.842105263157895,
          7.368421052631579,
          7.894736842105263,
          8.421052631578947,
          8.947368421052632,
          9.473684210526315,
          10
         ],
         "xaxis": "x1",
         "y": [
          1.0001993816836634,
          1.0001993816836634,
          1.0001993816836634,
          1.0001993816836634,
          1.0001993816836634,
          1.0001993816836634,
          1.0001993816836634,
          1.0001993816836634,
          1.0001993816836634,
          1.0001993816836634,
          1.0001993816836634,
          1.0001993816836634,
          1.0001993816836634,
          1.0001993816836634,
          1.0001993816836634,
          1.0001993816836634,
          1.0001993816836634,
          1.0001993816836634,
          1.0001993816836634,
          1.0001993816836634
         ],
         "yaxis": "y3"
        },
        {
         "colorbar": {
          "title": ""
         },
         "hoverinfo": "text",
         "legendgroup": "y8",
         "line": {
          "color": "rgba(0, 0, 0, 1.000)",
          "dash": "solid",
          "shape": "linear",
          "width": 1
         },
         "mode": "lines",
         "name": "y8",
         "showlegend": true,
         "text": [
          null,
          null,
          null,
          null,
          null,
          null,
          null,
          null,
          null,
          null,
          null,
          null,
          null,
          null,
          null,
          null,
          null,
          null,
          null,
          null
         ],
         "type": "scatter",
         "x": [
          0,
          0.5263157894736842,
          1.0526315789473684,
          1.5789473684210527,
          2.1052631578947367,
          2.6315789473684212,
          3.1578947368421053,
          3.6842105263157894,
          4.2105263157894735,
          4.7368421052631575,
          5.2631578947368425,
          5.7894736842105265,
          6.315789473684211,
          6.842105263157895,
          7.368421052631579,
          7.894736842105263,
          8.421052631578947,
          8.947368421052632,
          9.473684210526315,
          10
         ],
         "xaxis": "x1",
         "y": [
          -0.2015018704253444,
          -0.20110445457207987,
          -0.19879345784713373,
          -0.19584155612203633,
          -0.1989307131223976,
          -0.20617574930456262,
          -0.20520522081141468,
          -0.19879358548315518,
          -0.2011327866904586,
          -0.20136580860135478,
          -0.20313566644342562,
          -0.19680478579476696,
          -0.20380765964930664,
          -0.20286882746586768,
          -0.20392719420772107,
          -0.20029990260508196,
          -0.1998470473268356,
          -0.19967936283579468,
          -0.19847345187192336,
          -0.2016973879114554
         ],
         "yaxis": "y3"
        }
       ],
       "layout": {
        "annotations": [],
        "height": 400,
        "margin": {
         "b": 20,
         "l": 0,
         "r": 0,
         "t": 20
        },
        "paper_bgcolor": "rgba(255, 255, 255, 1.000)",
        "plot_bgcolor": "rgba(255, 255, 255, 1.000)",
        "showlegend": false,
        "width": 600,
        "xaxis1": {
         "anchor": "y3",
         "domain": [
          0.09128390201224845,
          0.5061698016914552
         ],
         "gridcolor": "rgba(0, 0, 0, 0.100)",
         "gridwidth": 0.5,
         "linecolor": "rgba(0, 0, 0, 1.000)",
         "mirror": false,
         "range": [
          -3.39,
          10.39
         ],
         "showgrid": true,
         "showline": true,
         "showticklabels": true,
         "tickangle": 0,
         "tickcolor": "rgb(0, 0, 0)",
         "tickfont": {
          "color": "rgba(0, 0, 0, 1.000)",
          "family": "sans-serif",
          "size": 11
         },
         "tickmode": "array",
         "ticks": "inside",
         "ticktext": [
          "-2",
          "0",
          "2",
          "4",
          "6",
          "8",
          "10"
         ],
         "tickvals": [
          -2,
          0,
          2,
          4,
          6,
          8,
          10
         ],
         "title": "p3",
         "titlefont": {
          "color": "rgba(0, 0, 0, 1.000)",
          "family": "sans-serif",
          "size": 15
         },
         "type": "-",
         "visible": true,
         "zeroline": false,
         "zerolinecolor": "rgba(0, 0, 0, 1.000)"
        },
        "xaxis2": {
         "anchor": "y4",
         "domain": [
          0.578552420530767,
          0.9934383202099738
         ],
         "gridcolor": "rgba(0, 0, 0, 0.100)",
         "gridwidth": 0.5,
         "linecolor": "rgba(0, 0, 0, 1.000)",
         "mirror": false,
         "range": [
          -10.36,
          2.36
         ],
         "showgrid": true,
         "showline": true,
         "showticklabels": true,
         "tickangle": 0,
         "tickcolor": "rgb(0, 0, 0)",
         "tickfont": {
          "color": "rgba(0, 0, 0, 1.000)",
          "family": "sans-serif",
          "size": 11
         },
         "tickmode": "array",
         "ticks": "inside",
         "ticktext": [
          "-10.0",
          "-7.5",
          "-5.0",
          "-2.5",
          "0.0"
         ],
         "tickvals": [
          -10,
          -7.5,
          -5,
          -2.5,
          0
         ],
         "title": "p4",
         "titlefont": {
          "color": "rgba(0, 0, 0, 1.000)",
          "family": "sans-serif",
          "size": 15
         },
         "type": "-",
         "visible": true,
         "zeroline": false,
         "zerolinecolor": "rgba(0, 0, 0, 1.000)"
        },
        "yaxis1": {
         "anchor": "x1",
         "domain": [
          0.5758147419072616,
          0.9901574803149606
         ],
         "gridcolor": "rgba(0, 0, 0, 0.100)",
         "gridwidth": 0.5,
         "linecolor": "rgba(0, 0, 0, 1.000)",
         "mirror": false,
         "range": [
          -0.2418842483940759,
          1.0363765747927238
         ],
         "showgrid": true,
         "showline": true,
         "showticklabels": true,
         "tickangle": 0,
         "tickcolor": "rgb(0, 0, 0)",
         "tickfont": {
          "color": "rgba(0, 0, 0, 1.000)",
          "family": "sans-serif",
          "size": 11
         },
         "tickmode": "array",
         "ticks": "inside",
         "ticktext": [
          "0.00",
          "0.25",
          "0.50",
          "0.75",
          "1.00"
         ],
         "tickvals": [
          0,
          0.25,
          0.5,
          0.75,
          1
         ],
         "title": "mu2",
         "titlefont": {
          "color": "rgba(0, 0, 0, 1.000)",
          "family": "sans-serif",
          "size": 15
         },
         "type": "-",
         "visible": true,
         "zeroline": false,
         "zerolinecolor": "rgba(0, 0, 0, 1.000)"
        },
        "yaxis2": {
         "anchor": "x2",
         "domain": [
          0.5758147419072616,
          0.9901574803149606
         ],
         "gridcolor": "rgba(0, 0, 0, 0.100)",
         "gridwidth": 0.5,
         "linecolor": "rgba(0, 0, 0, 1.000)",
         "mirror": false,
         "range": [
          -2.1219401684587638,
          2.1217296825657463
         ],
         "showgrid": true,
         "showline": true,
         "showticklabels": true,
         "tickangle": 0,
         "tickcolor": "rgb(0, 0, 0)",
         "tickfont": {
          "color": "rgba(0, 0, 0, 1.000)",
          "family": "sans-serif",
          "size": 11
         },
         "tickmode": "array",
         "ticks": "inside",
         "ticktext": [
          "-2",
          "-1",
          "0",
          "1",
          "2"
         ],
         "tickvals": [
          -2,
          -1,
          0,
          1,
          2
         ],
         "title": "",
         "titlefont": {
          "color": "rgba(0, 0, 0, 1.000)",
          "family": "sans-serif",
          "size": 15
         },
         "type": "-",
         "visible": true,
         "zeroline": false,
         "zerolinecolor": "rgba(0, 0, 0, 1.000)"
        },
        "yaxis3": {
         "anchor": "x1",
         "domain": [
          0.07581474190726165,
          0.49015748031496065
         ],
         "gridcolor": "rgba(0, 0, 0, 0.100)",
         "gridwidth": 0.5,
         "linecolor": "rgba(0, 0, 0, 1.000)",
         "mirror": false,
         "range": [
          -0.2423670032342094,
          1.0363906356133101
         ],
         "showgrid": true,
         "showline": true,
         "showticklabels": true,
         "tickangle": 0,
         "tickcolor": "rgb(0, 0, 0)",
         "tickfont": {
          "color": "rgba(0, 0, 0, 1.000)",
          "family": "sans-serif",
          "size": 11
         },
         "tickmode": "array",
         "ticks": "inside",
         "ticktext": [
          "0.00",
          "0.25",
          "0.50",
          "0.75",
          "1.00"
         ],
         "tickvals": [
          0,
          0.25,
          0.5,
          0.75,
          1
         ],
         "title": "mu2",
         "titlefont": {
          "color": "rgba(0, 0, 0, 1.000)",
          "family": "sans-serif",
          "size": 15
         },
         "type": "-",
         "visible": true,
         "zeroline": false,
         "zerolinecolor": "rgba(0, 0, 0, 1.000)"
        },
        "yaxis4": {
         "anchor": "x2",
         "domain": [
          0.07581474190726165,
          0.49015748031496065
         ],
         "gridcolor": "rgba(0, 0, 0, 0.100)",
         "gridwidth": 0.5,
         "linecolor": "rgba(0, 0, 0, 1.000)",
         "mirror": false,
         "range": [
          -0.2449366278480838,
          1.0364654790486658
         ],
         "showgrid": true,
         "showline": true,
         "showticklabels": true,
         "tickangle": 0,
         "tickcolor": "rgb(0, 0, 0)",
         "tickfont": {
          "color": "rgba(0, 0, 0, 1.000)",
          "family": "sans-serif",
          "size": 11
         },
         "tickmode": "array",
         "ticks": "inside",
         "ticktext": [
          "0.00",
          "0.25",
          "0.50",
          "0.75",
          "1.00"
         ],
         "tickvals": [
          0,
          0.25,
          0.5,
          0.75,
          1
         ],
         "title": "",
         "titlefont": {
          "color": "rgba(0, 0, 0, 1.000)",
          "family": "sans-serif",
          "size": 15
         },
         "type": "-",
         "visible": true,
         "zeroline": false,
         "zerolinecolor": "rgba(0, 0, 0, 1.000)"
        }
       }
      },
      "text/html": [
       "<div id=\"361f7fb7-62bf-4239-bfda-92c50709944b\" class=\"plotly-graph-div\"></div>\n",
       "\n",
       "<script>\n",
       "    (function() {\n",
       "        var data_361f7fb7 = [{\"xaxis\":\"x2\",\"colorbar\":{\"title\":\"\"},\"yaxis\":\"y2\",\"text\":[null,null,null,null,null,null,null,null,null,null,null,null,null,null,null,null,null,null,null,null],\"x\":[-2.0,-1.7894736842105263,-1.5789473684210527,-1.368421052631579,-1.1578947368421053,-0.9473684210526315,-0.7368421052631579,-0.5263157894736842,-0.3157894736842105,-0.10526315789473684,0.10526315789473684,0.3157894736842105,0.5263157894736842,0.7368421052631579,0.9473684210526315,1.1578947368421053,1.368421052631579,1.5789473684210527,1.7894736842105263,2.0],\"showlegend\":true,\"mode\":\"lines\",\"name\":\"y1\",\"legendgroup\":\"y1\",\"line\":{\"color\":\"rgba(255, 0, 0, 1.000)\",\"width\":1,\"dash\":\"dash\",\"shape\":\"linear\"},\"y\":[1.0001993816836634,1.0001993816836634,1.0001993816836634,1.0001993816836634,1.0001993816836634,1.0001993816836634,1.0001993816836634,1.0001993816836634,1.0001993816836634,1.0001993816836634,1.0001993816836634,1.0001993816836634,1.0001993816836634,1.0001993816836634,1.0001993816836634,1.0001993816836634,1.0001993816836634,1.0001993816836634,1.0001993816836634,1.0001993816836634],\"type\":\"scatter\",\"hoverinfo\":\"text\"},{\"xaxis\":\"x2\",\"colorbar\":{\"title\":\"\"},\"yaxis\":\"y2\",\"text\":[null,null,null,null,null,null,null,null,null,null,null,null,null,null,null,null,null,null,null,null],\"x\":[-2.0,-1.7894736842105263,-1.5789473684210527,-1.368421052631579,-1.1578947368421053,-0.9473684210526315,-0.7368421052631579,-0.5263157894736842,-0.3157894736842105,-0.10526315789473684,0.10526315789473684,0.3157894736842105,0.5263157894736842,0.7368421052631579,0.9473684210526315,1.1578947368421053,1.368421052631579,1.5789473684210527,1.7894736842105263,2.0],\"showlegend\":true,\"mode\":\"lines\",\"name\":\"y2\",\"legendgroup\":\"y2\",\"line\":{\"color\":\"rgba(0, 0, 0, 1.000)\",\"width\":1,\"dash\":\"solid\",\"shape\":\"linear\"},\"y\":[-2.001836304750523,-1.7863726038610364,-1.5775887958591752,-1.3669745334934522,-1.1567641244245959,-0.9441120535995653,-0.73605215867048,-0.5299273067121784,-0.31289643256227406,-0.1052026847667785,0.10334946735863738,0.31503274484645816,0.5227220894939213,0.7373681251867527,0.9431661724857591,1.1536381848597441,1.3682170024446079,1.5799108676618419,1.7847355070862654,2.0016258188575056],\"type\":\"scatter\",\"hoverinfo\":\"text\"},{\"xaxis\":\"x2\",\"colorbar\":{\"title\":\"\"},\"yaxis\":\"y4\",\"text\":[null,null,null,null,null,null,null,null,null,null,null,null,null,null,null,null,null,null,null,null],\"x\":[-10.0,-9.473684210526315,-8.947368421052632,-8.421052631578947,-7.894736842105263,-7.368421052631579,-6.842105263157895,-6.315789473684211,-5.7894736842105265,-5.2631578947368425,-4.7368421052631575,-4.2105263157894735,-3.6842105263157894,-3.1578947368421053,-2.6315789473684212,-2.1052631578947367,-1.5789473684210527,-1.0526315789473684,-0.5263157894736842,0.0],\"showlegend\":true,\"mode\":\"lines\",\"name\":\"y3\",\"legendgroup\":\"y3\",\"line\":{\"color\":\"rgba(255, 0, 0, 1.000)\",\"width\":1,\"dash\":\"dash\",\"shape\":\"linear\"},\"y\":[1.0001993816836634,1.0001993816836634,1.0001993816836634,1.0001993816836634,1.0001993816836634,1.0001993816836634,1.0001993816836634,1.0001993816836634,1.0001993816836634,1.0001993816836634,1.0001993816836634,1.0001993816836634,1.0001993816836634,1.0001993816836634,1.0001993816836634,1.0001993816836634,1.0001993816836634,1.0001993816836634,1.0001993816836634,1.0001993816836634],\"type\":\"scatter\",\"hoverinfo\":\"text\"},{\"xaxis\":\"x2\",\"colorbar\":{\"title\":\"\"},\"yaxis\":\"y4\",\"text\":[null,null,null,null,null,null,null,null,null,null,null,null,null,null,null,null,null,null,null,null],\"x\":[-10.0,-9.473684210526315,-8.947368421052632,-8.421052631578947,-7.894736842105263,-7.368421052631579,-6.842105263157895,-6.315789473684211,-5.7894736842105265,-5.2631578947368425,-4.7368421052631575,-4.2105263157894735,-3.6842105263157894,-3.1578947368421053,-2.6315789473684212,-2.1052631578947367,-1.5789473684210527,-1.0526315789473684,-0.5263157894736842,0.0],\"showlegend\":true,\"mode\":\"lines\",\"name\":\"y4\",\"legendgroup\":\"y4\",\"line\":{\"color\":\"rgba(0, 0, 0, 1.000)\",\"width\":1,\"dash\":\"solid\",\"shape\":\"linear\"},\"y\":[-0.1992468465766886,-0.2008408804574244,-0.19852810651397299,-0.200454540158578,-0.2061121775806746,-0.1981882300818628,-0.20534264239695685,-0.2003802082266158,-0.19976268626008356,-0.1983761488418696,-0.19703171839008488,-0.19750871607229298,-0.19626737187517826,-0.19909623332513138,-0.19575969737442359,-0.19888501192803654,-0.20867053048308143,-0.19742010888549194,-0.19454672258496933,-0.19850654985373223],\"type\":\"scatter\",\"hoverinfo\":\"text\"},{\"xaxis\":\"x1\",\"colorbar\":{\"title\":\"\"},\"yaxis\":\"y1\",\"text\":[null,null,null,null,null,null,null,null,null,null,null,null,null,null,null,null,null,null,null,null],\"x\":[-3.0,-2.6842105263157894,-2.3684210526315788,-2.0526315789473686,-1.736842105263158,-1.4210526315789473,-1.105263157894737,-0.7894736842105263,-0.47368421052631576,-0.15789473684210525,0.15789473684210525,0.47368421052631576,0.7894736842105263,1.105263157894737,1.4210526315789473,1.736842105263158,2.0526315789473686,2.3684210526315788,2.6842105263157894,3.0],\"showlegend\":true,\"mode\":\"lines\",\"name\":\"y5\",\"legendgroup\":\"y5\",\"line\":{\"color\":\"rgba(255, 0, 0, 1.000)\",\"width\":1,\"dash\":\"dash\",\"shape\":\"linear\"},\"y\":[1.0001993816836634,1.0001993816836634,1.0001993816836634,1.0001993816836634,1.0001993816836634,1.0001993816836634,1.0001993816836634,1.0001993816836634,1.0001993816836634,1.0001993816836634,1.0001993816836634,1.0001993816836634,1.0001993816836634,1.0001993816836634,1.0001993816836634,1.0001993816836634,1.0001993816836634,1.0001993816836634,1.0001993816836634,1.0001993816836634],\"type\":\"scatter\",\"hoverinfo\":\"text\"},{\"xaxis\":\"x1\",\"colorbar\":{\"title\":\"\"},\"yaxis\":\"y1\",\"text\":[null,null,null,null,null,null,null,null,null,null,null,null,null,null,null,null,null,null,null,null],\"x\":[-3.0,-2.6842105263157894,-2.3684210526315788,-2.0526315789473686,-1.736842105263158,-1.4210526315789473,-1.105263157894737,-0.7894736842105263,-0.47368421052631576,-0.15789473684210525,0.15789473684210525,0.47368421052631576,0.7894736842105263,1.105263157894737,1.4210526315789473,1.736842105263158,2.0526315789473686,2.3684210526315788,2.6842105263157894,3.0],\"showlegend\":true,\"mode\":\"lines\",\"name\":\"y6\",\"legendgroup\":\"y6\",\"line\":{\"color\":\"rgba(0, 0, 0, 1.000)\",\"width\":1,\"dash\":\"solid\",\"shape\":\"linear\"},\"y\":[-0.19310791957414686,-0.19753072641379762,-0.20238384658337477,-0.19937690081834686,-0.20570705528501554,-0.19400985202320792,-0.19991199528694067,-0.20016114163904333,-0.20155234631877939,-0.19757076030145476,-0.1997069905767844,-0.1959041370228223,-0.20554909831119159,-0.2021295595332439,-0.20103701119803577,-0.20186369694105785,-0.20118513999286095,-0.19712735965870512,-0.19762145201054862,-0.20039230521270088],\"type\":\"scatter\",\"hoverinfo\":\"text\"},{\"xaxis\":\"x1\",\"colorbar\":{\"title\":\"\"},\"yaxis\":\"y3\",\"text\":[null,null,null,null,null,null,null,null,null,null,null,null,null,null,null,null,null,null,null,null],\"x\":[0.0,0.5263157894736842,1.0526315789473684,1.5789473684210527,2.1052631578947367,2.6315789473684212,3.1578947368421053,3.6842105263157894,4.2105263157894735,4.7368421052631575,5.2631578947368425,5.7894736842105265,6.315789473684211,6.842105263157895,7.368421052631579,7.894736842105263,8.421052631578947,8.947368421052632,9.473684210526315,10.0],\"showlegend\":true,\"mode\":\"lines\",\"name\":\"y7\",\"legendgroup\":\"y7\",\"line\":{\"color\":\"rgba(255, 0, 0, 1.000)\",\"width\":1,\"dash\":\"dash\",\"shape\":\"linear\"},\"y\":[1.0001993816836634,1.0001993816836634,1.0001993816836634,1.0001993816836634,1.0001993816836634,1.0001993816836634,1.0001993816836634,1.0001993816836634,1.0001993816836634,1.0001993816836634,1.0001993816836634,1.0001993816836634,1.0001993816836634,1.0001993816836634,1.0001993816836634,1.0001993816836634,1.0001993816836634,1.0001993816836634,1.0001993816836634,1.0001993816836634],\"type\":\"scatter\",\"hoverinfo\":\"text\"},{\"xaxis\":\"x1\",\"colorbar\":{\"title\":\"\"},\"yaxis\":\"y3\",\"text\":[null,null,null,null,null,null,null,null,null,null,null,null,null,null,null,null,null,null,null,null],\"x\":[0.0,0.5263157894736842,1.0526315789473684,1.5789473684210527,2.1052631578947367,2.6315789473684212,3.1578947368421053,3.6842105263157894,4.2105263157894735,4.7368421052631575,5.2631578947368425,5.7894736842105265,6.315789473684211,6.842105263157895,7.368421052631579,7.894736842105263,8.421052631578947,8.947368421052632,9.473684210526315,10.0],\"showlegend\":true,\"mode\":\"lines\",\"name\":\"y8\",\"legendgroup\":\"y8\",\"line\":{\"color\":\"rgba(0, 0, 0, 1.000)\",\"width\":1,\"dash\":\"solid\",\"shape\":\"linear\"},\"y\":[-0.2015018704253444,-0.20110445457207987,-0.19879345784713373,-0.19584155612203633,-0.1989307131223976,-0.20617574930456262,-0.20520522081141468,-0.19879358548315518,-0.2011327866904586,-0.20136580860135478,-0.20313566644342562,-0.19680478579476696,-0.20380765964930664,-0.20286882746586768,-0.20392719420772107,-0.20029990260508196,-0.1998470473268356,-0.19967936283579468,-0.19847345187192336,-0.2016973879114554],\"type\":\"scatter\",\"hoverinfo\":\"text\"}];\n",
       "var layout_361f7fb7 = {\"paper_bgcolor\":\"rgba(255, 255, 255, 1.000)\",\"height\":400,\"yaxis4\":{\"showticklabels\":true,\"gridwidth\":0.5,\"tickvals\":[0.0,0.25,0.5,0.75,1.0],\"visible\":true,\"ticks\":\"inside\",\"range\":[-0.2449366278480838,1.0364654790486658],\"domain\":[0.07581474190726165,0.49015748031496065],\"tickmode\":\"array\",\"linecolor\":\"rgba(0, 0, 0, 1.000)\",\"showgrid\":true,\"title\":\"\",\"mirror\":false,\"tickangle\":0,\"showline\":true,\"gridcolor\":\"rgba(0, 0, 0, 0.100)\",\"titlefont\":{\"color\":\"rgba(0, 0, 0, 1.000)\",\"family\":\"sans-serif\",\"size\":15},\"tickcolor\":\"rgb(0, 0, 0)\",\"ticktext\":[\"0.00\",\"0.25\",\"0.50\",\"0.75\",\"1.00\"],\"zeroline\":false,\"type\":\"-\",\"tickfont\":{\"color\":\"rgba(0, 0, 0, 1.000)\",\"family\":\"sans-serif\",\"size\":11},\"zerolinecolor\":\"rgba(0, 0, 0, 1.000)\",\"anchor\":\"x2\"},\"yaxis2\":{\"showticklabels\":true,\"gridwidth\":0.5,\"tickvals\":[-2.0,-1.0,0.0,1.0,2.0],\"visible\":true,\"ticks\":\"inside\",\"range\":[-2.1219401684587638,2.1217296825657463],\"domain\":[0.5758147419072616,0.9901574803149606],\"tickmode\":\"array\",\"linecolor\":\"rgba(0, 0, 0, 1.000)\",\"showgrid\":true,\"title\":\"\",\"mirror\":false,\"tickangle\":0,\"showline\":true,\"gridcolor\":\"rgba(0, 0, 0, 0.100)\",\"titlefont\":{\"color\":\"rgba(0, 0, 0, 1.000)\",\"family\":\"sans-serif\",\"size\":15},\"tickcolor\":\"rgb(0, 0, 0)\",\"ticktext\":[\"-2\",\"-1\",\"0\",\"1\",\"2\"],\"zeroline\":false,\"type\":\"-\",\"tickfont\":{\"color\":\"rgba(0, 0, 0, 1.000)\",\"family\":\"sans-serif\",\"size\":11},\"zerolinecolor\":\"rgba(0, 0, 0, 1.000)\",\"anchor\":\"x2\"},\"yaxis1\":{\"showticklabels\":true,\"gridwidth\":0.5,\"tickvals\":[0.0,0.25,0.5,0.75,1.0],\"visible\":true,\"ticks\":\"inside\",\"range\":[-0.2418842483940759,1.0363765747927238],\"domain\":[0.5758147419072616,0.9901574803149606],\"tickmode\":\"array\",\"linecolor\":\"rgba(0, 0, 0, 1.000)\",\"showgrid\":true,\"title\":\"mu2\",\"mirror\":false,\"tickangle\":0,\"showline\":true,\"gridcolor\":\"rgba(0, 0, 0, 0.100)\",\"titlefont\":{\"color\":\"rgba(0, 0, 0, 1.000)\",\"family\":\"sans-serif\",\"size\":15},\"tickcolor\":\"rgb(0, 0, 0)\",\"ticktext\":[\"0.00\",\"0.25\",\"0.50\",\"0.75\",\"1.00\"],\"zeroline\":false,\"type\":\"-\",\"tickfont\":{\"color\":\"rgba(0, 0, 0, 1.000)\",\"family\":\"sans-serif\",\"size\":11},\"zerolinecolor\":\"rgba(0, 0, 0, 1.000)\",\"anchor\":\"x1\"},\"annotations\":[],\"plot_bgcolor\":\"rgba(255, 255, 255, 1.000)\",\"showlegend\":false,\"xaxis1\":{\"showticklabels\":true,\"gridwidth\":0.5,\"tickvals\":[-2.0,0.0,2.0,4.0,6.0,8.0,10.0],\"visible\":true,\"ticks\":\"inside\",\"range\":[-3.39,10.39],\"domain\":[0.09128390201224845,0.5061698016914552],\"tickmode\":\"array\",\"linecolor\":\"rgba(0, 0, 0, 1.000)\",\"showgrid\":true,\"title\":\"p3\",\"mirror\":false,\"tickangle\":0,\"showline\":true,\"gridcolor\":\"rgba(0, 0, 0, 0.100)\",\"titlefont\":{\"color\":\"rgba(0, 0, 0, 1.000)\",\"family\":\"sans-serif\",\"size\":15},\"tickcolor\":\"rgb(0, 0, 0)\",\"ticktext\":[\"-2\",\"0\",\"2\",\"4\",\"6\",\"8\",\"10\"],\"zeroline\":false,\"type\":\"-\",\"tickfont\":{\"color\":\"rgba(0, 0, 0, 1.000)\",\"family\":\"sans-serif\",\"size\":11},\"zerolinecolor\":\"rgba(0, 0, 0, 1.000)\",\"anchor\":\"y3\"},\"yaxis3\":{\"showticklabels\":true,\"gridwidth\":0.5,\"tickvals\":[0.0,0.25,0.5,0.75,1.0],\"visible\":true,\"ticks\":\"inside\",\"range\":[-0.2423670032342094,1.0363906356133101],\"domain\":[0.07581474190726165,0.49015748031496065],\"tickmode\":\"array\",\"linecolor\":\"rgba(0, 0, 0, 1.000)\",\"showgrid\":true,\"title\":\"mu2\",\"mirror\":false,\"tickangle\":0,\"showline\":true,\"gridcolor\":\"rgba(0, 0, 0, 0.100)\",\"titlefont\":{\"color\":\"rgba(0, 0, 0, 1.000)\",\"family\":\"sans-serif\",\"size\":15},\"tickcolor\":\"rgb(0, 0, 0)\",\"ticktext\":[\"0.00\",\"0.25\",\"0.50\",\"0.75\",\"1.00\"],\"zeroline\":false,\"type\":\"-\",\"tickfont\":{\"color\":\"rgba(0, 0, 0, 1.000)\",\"family\":\"sans-serif\",\"size\":11},\"zerolinecolor\":\"rgba(0, 0, 0, 1.000)\",\"anchor\":\"x1\"},\"xaxis2\":{\"showticklabels\":true,\"gridwidth\":0.5,\"tickvals\":[-10.0,-7.5,-5.0,-2.5,0.0],\"visible\":true,\"ticks\":\"inside\",\"range\":[-10.36,2.36],\"domain\":[0.578552420530767,0.9934383202099738],\"tickmode\":\"array\",\"linecolor\":\"rgba(0, 0, 0, 1.000)\",\"showgrid\":true,\"title\":\"p4\",\"mirror\":false,\"tickangle\":0,\"showline\":true,\"gridcolor\":\"rgba(0, 0, 0, 0.100)\",\"titlefont\":{\"color\":\"rgba(0, 0, 0, 1.000)\",\"family\":\"sans-serif\",\"size\":15},\"tickcolor\":\"rgb(0, 0, 0)\",\"ticktext\":[\"-10.0\",\"-7.5\",\"-5.0\",\"-2.5\",\"0.0\"],\"zeroline\":false,\"type\":\"-\",\"tickfont\":{\"color\":\"rgba(0, 0, 0, 1.000)\",\"family\":\"sans-serif\",\"size\":11},\"zerolinecolor\":\"rgba(0, 0, 0, 1.000)\",\"anchor\":\"y4\"},\"margin\":{\"l\":0,\"b\":20,\"r\":0,\"t\":20},\"width\":600};\n",
       "\n",
       "        if (!requirejs.specified('plotly')) {\n",
       "          requirejs.config({\n",
       "            paths: {\n",
       "              'plotly_cdn': ['https://cdn.plot.ly/plotly-latest.min']\n",
       "            },\n",
       "          });\n",
       "          require(['plotly_cdn'], function(Plotly) {\n",
       "            Plotly.newPlot('361f7fb7-62bf-4239-bfda-92c50709944b',\n",
       "    data_361f7fb7, layout_361f7fb7,\n",
       "    {showLink: false}\n",
       ");\n",
       "\n",
       "          });\n",
       "        } else {\n",
       "          require(['plotly'], function(Plotly) {\n",
       "            Plotly.newPlot('361f7fb7-62bf-4239-bfda-92c50709944b',\n",
       "    data_361f7fb7, layout_361f7fb7,\n",
       "    {showLink: false}\n",
       ");\n",
       "\n",
       "            if (window.Plotly == undefined) {\n",
       "                window.Plotly = Plotly;\n",
       "            }\n",
       "          });\n",
       "        }\n",
       "    })();\n",
       " </script>\n"
      ]
     },
     "metadata": {},
     "output_type": "display_data"
    },
    {
     "data": {
      "application/vnd.plotly.v1+json": {
       "data": [
        {
         "colorbar": {
          "title": ""
         },
         "hoverinfo": "text",
         "legendgroup": "y1",
         "line": {
          "color": "rgba(255, 0, 0, 1.000)",
          "dash": "dash",
          "shape": "linear",
          "width": 1
         },
         "mode": "lines",
         "name": "y1",
         "showlegend": true,
         "text": [
          null,
          null,
          null,
          null,
          null,
          null,
          null,
          null,
          null,
          null,
          null,
          null,
          null,
          null,
          null,
          null,
          null,
          null,
          null,
          null
         ],
         "type": "scatter",
         "x": [
          -2,
          -1.7894736842105263,
          -1.5789473684210527,
          -1.368421052631579,
          -1.1578947368421053,
          -0.9473684210526315,
          -0.7368421052631579,
          -0.5263157894736842,
          -0.3157894736842105,
          -0.10526315789473684,
          0.10526315789473684,
          0.3157894736842105,
          0.5263157894736842,
          0.7368421052631579,
          0.9473684210526315,
          1.1578947368421053,
          1.368421052631579,
          1.5789473684210527,
          1.7894736842105263,
          2
         ],
         "xaxis": "x2",
         "y": [
          5.007532118684993,
          5.007532118684993,
          5.007532118684993,
          5.007532118684993,
          5.007532118684993,
          5.007532118684993,
          5.007532118684993,
          5.007532118684993,
          5.007532118684993,
          5.007532118684993,
          5.007532118684993,
          5.007532118684993,
          5.007532118684993,
          5.007532118684993,
          5.007532118684993,
          5.007532118684993,
          5.007532118684993,
          5.007532118684993,
          5.007532118684993,
          5.007532118684993
         ],
         "yaxis": "y2"
        },
        {
         "colorbar": {
          "title": ""
         },
         "hoverinfo": "text",
         "legendgroup": "y2",
         "line": {
          "color": "rgba(0, 0, 0, 1.000)",
          "dash": "solid",
          "shape": "linear",
          "width": 1
         },
         "mode": "lines",
         "name": "y2",
         "showlegend": true,
         "text": [
          null,
          null,
          null,
          null,
          null,
          null,
          null,
          null,
          null,
          null,
          null,
          null,
          null,
          null,
          null,
          null,
          null,
          null,
          null,
          null
         ],
         "type": "scatter",
         "x": [
          -2,
          -1.7894736842105263,
          -1.5789473684210527,
          -1.368421052631579,
          -1.1578947368421053,
          -0.9473684210526315,
          -0.7368421052631579,
          -0.5263157894736842,
          -0.3157894736842105,
          -0.10526315789473684,
          0.10526315789473684,
          0.3157894736842105,
          0.5263157894736842,
          0.7368421052631579,
          0.9473684210526315,
          1.1578947368421053,
          1.368421052631579,
          1.5789473684210527,
          1.7894736842105263,
          2
         ],
         "xaxis": "x2",
         "y": [
          0.09719428773283996,
          0.09708694957091982,
          0.09808925348331875,
          0.09813031667549102,
          0.10286211418464616,
          0.09867986601002313,
          0.09863408240275895,
          0.09999862412297826,
          0.10043731739313204,
          0.09932130944564528,
          0.09679635437891283,
          0.09667412825993958,
          0.09735182680772518,
          0.1023359644135877,
          0.10437581107408371,
          0.09527673949547094,
          0.09673536578332356,
          0.10435033412934808,
          0.10344314308731856,
          0.10348714166502507
         ],
         "yaxis": "y2"
        },
        {
         "colorbar": {
          "title": ""
         },
         "hoverinfo": "text",
         "legendgroup": "y3",
         "line": {
          "color": "rgba(255, 0, 0, 1.000)",
          "dash": "dash",
          "shape": "linear",
          "width": 1
         },
         "mode": "lines",
         "name": "y3",
         "showlegend": true,
         "text": [
          null,
          null,
          null,
          null,
          null,
          null,
          null,
          null,
          null,
          null,
          null,
          null,
          null,
          null,
          null,
          null,
          null,
          null,
          null,
          null
         ],
         "type": "scatter",
         "x": [
          -10,
          -9.473684210526315,
          -8.947368421052632,
          -8.421052631578947,
          -7.894736842105263,
          -7.368421052631579,
          -6.842105263157895,
          -6.315789473684211,
          -5.7894736842105265,
          -5.2631578947368425,
          -4.7368421052631575,
          -4.2105263157894735,
          -3.6842105263157894,
          -3.1578947368421053,
          -2.6315789473684212,
          -2.1052631578947367,
          -1.5789473684210527,
          -1.0526315789473684,
          -0.5263157894736842,
          0
         ],
         "xaxis": "x2",
         "y": [
          5.007532118684993,
          5.007532118684993,
          5.007532118684993,
          5.007532118684993,
          5.007532118684993,
          5.007532118684993,
          5.007532118684993,
          5.007532118684993,
          5.007532118684993,
          5.007532118684993,
          5.007532118684993,
          5.007532118684993,
          5.007532118684993,
          5.007532118684993,
          5.007532118684993,
          5.007532118684993,
          5.007532118684993,
          5.007532118684993,
          5.007532118684993,
          5.007532118684993
         ],
         "yaxis": "y4"
        },
        {
         "colorbar": {
          "title": ""
         },
         "hoverinfo": "text",
         "legendgroup": "y4",
         "line": {
          "color": "rgba(0, 0, 0, 1.000)",
          "dash": "solid",
          "shape": "linear",
          "width": 1
         },
         "mode": "lines",
         "name": "y4",
         "showlegend": true,
         "text": [
          null,
          null,
          null,
          null,
          null,
          null,
          null,
          null,
          null,
          null,
          null,
          null,
          null,
          null,
          null,
          null,
          null,
          null,
          null,
          null
         ],
         "type": "scatter",
         "x": [
          -10,
          -9.473684210526315,
          -8.947368421052632,
          -8.421052631578947,
          -7.894736842105263,
          -7.368421052631579,
          -6.842105263157895,
          -6.315789473684211,
          -5.7894736842105265,
          -5.2631578947368425,
          -4.7368421052631575,
          -4.2105263157894735,
          -3.6842105263157894,
          -3.1578947368421053,
          -2.6315789473684212,
          -2.1052631578947367,
          -1.5789473684210527,
          -1.0526315789473684,
          -0.5263157894736842,
          0
         ],
         "xaxis": "x2",
         "y": [
          0.10638176810880498,
          0.09720524570334847,
          0.09987563811226488,
          0.09670161167539161,
          0.10476704553111552,
          0.09544305051165346,
          0.10087662328215576,
          0.0987694069806331,
          0.09991224928605001,
          0.10027874082830111,
          0.09918502413517138,
          0.10204893611478967,
          0.10037574994454092,
          0.10011849459340882,
          0.10019020090367863,
          0.099730184434725,
          0.09627364261391588,
          0.09764195162962643,
          0.10335237525625036,
          0.09977383406354232
         ],
         "yaxis": "y4"
        },
        {
         "colorbar": {
          "title": ""
         },
         "hoverinfo": "text",
         "legendgroup": "y5",
         "line": {
          "color": "rgba(255, 0, 0, 1.000)",
          "dash": "dash",
          "shape": "linear",
          "width": 1
         },
         "mode": "lines",
         "name": "y5",
         "showlegend": true,
         "text": [
          null,
          null,
          null,
          null,
          null,
          null,
          null,
          null,
          null,
          null,
          null,
          null,
          null,
          null,
          null,
          null,
          null,
          null,
          null,
          null
         ],
         "type": "scatter",
         "x": [
          -3,
          -2.6842105263157894,
          -2.3684210526315788,
          -2.0526315789473686,
          -1.736842105263158,
          -1.4210526315789473,
          -1.105263157894737,
          -0.7894736842105263,
          -0.47368421052631576,
          -0.15789473684210525,
          0.15789473684210525,
          0.47368421052631576,
          0.7894736842105263,
          1.105263157894737,
          1.4210526315789473,
          1.736842105263158,
          2.0526315789473686,
          2.3684210526315788,
          2.6842105263157894,
          3
         ],
         "xaxis": "x1",
         "y": [
          5.007532118684993,
          5.007532118684993,
          5.007532118684993,
          5.007532118684993,
          5.007532118684993,
          5.007532118684993,
          5.007532118684993,
          5.007532118684993,
          5.007532118684993,
          5.007532118684993,
          5.007532118684993,
          5.007532118684993,
          5.007532118684993,
          5.007532118684993,
          5.007532118684993,
          5.007532118684993,
          5.007532118684993,
          5.007532118684993,
          5.007532118684993,
          5.007532118684993
         ],
         "yaxis": "y1"
        },
        {
         "colorbar": {
          "title": ""
         },
         "hoverinfo": "text",
         "legendgroup": "y6",
         "line": {
          "color": "rgba(0, 0, 0, 1.000)",
          "dash": "solid",
          "shape": "linear",
          "width": 1
         },
         "mode": "lines",
         "name": "y6",
         "showlegend": true,
         "text": [
          null,
          null,
          null,
          null,
          null,
          null,
          null,
          null,
          null,
          null,
          null,
          null,
          null,
          null,
          null,
          null,
          null,
          null,
          null,
          null
         ],
         "type": "scatter",
         "x": [
          -3,
          -2.6842105263157894,
          -2.3684210526315788,
          -2.0526315789473686,
          -1.736842105263158,
          -1.4210526315789473,
          -1.105263157894737,
          -0.7894736842105263,
          -0.47368421052631576,
          -0.15789473684210525,
          0.15789473684210525,
          0.47368421052631576,
          0.7894736842105263,
          1.105263157894737,
          1.4210526315789473,
          1.736842105263158,
          2.0526315789473686,
          2.3684210526315788,
          2.6842105263157894,
          3
         ],
         "xaxis": "x1",
         "y": [
          0.09801692366219696,
          0.0990595927853269,
          0.10044277700364657,
          0.10182316099806352,
          0.09818485658123019,
          0.09491424611070612,
          0.09745939241122449,
          0.0977530235493213,
          0.10060504116384227,
          0.10114111251760419,
          0.10369121352888734,
          0.10567639688953212,
          0.09733721531180489,
          0.09910367070939521,
          0.1023706130777226,
          0.10400026043004283,
          0.1068513101394436,
          0.10023613198865203,
          0.10278966600809343,
          0.10141487385941725
         ],
         "yaxis": "y1"
        },
        {
         "colorbar": {
          "title": ""
         },
         "hoverinfo": "text",
         "legendgroup": "y7",
         "line": {
          "color": "rgba(255, 0, 0, 1.000)",
          "dash": "dash",
          "shape": "linear",
          "width": 1
         },
         "mode": "lines",
         "name": "y7",
         "showlegend": true,
         "text": [
          null,
          null,
          null,
          null,
          null,
          null,
          null,
          null,
          null,
          null,
          null,
          null,
          null,
          null,
          null,
          null,
          null,
          null,
          null,
          null
         ],
         "type": "scatter",
         "x": [
          0,
          0.5263157894736842,
          1.0526315789473684,
          1.5789473684210527,
          2.1052631578947367,
          2.6315789473684212,
          3.1578947368421053,
          3.6842105263157894,
          4.2105263157894735,
          4.7368421052631575,
          5.2631578947368425,
          5.7894736842105265,
          6.315789473684211,
          6.842105263157895,
          7.368421052631579,
          7.894736842105263,
          8.421052631578947,
          8.947368421052632,
          9.473684210526315,
          10
         ],
         "xaxis": "x1",
         "y": [
          5.007532118684993,
          5.007532118684993,
          5.007532118684993,
          5.007532118684993,
          5.007532118684993,
          5.007532118684993,
          5.007532118684993,
          5.007532118684993,
          5.007532118684993,
          5.007532118684993,
          5.007532118684993,
          5.007532118684993,
          5.007532118684993,
          5.007532118684993,
          5.007532118684993,
          5.007532118684993,
          5.007532118684993,
          5.007532118684993,
          5.007532118684993,
          5.007532118684993
         ],
         "yaxis": "y3"
        },
        {
         "colorbar": {
          "title": ""
         },
         "hoverinfo": "text",
         "legendgroup": "y8",
         "line": {
          "color": "rgba(0, 0, 0, 1.000)",
          "dash": "solid",
          "shape": "linear",
          "width": 1
         },
         "mode": "lines",
         "name": "y8",
         "showlegend": true,
         "text": [
          null,
          null,
          null,
          null,
          null,
          null,
          null,
          null,
          null,
          null,
          null,
          null,
          null,
          null,
          null,
          null,
          null,
          null,
          null,
          null
         ],
         "type": "scatter",
         "x": [
          0,
          0.5263157894736842,
          1.0526315789473684,
          1.5789473684210527,
          2.1052631578947367,
          2.6315789473684212,
          3.1578947368421053,
          3.6842105263157894,
          4.2105263157894735,
          4.7368421052631575,
          5.2631578947368425,
          5.7894736842105265,
          6.315789473684211,
          6.842105263157895,
          7.368421052631579,
          7.894736842105263,
          8.421052631578947,
          8.947368421052632,
          9.473684210526315,
          10
         ],
         "xaxis": "x1",
         "y": [
          0.004051473019668997,
          0.5269785473262649,
          1.048749996324911,
          1.581134700874942,
          2.102636434276724,
          2.6291370004958683,
          3.1565270491606134,
          3.6861116530661393,
          4.210745359401691,
          4.7328414609886655,
          5.266336926577187,
          5.787628848515102,
          6.31654778585215,
          6.845899513989194,
          7.368128309613981,
          7.894033045690834,
          8.42297647537977,
          8.948532245319951,
          9.473644812750434,
          9.99717298155389
         ],
         "yaxis": "y3"
        }
       ],
       "layout": {
        "annotations": [],
        "height": 400,
        "margin": {
         "b": 20,
         "l": 0,
         "r": 0,
         "t": 20
        },
        "paper_bgcolor": "rgba(255, 255, 255, 1.000)",
        "plot_bgcolor": "rgba(255, 255, 255, 1.000)",
        "showlegend": false,
        "width": 600,
        "xaxis1": {
         "anchor": "y3",
         "domain": [
          0.09128390201224845,
          0.5283920239136775
         ],
         "gridcolor": "rgba(0, 0, 0, 0.100)",
         "gridwidth": 0.5,
         "linecolor": "rgba(0, 0, 0, 1.000)",
         "mirror": false,
         "range": [
          -3.39,
          10.39
         ],
         "showgrid": true,
         "showline": true,
         "showticklabels": true,
         "tickangle": 0,
         "tickcolor": "rgb(0, 0, 0)",
         "tickfont": {
          "color": "rgba(0, 0, 0, 1.000)",
          "family": "sans-serif",
          "size": 11
         },
         "tickmode": "array",
         "ticks": "inside",
         "ticktext": [
          "-2",
          "0",
          "2",
          "4",
          "6",
          "8",
          "10"
         ],
         "tickvals": [
          -2,
          0,
          2,
          4,
          6,
          8,
          10
         ],
         "title": "p3",
         "titlefont": {
          "color": "rgba(0, 0, 0, 1.000)",
          "family": "sans-serif",
          "size": 15
         },
         "type": "-",
         "visible": true,
         "zeroline": false,
         "zerolinecolor": "rgba(0, 0, 0, 1.000)"
        },
        "xaxis2": {
         "anchor": "y4",
         "domain": [
          0.5563301983085447,
          0.9934383202099737
         ],
         "gridcolor": "rgba(0, 0, 0, 0.100)",
         "gridwidth": 0.5,
         "linecolor": "rgba(0, 0, 0, 1.000)",
         "mirror": false,
         "range": [
          -10.36,
          2.36
         ],
         "showgrid": true,
         "showline": true,
         "showticklabels": true,
         "tickangle": 0,
         "tickcolor": "rgb(0, 0, 0)",
         "tickfont": {
          "color": "rgba(0, 0, 0, 1.000)",
          "family": "sans-serif",
          "size": 11
         },
         "tickmode": "array",
         "ticks": "inside",
         "ticktext": [
          "-10.0",
          "-7.5",
          "-5.0",
          "-2.5",
          "0.0"
         ],
         "tickvals": [
          -10,
          -7.5,
          -5,
          -2.5,
          0
         ],
         "title": "p4",
         "titlefont": {
          "color": "rgba(0, 0, 0, 1.000)",
          "family": "sans-serif",
          "size": 15
         },
         "type": "-",
         "visible": true,
         "zeroline": false,
         "zerolinecolor": "rgba(0, 0, 0, 1.000)"
        },
        "yaxis1": {
         "anchor": "x1",
         "domain": [
          0.5758147419072616,
          0.9901574803149606
         ],
         "gridcolor": "rgba(0, 0, 0, 0.100)",
         "gridwidth": 0.5,
         "linecolor": "rgba(0, 0, 0, 1.000)",
         "mirror": false,
         "range": [
          -0.05246429006652248,
          5.154910654862221
         ],
         "showgrid": true,
         "showline": true,
         "showticklabels": true,
         "tickangle": 0,
         "tickcolor": "rgb(0, 0, 0)",
         "tickfont": {
          "color": "rgba(0, 0, 0, 1.000)",
          "family": "sans-serif",
          "size": 11
         },
         "tickmode": "array",
         "ticks": "inside",
         "ticktext": [
          "0",
          "1",
          "2",
          "3",
          "4",
          "5"
         ],
         "tickvals": [
          0,
          1,
          2,
          3,
          4,
          5
         ],
         "title": "mu3",
         "titlefont": {
          "color": "rgba(0, 0, 0, 1.000)",
          "family": "sans-serif",
          "size": 15
         },
         "type": "-",
         "visible": true,
         "zeroline": false,
         "zerolinecolor": "rgba(0, 0, 0, 1.000)"
        },
        "yaxis2": {
         "anchor": "x2",
         "domain": [
          0.5758147419072616,
          0.9901574803149606
         ],
         "gridcolor": "rgba(0, 0, 0, 0.100)",
         "gridwidth": 0.5,
         "linecolor": "rgba(0, 0, 0, 1.000)",
         "mirror": false,
         "range": [
          -0.05209092188021469,
          5.154899780060679
         ],
         "showgrid": true,
         "showline": true,
         "showticklabels": true,
         "tickangle": 0,
         "tickcolor": "rgb(0, 0, 0)",
         "tickfont": {
          "color": "rgba(0, 0, 0, 1.000)",
          "family": "sans-serif",
          "size": 11
         },
         "tickmode": "array",
         "ticks": "inside",
         "ticktext": [
          "0",
          "1",
          "2",
          "3",
          "4",
          "5"
         ],
         "tickvals": [
          0,
          1,
          2,
          3,
          4,
          5
         ],
         "title": "",
         "titlefont": {
          "color": "rgba(0, 0, 0, 1.000)",
          "family": "sans-serif",
          "size": 15
         },
         "type": "-",
         "visible": true,
         "zeroline": false,
         "zerolinecolor": "rgba(0, 0, 0, 1.000)"
        },
        "yaxis3": {
         "anchor": "x1",
         "domain": [
          0.07581474190726165,
          0.49015748031496065
         ],
         "gridcolor": "rgba(0, 0, 0, 0.100)",
         "gridwidth": 0.5,
         "linecolor": "rgba(0, 0, 0, 1.000)",
         "mirror": false,
         "range": [
          -0.2957421722363576,
          10.296966626809917
         ],
         "showgrid": true,
         "showline": true,
         "showticklabels": true,
         "tickangle": 0,
         "tickcolor": "rgb(0, 0, 0)",
         "tickfont": {
          "color": "rgba(0, 0, 0, 1.000)",
          "family": "sans-serif",
          "size": 11
         },
         "tickmode": "array",
         "ticks": "inside",
         "ticktext": [
          "0.0",
          "2.5",
          "5.0",
          "7.5",
          "10.0"
         ],
         "tickvals": [
          0,
          2.5,
          5,
          7.5,
          10
         ],
         "title": "mu3",
         "titlefont": {
          "color": "rgba(0, 0, 0, 1.000)",
          "family": "sans-serif",
          "size": 15
         },
         "type": "-",
         "visible": true,
         "zeroline": false,
         "zerolinecolor": "rgba(0, 0, 0, 1.000)"
        },
        "yaxis4": {
         "anchor": "x2",
         "domain": [
          0.07581474190726165,
          0.49015748031496065
         ],
         "gridcolor": "rgba(0, 0, 0, 0.100)",
         "gridwidth": 0.5,
         "linecolor": "rgba(0, 0, 0, 1.000)",
         "mirror": false,
         "range": [
          -0.05191962153354672,
          5.154894790730193
         ],
         "showgrid": true,
         "showline": true,
         "showticklabels": true,
         "tickangle": 0,
         "tickcolor": "rgb(0, 0, 0)",
         "tickfont": {
          "color": "rgba(0, 0, 0, 1.000)",
          "family": "sans-serif",
          "size": 11
         },
         "tickmode": "array",
         "ticks": "inside",
         "ticktext": [
          "0",
          "1",
          "2",
          "3",
          "4",
          "5"
         ],
         "tickvals": [
          0,
          1,
          2,
          3,
          4,
          5
         ],
         "title": "",
         "titlefont": {
          "color": "rgba(0, 0, 0, 1.000)",
          "family": "sans-serif",
          "size": 15
         },
         "type": "-",
         "visible": true,
         "zeroline": false,
         "zerolinecolor": "rgba(0, 0, 0, 1.000)"
        }
       }
      },
      "text/html": [
       "<div id=\"737ad7eb-bbd8-4f4e-a1c3-92a39f3ae72f\" class=\"plotly-graph-div\"></div>\n",
       "\n",
       "<script>\n",
       "    (function() {\n",
       "        var data_737ad7eb = [{\"xaxis\":\"x2\",\"colorbar\":{\"title\":\"\"},\"yaxis\":\"y2\",\"text\":[null,null,null,null,null,null,null,null,null,null,null,null,null,null,null,null,null,null,null,null],\"x\":[-2.0,-1.7894736842105263,-1.5789473684210527,-1.368421052631579,-1.1578947368421053,-0.9473684210526315,-0.7368421052631579,-0.5263157894736842,-0.3157894736842105,-0.10526315789473684,0.10526315789473684,0.3157894736842105,0.5263157894736842,0.7368421052631579,0.9473684210526315,1.1578947368421053,1.368421052631579,1.5789473684210527,1.7894736842105263,2.0],\"showlegend\":true,\"mode\":\"lines\",\"name\":\"y1\",\"legendgroup\":\"y1\",\"line\":{\"color\":\"rgba(255, 0, 0, 1.000)\",\"width\":1,\"dash\":\"dash\",\"shape\":\"linear\"},\"y\":[5.007532118684993,5.007532118684993,5.007532118684993,5.007532118684993,5.007532118684993,5.007532118684993,5.007532118684993,5.007532118684993,5.007532118684993,5.007532118684993,5.007532118684993,5.007532118684993,5.007532118684993,5.007532118684993,5.007532118684993,5.007532118684993,5.007532118684993,5.007532118684993,5.007532118684993,5.007532118684993],\"type\":\"scatter\",\"hoverinfo\":\"text\"},{\"xaxis\":\"x2\",\"colorbar\":{\"title\":\"\"},\"yaxis\":\"y2\",\"text\":[null,null,null,null,null,null,null,null,null,null,null,null,null,null,null,null,null,null,null,null],\"x\":[-2.0,-1.7894736842105263,-1.5789473684210527,-1.368421052631579,-1.1578947368421053,-0.9473684210526315,-0.7368421052631579,-0.5263157894736842,-0.3157894736842105,-0.10526315789473684,0.10526315789473684,0.3157894736842105,0.5263157894736842,0.7368421052631579,0.9473684210526315,1.1578947368421053,1.368421052631579,1.5789473684210527,1.7894736842105263,2.0],\"showlegend\":true,\"mode\":\"lines\",\"name\":\"y2\",\"legendgroup\":\"y2\",\"line\":{\"color\":\"rgba(0, 0, 0, 1.000)\",\"width\":1,\"dash\":\"solid\",\"shape\":\"linear\"},\"y\":[0.09719428773283996,0.09708694957091982,0.09808925348331875,0.09813031667549102,0.10286211418464616,0.09867986601002313,0.09863408240275895,0.09999862412297826,0.10043731739313204,0.09932130944564528,0.09679635437891283,0.09667412825993958,0.09735182680772518,0.1023359644135877,0.10437581107408371,0.09527673949547094,0.09673536578332356,0.10435033412934808,0.10344314308731856,0.10348714166502507],\"type\":\"scatter\",\"hoverinfo\":\"text\"},{\"xaxis\":\"x2\",\"colorbar\":{\"title\":\"\"},\"yaxis\":\"y4\",\"text\":[null,null,null,null,null,null,null,null,null,null,null,null,null,null,null,null,null,null,null,null],\"x\":[-10.0,-9.473684210526315,-8.947368421052632,-8.421052631578947,-7.894736842105263,-7.368421052631579,-6.842105263157895,-6.315789473684211,-5.7894736842105265,-5.2631578947368425,-4.7368421052631575,-4.2105263157894735,-3.6842105263157894,-3.1578947368421053,-2.6315789473684212,-2.1052631578947367,-1.5789473684210527,-1.0526315789473684,-0.5263157894736842,0.0],\"showlegend\":true,\"mode\":\"lines\",\"name\":\"y3\",\"legendgroup\":\"y3\",\"line\":{\"color\":\"rgba(255, 0, 0, 1.000)\",\"width\":1,\"dash\":\"dash\",\"shape\":\"linear\"},\"y\":[5.007532118684993,5.007532118684993,5.007532118684993,5.007532118684993,5.007532118684993,5.007532118684993,5.007532118684993,5.007532118684993,5.007532118684993,5.007532118684993,5.007532118684993,5.007532118684993,5.007532118684993,5.007532118684993,5.007532118684993,5.007532118684993,5.007532118684993,5.007532118684993,5.007532118684993,5.007532118684993],\"type\":\"scatter\",\"hoverinfo\":\"text\"},{\"xaxis\":\"x2\",\"colorbar\":{\"title\":\"\"},\"yaxis\":\"y4\",\"text\":[null,null,null,null,null,null,null,null,null,null,null,null,null,null,null,null,null,null,null,null],\"x\":[-10.0,-9.473684210526315,-8.947368421052632,-8.421052631578947,-7.894736842105263,-7.368421052631579,-6.842105263157895,-6.315789473684211,-5.7894736842105265,-5.2631578947368425,-4.7368421052631575,-4.2105263157894735,-3.6842105263157894,-3.1578947368421053,-2.6315789473684212,-2.1052631578947367,-1.5789473684210527,-1.0526315789473684,-0.5263157894736842,0.0],\"showlegend\":true,\"mode\":\"lines\",\"name\":\"y4\",\"legendgroup\":\"y4\",\"line\":{\"color\":\"rgba(0, 0, 0, 1.000)\",\"width\":1,\"dash\":\"solid\",\"shape\":\"linear\"},\"y\":[0.10638176810880498,0.09720524570334847,0.09987563811226488,0.09670161167539161,0.10476704553111552,0.09544305051165346,0.10087662328215576,0.0987694069806331,0.09991224928605001,0.10027874082830111,0.09918502413517138,0.10204893611478967,0.10037574994454092,0.10011849459340882,0.10019020090367863,0.099730184434725,0.09627364261391588,0.09764195162962643,0.10335237525625036,0.09977383406354232],\"type\":\"scatter\",\"hoverinfo\":\"text\"},{\"xaxis\":\"x1\",\"colorbar\":{\"title\":\"\"},\"yaxis\":\"y1\",\"text\":[null,null,null,null,null,null,null,null,null,null,null,null,null,null,null,null,null,null,null,null],\"x\":[-3.0,-2.6842105263157894,-2.3684210526315788,-2.0526315789473686,-1.736842105263158,-1.4210526315789473,-1.105263157894737,-0.7894736842105263,-0.47368421052631576,-0.15789473684210525,0.15789473684210525,0.47368421052631576,0.7894736842105263,1.105263157894737,1.4210526315789473,1.736842105263158,2.0526315789473686,2.3684210526315788,2.6842105263157894,3.0],\"showlegend\":true,\"mode\":\"lines\",\"name\":\"y5\",\"legendgroup\":\"y5\",\"line\":{\"color\":\"rgba(255, 0, 0, 1.000)\",\"width\":1,\"dash\":\"dash\",\"shape\":\"linear\"},\"y\":[5.007532118684993,5.007532118684993,5.007532118684993,5.007532118684993,5.007532118684993,5.007532118684993,5.007532118684993,5.007532118684993,5.007532118684993,5.007532118684993,5.007532118684993,5.007532118684993,5.007532118684993,5.007532118684993,5.007532118684993,5.007532118684993,5.007532118684993,5.007532118684993,5.007532118684993,5.007532118684993],\"type\":\"scatter\",\"hoverinfo\":\"text\"},{\"xaxis\":\"x1\",\"colorbar\":{\"title\":\"\"},\"yaxis\":\"y1\",\"text\":[null,null,null,null,null,null,null,null,null,null,null,null,null,null,null,null,null,null,null,null],\"x\":[-3.0,-2.6842105263157894,-2.3684210526315788,-2.0526315789473686,-1.736842105263158,-1.4210526315789473,-1.105263157894737,-0.7894736842105263,-0.47368421052631576,-0.15789473684210525,0.15789473684210525,0.47368421052631576,0.7894736842105263,1.105263157894737,1.4210526315789473,1.736842105263158,2.0526315789473686,2.3684210526315788,2.6842105263157894,3.0],\"showlegend\":true,\"mode\":\"lines\",\"name\":\"y6\",\"legendgroup\":\"y6\",\"line\":{\"color\":\"rgba(0, 0, 0, 1.000)\",\"width\":1,\"dash\":\"solid\",\"shape\":\"linear\"},\"y\":[0.09801692366219696,0.0990595927853269,0.10044277700364657,0.10182316099806352,0.09818485658123019,0.09491424611070612,0.09745939241122449,0.0977530235493213,0.10060504116384227,0.10114111251760419,0.10369121352888734,0.10567639688953212,0.09733721531180489,0.09910367070939521,0.1023706130777226,0.10400026043004283,0.1068513101394436,0.10023613198865203,0.10278966600809343,0.10141487385941725],\"type\":\"scatter\",\"hoverinfo\":\"text\"},{\"xaxis\":\"x1\",\"colorbar\":{\"title\":\"\"},\"yaxis\":\"y3\",\"text\":[null,null,null,null,null,null,null,null,null,null,null,null,null,null,null,null,null,null,null,null],\"x\":[0.0,0.5263157894736842,1.0526315789473684,1.5789473684210527,2.1052631578947367,2.6315789473684212,3.1578947368421053,3.6842105263157894,4.2105263157894735,4.7368421052631575,5.2631578947368425,5.7894736842105265,6.315789473684211,6.842105263157895,7.368421052631579,7.894736842105263,8.421052631578947,8.947368421052632,9.473684210526315,10.0],\"showlegend\":true,\"mode\":\"lines\",\"name\":\"y7\",\"legendgroup\":\"y7\",\"line\":{\"color\":\"rgba(255, 0, 0, 1.000)\",\"width\":1,\"dash\":\"dash\",\"shape\":\"linear\"},\"y\":[5.007532118684993,5.007532118684993,5.007532118684993,5.007532118684993,5.007532118684993,5.007532118684993,5.007532118684993,5.007532118684993,5.007532118684993,5.007532118684993,5.007532118684993,5.007532118684993,5.007532118684993,5.007532118684993,5.007532118684993,5.007532118684993,5.007532118684993,5.007532118684993,5.007532118684993,5.007532118684993],\"type\":\"scatter\",\"hoverinfo\":\"text\"},{\"xaxis\":\"x1\",\"colorbar\":{\"title\":\"\"},\"yaxis\":\"y3\",\"text\":[null,null,null,null,null,null,null,null,null,null,null,null,null,null,null,null,null,null,null,null],\"x\":[0.0,0.5263157894736842,1.0526315789473684,1.5789473684210527,2.1052631578947367,2.6315789473684212,3.1578947368421053,3.6842105263157894,4.2105263157894735,4.7368421052631575,5.2631578947368425,5.7894736842105265,6.315789473684211,6.842105263157895,7.368421052631579,7.894736842105263,8.421052631578947,8.947368421052632,9.473684210526315,10.0],\"showlegend\":true,\"mode\":\"lines\",\"name\":\"y8\",\"legendgroup\":\"y8\",\"line\":{\"color\":\"rgba(0, 0, 0, 1.000)\",\"width\":1,\"dash\":\"solid\",\"shape\":\"linear\"},\"y\":[0.004051473019668997,0.5269785473262649,1.048749996324911,1.581134700874942,2.102636434276724,2.6291370004958683,3.1565270491606134,3.6861116530661393,4.210745359401691,4.7328414609886655,5.266336926577187,5.787628848515102,6.31654778585215,6.845899513989194,7.368128309613981,7.894033045690834,8.42297647537977,8.948532245319951,9.473644812750434,9.99717298155389],\"type\":\"scatter\",\"hoverinfo\":\"text\"}];\n",
       "var layout_737ad7eb = {\"paper_bgcolor\":\"rgba(255, 255, 255, 1.000)\",\"height\":400,\"yaxis4\":{\"showticklabels\":true,\"gridwidth\":0.5,\"tickvals\":[0.0,1.0,2.0,3.0,4.0,5.0],\"visible\":true,\"ticks\":\"inside\",\"range\":[-0.05191962153354672,5.154894790730193],\"domain\":[0.07581474190726165,0.49015748031496065],\"tickmode\":\"array\",\"linecolor\":\"rgba(0, 0, 0, 1.000)\",\"showgrid\":true,\"title\":\"\",\"mirror\":false,\"tickangle\":0,\"showline\":true,\"gridcolor\":\"rgba(0, 0, 0, 0.100)\",\"titlefont\":{\"color\":\"rgba(0, 0, 0, 1.000)\",\"family\":\"sans-serif\",\"size\":15},\"tickcolor\":\"rgb(0, 0, 0)\",\"ticktext\":[\"0\",\"1\",\"2\",\"3\",\"4\",\"5\"],\"zeroline\":false,\"type\":\"-\",\"tickfont\":{\"color\":\"rgba(0, 0, 0, 1.000)\",\"family\":\"sans-serif\",\"size\":11},\"zerolinecolor\":\"rgba(0, 0, 0, 1.000)\",\"anchor\":\"x2\"},\"yaxis2\":{\"showticklabels\":true,\"gridwidth\":0.5,\"tickvals\":[0.0,1.0,2.0,3.0,4.0,5.0],\"visible\":true,\"ticks\":\"inside\",\"range\":[-0.05209092188021469,5.154899780060679],\"domain\":[0.5758147419072616,0.9901574803149606],\"tickmode\":\"array\",\"linecolor\":\"rgba(0, 0, 0, 1.000)\",\"showgrid\":true,\"title\":\"\",\"mirror\":false,\"tickangle\":0,\"showline\":true,\"gridcolor\":\"rgba(0, 0, 0, 0.100)\",\"titlefont\":{\"color\":\"rgba(0, 0, 0, 1.000)\",\"family\":\"sans-serif\",\"size\":15},\"tickcolor\":\"rgb(0, 0, 0)\",\"ticktext\":[\"0\",\"1\",\"2\",\"3\",\"4\",\"5\"],\"zeroline\":false,\"type\":\"-\",\"tickfont\":{\"color\":\"rgba(0, 0, 0, 1.000)\",\"family\":\"sans-serif\",\"size\":11},\"zerolinecolor\":\"rgba(0, 0, 0, 1.000)\",\"anchor\":\"x2\"},\"yaxis1\":{\"showticklabels\":true,\"gridwidth\":0.5,\"tickvals\":[0.0,1.0,2.0,3.0,4.0,5.0],\"visible\":true,\"ticks\":\"inside\",\"range\":[-0.05246429006652248,5.154910654862221],\"domain\":[0.5758147419072616,0.9901574803149606],\"tickmode\":\"array\",\"linecolor\":\"rgba(0, 0, 0, 1.000)\",\"showgrid\":true,\"title\":\"mu3\",\"mirror\":false,\"tickangle\":0,\"showline\":true,\"gridcolor\":\"rgba(0, 0, 0, 0.100)\",\"titlefont\":{\"color\":\"rgba(0, 0, 0, 1.000)\",\"family\":\"sans-serif\",\"size\":15},\"tickcolor\":\"rgb(0, 0, 0)\",\"ticktext\":[\"0\",\"1\",\"2\",\"3\",\"4\",\"5\"],\"zeroline\":false,\"type\":\"-\",\"tickfont\":{\"color\":\"rgba(0, 0, 0, 1.000)\",\"family\":\"sans-serif\",\"size\":11},\"zerolinecolor\":\"rgba(0, 0, 0, 1.000)\",\"anchor\":\"x1\"},\"annotations\":[],\"plot_bgcolor\":\"rgba(255, 255, 255, 1.000)\",\"showlegend\":false,\"xaxis1\":{\"showticklabels\":true,\"gridwidth\":0.5,\"tickvals\":[-2.0,0.0,2.0,4.0,6.0,8.0,10.0],\"visible\":true,\"ticks\":\"inside\",\"range\":[-3.39,10.39],\"domain\":[0.09128390201224845,0.5283920239136775],\"tickmode\":\"array\",\"linecolor\":\"rgba(0, 0, 0, 1.000)\",\"showgrid\":true,\"title\":\"p3\",\"mirror\":false,\"tickangle\":0,\"showline\":true,\"gridcolor\":\"rgba(0, 0, 0, 0.100)\",\"titlefont\":{\"color\":\"rgba(0, 0, 0, 1.000)\",\"family\":\"sans-serif\",\"size\":15},\"tickcolor\":\"rgb(0, 0, 0)\",\"ticktext\":[\"-2\",\"0\",\"2\",\"4\",\"6\",\"8\",\"10\"],\"zeroline\":false,\"type\":\"-\",\"tickfont\":{\"color\":\"rgba(0, 0, 0, 1.000)\",\"family\":\"sans-serif\",\"size\":11},\"zerolinecolor\":\"rgba(0, 0, 0, 1.000)\",\"anchor\":\"y3\"},\"yaxis3\":{\"showticklabels\":true,\"gridwidth\":0.5,\"tickvals\":[0.0,2.5,5.0,7.5,10.0],\"visible\":true,\"ticks\":\"inside\",\"range\":[-0.2957421722363576,10.296966626809917],\"domain\":[0.07581474190726165,0.49015748031496065],\"tickmode\":\"array\",\"linecolor\":\"rgba(0, 0, 0, 1.000)\",\"showgrid\":true,\"title\":\"mu3\",\"mirror\":false,\"tickangle\":0,\"showline\":true,\"gridcolor\":\"rgba(0, 0, 0, 0.100)\",\"titlefont\":{\"color\":\"rgba(0, 0, 0, 1.000)\",\"family\":\"sans-serif\",\"size\":15},\"tickcolor\":\"rgb(0, 0, 0)\",\"ticktext\":[\"0.0\",\"2.5\",\"5.0\",\"7.5\",\"10.0\"],\"zeroline\":false,\"type\":\"-\",\"tickfont\":{\"color\":\"rgba(0, 0, 0, 1.000)\",\"family\":\"sans-serif\",\"size\":11},\"zerolinecolor\":\"rgba(0, 0, 0, 1.000)\",\"anchor\":\"x1\"},\"xaxis2\":{\"showticklabels\":true,\"gridwidth\":0.5,\"tickvals\":[-10.0,-7.5,-5.0,-2.5,0.0],\"visible\":true,\"ticks\":\"inside\",\"range\":[-10.36,2.36],\"domain\":[0.5563301983085447,0.9934383202099737],\"tickmode\":\"array\",\"linecolor\":\"rgba(0, 0, 0, 1.000)\",\"showgrid\":true,\"title\":\"p4\",\"mirror\":false,\"tickangle\":0,\"showline\":true,\"gridcolor\":\"rgba(0, 0, 0, 0.100)\",\"titlefont\":{\"color\":\"rgba(0, 0, 0, 1.000)\",\"family\":\"sans-serif\",\"size\":15},\"tickcolor\":\"rgb(0, 0, 0)\",\"ticktext\":[\"-10.0\",\"-7.5\",\"-5.0\",\"-2.5\",\"0.0\"],\"zeroline\":false,\"type\":\"-\",\"tickfont\":{\"color\":\"rgba(0, 0, 0, 1.000)\",\"family\":\"sans-serif\",\"size\":11},\"zerolinecolor\":\"rgba(0, 0, 0, 1.000)\",\"anchor\":\"y4\"},\"margin\":{\"l\":0,\"b\":20,\"r\":0,\"t\":20},\"width\":600};\n",
       "\n",
       "        if (!requirejs.specified('plotly')) {\n",
       "          requirejs.config({\n",
       "            paths: {\n",
       "              'plotly_cdn': ['https://cdn.plot.ly/plotly-latest.min']\n",
       "            },\n",
       "          });\n",
       "          require(['plotly_cdn'], function(Plotly) {\n",
       "            Plotly.newPlot('737ad7eb-bbd8-4f4e-a1c3-92a39f3ae72f',\n",
       "    data_737ad7eb, layout_737ad7eb,\n",
       "    {showLink: false}\n",
       ");\n",
       "\n",
       "          });\n",
       "        } else {\n",
       "          require(['plotly'], function(Plotly) {\n",
       "            Plotly.newPlot('737ad7eb-bbd8-4f4e-a1c3-92a39f3ae72f',\n",
       "    data_737ad7eb, layout_737ad7eb,\n",
       "    {showLink: false}\n",
       ");\n",
       "\n",
       "            if (window.Plotly == undefined) {\n",
       "                window.Plotly = Plotly;\n",
       "            }\n",
       "          });\n",
       "        }\n",
       "    })();\n",
       " </script>\n"
      ]
     },
     "metadata": {},
     "output_type": "display_data"
    },
    {
     "data": {
      "application/vnd.plotly.v1+json": {
       "data": [
        {
         "colorbar": {
          "title": ""
         },
         "hoverinfo": "text",
         "legendgroup": "y1",
         "line": {
          "color": "rgba(255, 0, 0, 1.000)",
          "dash": "dash",
          "shape": "linear",
          "width": 1
         },
         "mode": "lines",
         "name": "y1",
         "showlegend": true,
         "text": [
          null,
          null,
          null,
          null,
          null,
          null,
          null,
          null,
          null,
          null,
          null,
          null,
          null,
          null,
          null,
          null,
          null,
          null,
          null,
          null
         ],
         "type": "scatter",
         "x": [
          -2,
          -1.7894736842105263,
          -1.5789473684210527,
          -1.368421052631579,
          -1.1578947368421053,
          -0.9473684210526315,
          -0.7368421052631579,
          -0.5263157894736842,
          -0.3157894736842105,
          -0.10526315789473684,
          0.10526315789473684,
          0.3157894736842105,
          0.5263157894736842,
          0.7368421052631579,
          0.9473684210526315,
          1.1578947368421053,
          1.368421052631579,
          1.5789473684210527,
          1.7894736842105263,
          2
         ],
         "xaxis": "x2",
         "y": [
          -4.001305132888895,
          -4.001305132888895,
          -4.001305132888895,
          -4.001305132888895,
          -4.001305132888895,
          -4.001305132888895,
          -4.001305132888895,
          -4.001305132888895,
          -4.001305132888895,
          -4.001305132888895,
          -4.001305132888895,
          -4.001305132888895,
          -4.001305132888895,
          -4.001305132888895,
          -4.001305132888895,
          -4.001305132888895,
          -4.001305132888895,
          -4.001305132888895,
          -4.001305132888895,
          -4.001305132888895
         ],
         "yaxis": "y2"
        },
        {
         "colorbar": {
          "title": ""
         },
         "hoverinfo": "text",
         "legendgroup": "y2",
         "line": {
          "color": "rgba(0, 0, 0, 1.000)",
          "dash": "solid",
          "shape": "linear",
          "width": 1
         },
         "mode": "lines",
         "name": "y2",
         "showlegend": true,
         "text": [
          null,
          null,
          null,
          null,
          null,
          null,
          null,
          null,
          null,
          null,
          null,
          null,
          null,
          null,
          null,
          null,
          null,
          null,
          null,
          null
         ],
         "type": "scatter",
         "x": [
          -2,
          -1.7894736842105263,
          -1.5789473684210527,
          -1.368421052631579,
          -1.1578947368421053,
          -0.9473684210526315,
          -0.7368421052631579,
          -0.5263157894736842,
          -0.3157894736842105,
          -0.10526315789473684,
          0.10526315789473684,
          0.3157894736842105,
          0.5263157894736842,
          0.7368421052631579,
          0.9473684210526315,
          1.1578947368421053,
          1.368421052631579,
          1.5789473684210527,
          1.7894736842105263,
          2
         ],
         "xaxis": "x2",
         "y": [
          -0.10177068689474801,
          -0.10748143831908431,
          -0.10889819303187882,
          -0.10649908412485501,
          -0.1035051360194934,
          -0.10049259566057363,
          -0.10260575674989418,
          -0.09914860887208343,
          -0.09885068940563257,
          -0.10124903648485159,
          -0.10147111019440101,
          -0.09923956522016339,
          -0.0992018111940698,
          -0.09981618201554925,
          -0.09787930396368331,
          -0.10234662541187917,
          -0.09721916124669186,
          -0.09999419753724559,
          -0.10019471863446472,
          -0.09934920224269804
         ],
         "yaxis": "y2"
        },
        {
         "colorbar": {
          "title": ""
         },
         "hoverinfo": "text",
         "legendgroup": "y3",
         "line": {
          "color": "rgba(255, 0, 0, 1.000)",
          "dash": "dash",
          "shape": "linear",
          "width": 1
         },
         "mode": "lines",
         "name": "y3",
         "showlegend": true,
         "text": [
          null,
          null,
          null,
          null,
          null,
          null,
          null,
          null,
          null,
          null,
          null,
          null,
          null,
          null,
          null,
          null,
          null,
          null,
          null,
          null
         ],
         "type": "scatter",
         "x": [
          -10,
          -9.473684210526315,
          -8.947368421052632,
          -8.421052631578947,
          -7.894736842105263,
          -7.368421052631579,
          -6.842105263157895,
          -6.315789473684211,
          -5.7894736842105265,
          -5.2631578947368425,
          -4.7368421052631575,
          -4.2105263157894735,
          -3.6842105263157894,
          -3.1578947368421053,
          -2.6315789473684212,
          -2.1052631578947367,
          -1.5789473684210527,
          -1.0526315789473684,
          -0.5263157894736842,
          0
         ],
         "xaxis": "x2",
         "y": [
          -4.001305132888895,
          -4.001305132888895,
          -4.001305132888895,
          -4.001305132888895,
          -4.001305132888895,
          -4.001305132888895,
          -4.001305132888895,
          -4.001305132888895,
          -4.001305132888895,
          -4.001305132888895,
          -4.001305132888895,
          -4.001305132888895,
          -4.001305132888895,
          -4.001305132888895,
          -4.001305132888895,
          -4.001305132888895,
          -4.001305132888895,
          -4.001305132888895,
          -4.001305132888895,
          -4.001305132888895
         ],
         "yaxis": "y4"
        },
        {
         "colorbar": {
          "title": ""
         },
         "hoverinfo": "text",
         "legendgroup": "y4",
         "line": {
          "color": "rgba(0, 0, 0, 1.000)",
          "dash": "solid",
          "shape": "linear",
          "width": 1
         },
         "mode": "lines",
         "name": "y4",
         "showlegend": true,
         "text": [
          null,
          null,
          null,
          null,
          null,
          null,
          null,
          null,
          null,
          null,
          null,
          null,
          null,
          null,
          null,
          null,
          null,
          null,
          null,
          null
         ],
         "type": "scatter",
         "x": [
          -10,
          -9.473684210526315,
          -8.947368421052632,
          -8.421052631578947,
          -7.894736842105263,
          -7.368421052631579,
          -6.842105263157895,
          -6.315789473684211,
          -5.7894736842105265,
          -5.2631578947368425,
          -4.7368421052631575,
          -4.2105263157894735,
          -3.6842105263157894,
          -3.1578947368421053,
          -2.6315789473684212,
          -2.1052631578947367,
          -1.5789473684210527,
          -1.0526315789473684,
          -0.5263157894736842,
          0
         ],
         "xaxis": "x2",
         "y": [
          -10.001888224176842,
          -9.473837694360276,
          -8.946039728086642,
          -8.42294074261031,
          -7.8951587750043455,
          -7.36611879102468,
          -6.839293298928108,
          -6.312626238470572,
          -5.795487845183096,
          -5.263975149739507,
          -4.738853268224829,
          -4.2089343407344195,
          -3.680367166801922,
          -3.1593555387503014,
          -2.6335992109655595,
          -2.0998580855552884,
          -1.581253413153659,
          -1.0539754876093108,
          -0.5247285264072007,
          0.006375820133364112
         ],
         "yaxis": "y4"
        },
        {
         "colorbar": {
          "title": ""
         },
         "hoverinfo": "text",
         "legendgroup": "y5",
         "line": {
          "color": "rgba(255, 0, 0, 1.000)",
          "dash": "dash",
          "shape": "linear",
          "width": 1
         },
         "mode": "lines",
         "name": "y5",
         "showlegend": true,
         "text": [
          null,
          null,
          null,
          null,
          null,
          null,
          null,
          null,
          null,
          null,
          null,
          null,
          null,
          null,
          null,
          null,
          null,
          null,
          null,
          null
         ],
         "type": "scatter",
         "x": [
          -3,
          -2.6842105263157894,
          -2.3684210526315788,
          -2.0526315789473686,
          -1.736842105263158,
          -1.4210526315789473,
          -1.105263157894737,
          -0.7894736842105263,
          -0.47368421052631576,
          -0.15789473684210525,
          0.15789473684210525,
          0.47368421052631576,
          0.7894736842105263,
          1.105263157894737,
          1.4210526315789473,
          1.736842105263158,
          2.0526315789473686,
          2.3684210526315788,
          2.6842105263157894,
          3
         ],
         "xaxis": "x1",
         "y": [
          -4.001305132888895,
          -4.001305132888895,
          -4.001305132888895,
          -4.001305132888895,
          -4.001305132888895,
          -4.001305132888895,
          -4.001305132888895,
          -4.001305132888895,
          -4.001305132888895,
          -4.001305132888895,
          -4.001305132888895,
          -4.001305132888895,
          -4.001305132888895,
          -4.001305132888895,
          -4.001305132888895,
          -4.001305132888895,
          -4.001305132888895,
          -4.001305132888895,
          -4.001305132888895,
          -4.001305132888895
         ],
         "yaxis": "y1"
        },
        {
         "colorbar": {
          "title": ""
         },
         "hoverinfo": "text",
         "legendgroup": "y6",
         "line": {
          "color": "rgba(0, 0, 0, 1.000)",
          "dash": "solid",
          "shape": "linear",
          "width": 1
         },
         "mode": "lines",
         "name": "y6",
         "showlegend": true,
         "text": [
          null,
          null,
          null,
          null,
          null,
          null,
          null,
          null,
          null,
          null,
          null,
          null,
          null,
          null,
          null,
          null,
          null,
          null,
          null,
          null
         ],
         "type": "scatter",
         "x": [
          -3,
          -2.6842105263157894,
          -2.3684210526315788,
          -2.0526315789473686,
          -1.736842105263158,
          -1.4210526315789473,
          -1.105263157894737,
          -0.7894736842105263,
          -0.47368421052631576,
          -0.15789473684210525,
          0.15789473684210525,
          0.47368421052631576,
          0.7894736842105263,
          1.105263157894737,
          1.4210526315789473,
          1.736842105263158,
          2.0526315789473686,
          2.3684210526315788,
          2.6842105263157894,
          3
         ],
         "xaxis": "x1",
         "y": [
          -0.10222152754320055,
          -0.1047757083143947,
          -0.09913409010372004,
          -0.09992021517662542,
          -0.09966130799840887,
          -0.09725513820477351,
          -0.0969374793095254,
          -0.10524607559297719,
          -0.09457351584768475,
          -0.10218692275359029,
          -0.10127111726299408,
          -0.09829408583003679,
          -0.09778750242516893,
          -0.10306623170082661,
          -0.10211088183381468,
          -0.10346423023398593,
          -0.10061548887326956,
          -0.10191167045307668,
          -0.10158148719793633,
          -0.09752231789455539
         ],
         "yaxis": "y1"
        },
        {
         "colorbar": {
          "title": ""
         },
         "hoverinfo": "text",
         "legendgroup": "y7",
         "line": {
          "color": "rgba(255, 0, 0, 1.000)",
          "dash": "dash",
          "shape": "linear",
          "width": 1
         },
         "mode": "lines",
         "name": "y7",
         "showlegend": true,
         "text": [
          null,
          null,
          null,
          null,
          null,
          null,
          null,
          null,
          null,
          null,
          null,
          null,
          null,
          null,
          null,
          null,
          null,
          null,
          null,
          null
         ],
         "type": "scatter",
         "x": [
          0,
          0.5263157894736842,
          1.0526315789473684,
          1.5789473684210527,
          2.1052631578947367,
          2.6315789473684212,
          3.1578947368421053,
          3.6842105263157894,
          4.2105263157894735,
          4.7368421052631575,
          5.2631578947368425,
          5.7894736842105265,
          6.315789473684211,
          6.842105263157895,
          7.368421052631579,
          7.894736842105263,
          8.421052631578947,
          8.947368421052632,
          9.473684210526315,
          10
         ],
         "xaxis": "x1",
         "y": [
          -4.001305132888895,
          -4.001305132888895,
          -4.001305132888895,
          -4.001305132888895,
          -4.001305132888895,
          -4.001305132888895,
          -4.001305132888895,
          -4.001305132888895,
          -4.001305132888895,
          -4.001305132888895,
          -4.001305132888895,
          -4.001305132888895,
          -4.001305132888895,
          -4.001305132888895,
          -4.001305132888895,
          -4.001305132888895,
          -4.001305132888895,
          -4.001305132888895,
          -4.001305132888895,
          -4.001305132888895
         ],
         "yaxis": "y3"
        },
        {
         "colorbar": {
          "title": ""
         },
         "hoverinfo": "text",
         "legendgroup": "y8",
         "line": {
          "color": "rgba(0, 0, 0, 1.000)",
          "dash": "solid",
          "shape": "linear",
          "width": 1
         },
         "mode": "lines",
         "name": "y8",
         "showlegend": true,
         "text": [
          null,
          null,
          null,
          null,
          null,
          null,
          null,
          null,
          null,
          null,
          null,
          null,
          null,
          null,
          null,
          null,
          null,
          null,
          null,
          null
         ],
         "type": "scatter",
         "x": [
          0,
          0.5263157894736842,
          1.0526315789473684,
          1.5789473684210527,
          2.1052631578947367,
          2.6315789473684212,
          3.1578947368421053,
          3.6842105263157894,
          4.2105263157894735,
          4.7368421052631575,
          5.2631578947368425,
          5.7894736842105265,
          6.315789473684211,
          6.842105263157895,
          7.368421052631579,
          7.894736842105263,
          8.421052631578947,
          8.947368421052632,
          9.473684210526315,
          10
         ],
         "xaxis": "x1",
         "y": [
          -0.0993220988311788,
          -0.09497706787138019,
          -0.10156261139753375,
          -0.10119954307313678,
          -0.10696287994291644,
          -0.09936655104318211,
          -0.09755434359336704,
          -0.10327621055628061,
          -0.100587597090857,
          -0.09975407047202088,
          -0.10068121170365187,
          -0.1029789076938388,
          -0.09828321790578516,
          -0.09905232736255733,
          -0.09722539822570067,
          -0.10008274238252299,
          -0.09968201859851986,
          -0.10053685974368824,
          -0.1035673638042018,
          -0.09954944876124636
         ],
         "yaxis": "y3"
        }
       ],
       "layout": {
        "annotations": [],
        "height": 400,
        "margin": {
         "b": 20,
         "l": 0,
         "r": 0,
         "t": 20
        },
        "paper_bgcolor": "rgba(255, 255, 255, 1.000)",
        "plot_bgcolor": "rgba(255, 255, 255, 1.000)",
        "showlegend": false,
        "width": 600,
        "xaxis1": {
         "anchor": "y3",
         "domain": [
          0.061654272382618835,
          0.483947579469233
         ],
         "gridcolor": "rgba(0, 0, 0, 0.100)",
         "gridwidth": 0.5,
         "linecolor": "rgba(0, 0, 0, 1.000)",
         "mirror": false,
         "range": [
          -3.39,
          10.39
         ],
         "showgrid": true,
         "showline": true,
         "showticklabels": true,
         "tickangle": 0,
         "tickcolor": "rgb(0, 0, 0)",
         "tickfont": {
          "color": "rgba(0, 0, 0, 1.000)",
          "family": "sans-serif",
          "size": 11
         },
         "tickmode": "array",
         "ticks": "inside",
         "ticktext": [
          "-2",
          "0",
          "2",
          "4",
          "6",
          "8",
          "10"
         ],
         "tickvals": [
          -2,
          0,
          2,
          4,
          6,
          8,
          10
         ],
         "title": "p3",
         "titlefont": {
          "color": "rgba(0, 0, 0, 1.000)",
          "family": "sans-serif",
          "size": 15
         },
         "type": "-",
         "visible": true,
         "zeroline": false,
         "zerolinecolor": "rgba(0, 0, 0, 1.000)"
        },
        "xaxis2": {
         "anchor": "y4",
         "domain": [
          0.5711450131233596,
          0.9934383202099738
         ],
         "gridcolor": "rgba(0, 0, 0, 0.100)",
         "gridwidth": 0.5,
         "linecolor": "rgba(0, 0, 0, 1.000)",
         "mirror": false,
         "range": [
          -10.36,
          2.36
         ],
         "showgrid": true,
         "showline": true,
         "showticklabels": true,
         "tickangle": 0,
         "tickcolor": "rgb(0, 0, 0)",
         "tickfont": {
          "color": "rgba(0, 0, 0, 1.000)",
          "family": "sans-serif",
          "size": 11
         },
         "tickmode": "array",
         "ticks": "inside",
         "ticktext": [
          "-10.0",
          "-7.5",
          "-5.0",
          "-2.5",
          "0.0"
         ],
         "tickvals": [
          -10,
          -7.5,
          -5,
          -2.5,
          0
         ],
         "title": "p4",
         "titlefont": {
          "color": "rgba(0, 0, 0, 1.000)",
          "family": "sans-serif",
          "size": 15
         },
         "type": "-",
         "visible": true,
         "zeroline": false,
         "zerolinecolor": "rgba(0, 0, 0, 1.000)"
        },
        "yaxis1": {
         "anchor": "x1",
         "domain": [
          0.5758147419072616,
          0.9901574803149606
         ],
         "gridcolor": "rgba(0, 0, 0, 0.100)",
         "gridwidth": 0.5,
         "linecolor": "rgba(0, 0, 0, 1.000)",
         "mirror": false,
         "range": [
          -4.118507081400131,
          0.02262843266355155
         ],
         "showgrid": true,
         "showline": true,
         "showticklabels": true,
         "tickangle": 0,
         "tickcolor": "rgb(0, 0, 0)",
         "tickfont": {
          "color": "rgba(0, 0, 0, 1.000)",
          "family": "sans-serif",
          "size": 11
         },
         "tickmode": "array",
         "ticks": "inside",
         "ticktext": [
          "-4",
          "-3",
          "-2",
          "-1",
          "0"
         ],
         "tickvals": [
          -4,
          -3,
          -2,
          -1,
          0
         ],
         "title": "mu4",
         "titlefont": {
          "color": "rgba(0, 0, 0, 1.000)",
          "family": "sans-serif",
          "size": 15
         },
         "type": "-",
         "visible": true,
         "zeroline": false,
         "zerolinecolor": "rgba(0, 0, 0, 1.000)"
        },
        "yaxis2": {
         "anchor": "x2",
         "domain": [
          0.5758147419072616,
          0.9901574803149606
         ],
         "gridcolor": "rgba(0, 0, 0, 0.100)",
         "gridwidth": 0.5,
         "linecolor": "rgba(0, 0, 0, 1.000)",
         "mirror": false,
         "range": [
          -4.118427712038161,
          0.01990341790257423
         ],
         "showgrid": true,
         "showline": true,
         "showticklabels": true,
         "tickangle": 0,
         "tickcolor": "rgb(0, 0, 0)",
         "tickfont": {
          "color": "rgba(0, 0, 0, 1.000)",
          "family": "sans-serif",
          "size": 11
         },
         "tickmode": "array",
         "ticks": "inside",
         "ticktext": [
          "-4",
          "-3",
          "-2",
          "-1",
          "0"
         ],
         "tickvals": [
          -4,
          -3,
          -2,
          -1,
          0
         ],
         "title": "",
         "titlefont": {
          "color": "rgba(0, 0, 0, 1.000)",
          "family": "sans-serif",
          "size": 15
         },
         "type": "-",
         "visible": true,
         "zeroline": false,
         "zerolinecolor": "rgba(0, 0, 0, 1.000)"
        },
        "yaxis3": {
         "anchor": "x1",
         "domain": [
          0.07581474190726165,
          0.49015748031496065
         ],
         "gridcolor": "rgba(0, 0, 0, 0.100)",
         "gridwidth": 0.5,
         "linecolor": "rgba(0, 0, 0, 1.000)",
         "mirror": false,
         "range": [
          -4.11849497483942,
          0.02221277407914525
         ],
         "showgrid": true,
         "showline": true,
         "showticklabels": true,
         "tickangle": 0,
         "tickcolor": "rgb(0, 0, 0)",
         "tickfont": {
          "color": "rgba(0, 0, 0, 1.000)",
          "family": "sans-serif",
          "size": 11
         },
         "tickmode": "array",
         "ticks": "inside",
         "ticktext": [
          "-4",
          "-3",
          "-2",
          "-1",
          "0"
         ],
         "tickvals": [
          -4,
          -3,
          -2,
          -1,
          0
         ],
         "title": "mu4",
         "titlefont": {
          "color": "rgba(0, 0, 0, 1.000)",
          "family": "sans-serif",
          "size": 15
         },
         "type": "-",
         "visible": true,
         "zeroline": false,
         "zerolinecolor": "rgba(0, 0, 0, 1.000)"
        },
        "yaxis4": {
         "anchor": "x2",
         "domain": [
          0.07581474190726165,
          0.49015748031496065
         ],
         "gridcolor": "rgba(0, 0, 0, 0.100)",
         "gridwidth": 0.5,
         "linecolor": "rgba(0, 0, 0, 1.000)",
         "mirror": false,
         "range": [
          -10.302136145506148,
          0.3066237414626703
         ],
         "showgrid": true,
         "showline": true,
         "showticklabels": true,
         "tickangle": 0,
         "tickcolor": "rgb(0, 0, 0)",
         "tickfont": {
          "color": "rgba(0, 0, 0, 1.000)",
          "family": "sans-serif",
          "size": 11
         },
         "tickmode": "array",
         "ticks": "inside",
         "ticktext": [
          "-10.0",
          "-7.5",
          "-5.0",
          "-2.5",
          "0.0"
         ],
         "tickvals": [
          -10,
          -7.5,
          -5,
          -2.5,
          0
         ],
         "title": "",
         "titlefont": {
          "color": "rgba(0, 0, 0, 1.000)",
          "family": "sans-serif",
          "size": 15
         },
         "type": "-",
         "visible": true,
         "zeroline": false,
         "zerolinecolor": "rgba(0, 0, 0, 1.000)"
        }
       }
      },
      "text/html": [
       "<div id=\"6dc41e75-4885-4155-bea4-07e353199b3d\" class=\"plotly-graph-div\"></div>\n",
       "\n",
       "<script>\n",
       "    (function() {\n",
       "        var data_6dc41e75 = [{\"xaxis\":\"x2\",\"colorbar\":{\"title\":\"\"},\"yaxis\":\"y2\",\"text\":[null,null,null,null,null,null,null,null,null,null,null,null,null,null,null,null,null,null,null,null],\"x\":[-2.0,-1.7894736842105263,-1.5789473684210527,-1.368421052631579,-1.1578947368421053,-0.9473684210526315,-0.7368421052631579,-0.5263157894736842,-0.3157894736842105,-0.10526315789473684,0.10526315789473684,0.3157894736842105,0.5263157894736842,0.7368421052631579,0.9473684210526315,1.1578947368421053,1.368421052631579,1.5789473684210527,1.7894736842105263,2.0],\"showlegend\":true,\"mode\":\"lines\",\"name\":\"y1\",\"legendgroup\":\"y1\",\"line\":{\"color\":\"rgba(255, 0, 0, 1.000)\",\"width\":1,\"dash\":\"dash\",\"shape\":\"linear\"},\"y\":[-4.001305132888895,-4.001305132888895,-4.001305132888895,-4.001305132888895,-4.001305132888895,-4.001305132888895,-4.001305132888895,-4.001305132888895,-4.001305132888895,-4.001305132888895,-4.001305132888895,-4.001305132888895,-4.001305132888895,-4.001305132888895,-4.001305132888895,-4.001305132888895,-4.001305132888895,-4.001305132888895,-4.001305132888895,-4.001305132888895],\"type\":\"scatter\",\"hoverinfo\":\"text\"},{\"xaxis\":\"x2\",\"colorbar\":{\"title\":\"\"},\"yaxis\":\"y2\",\"text\":[null,null,null,null,null,null,null,null,null,null,null,null,null,null,null,null,null,null,null,null],\"x\":[-2.0,-1.7894736842105263,-1.5789473684210527,-1.368421052631579,-1.1578947368421053,-0.9473684210526315,-0.7368421052631579,-0.5263157894736842,-0.3157894736842105,-0.10526315789473684,0.10526315789473684,0.3157894736842105,0.5263157894736842,0.7368421052631579,0.9473684210526315,1.1578947368421053,1.368421052631579,1.5789473684210527,1.7894736842105263,2.0],\"showlegend\":true,\"mode\":\"lines\",\"name\":\"y2\",\"legendgroup\":\"y2\",\"line\":{\"color\":\"rgba(0, 0, 0, 1.000)\",\"width\":1,\"dash\":\"solid\",\"shape\":\"linear\"},\"y\":[-0.10177068689474801,-0.10748143831908431,-0.10889819303187882,-0.10649908412485501,-0.1035051360194934,-0.10049259566057363,-0.10260575674989418,-0.09914860887208343,-0.09885068940563257,-0.10124903648485159,-0.10147111019440101,-0.09923956522016339,-0.0992018111940698,-0.09981618201554925,-0.09787930396368331,-0.10234662541187917,-0.09721916124669186,-0.09999419753724559,-0.10019471863446472,-0.09934920224269804],\"type\":\"scatter\",\"hoverinfo\":\"text\"},{\"xaxis\":\"x2\",\"colorbar\":{\"title\":\"\"},\"yaxis\":\"y4\",\"text\":[null,null,null,null,null,null,null,null,null,null,null,null,null,null,null,null,null,null,null,null],\"x\":[-10.0,-9.473684210526315,-8.947368421052632,-8.421052631578947,-7.894736842105263,-7.368421052631579,-6.842105263157895,-6.315789473684211,-5.7894736842105265,-5.2631578947368425,-4.7368421052631575,-4.2105263157894735,-3.6842105263157894,-3.1578947368421053,-2.6315789473684212,-2.1052631578947367,-1.5789473684210527,-1.0526315789473684,-0.5263157894736842,0.0],\"showlegend\":true,\"mode\":\"lines\",\"name\":\"y3\",\"legendgroup\":\"y3\",\"line\":{\"color\":\"rgba(255, 0, 0, 1.000)\",\"width\":1,\"dash\":\"dash\",\"shape\":\"linear\"},\"y\":[-4.001305132888895,-4.001305132888895,-4.001305132888895,-4.001305132888895,-4.001305132888895,-4.001305132888895,-4.001305132888895,-4.001305132888895,-4.001305132888895,-4.001305132888895,-4.001305132888895,-4.001305132888895,-4.001305132888895,-4.001305132888895,-4.001305132888895,-4.001305132888895,-4.001305132888895,-4.001305132888895,-4.001305132888895,-4.001305132888895],\"type\":\"scatter\",\"hoverinfo\":\"text\"},{\"xaxis\":\"x2\",\"colorbar\":{\"title\":\"\"},\"yaxis\":\"y4\",\"text\":[null,null,null,null,null,null,null,null,null,null,null,null,null,null,null,null,null,null,null,null],\"x\":[-10.0,-9.473684210526315,-8.947368421052632,-8.421052631578947,-7.894736842105263,-7.368421052631579,-6.842105263157895,-6.315789473684211,-5.7894736842105265,-5.2631578947368425,-4.7368421052631575,-4.2105263157894735,-3.6842105263157894,-3.1578947368421053,-2.6315789473684212,-2.1052631578947367,-1.5789473684210527,-1.0526315789473684,-0.5263157894736842,0.0],\"showlegend\":true,\"mode\":\"lines\",\"name\":\"y4\",\"legendgroup\":\"y4\",\"line\":{\"color\":\"rgba(0, 0, 0, 1.000)\",\"width\":1,\"dash\":\"solid\",\"shape\":\"linear\"},\"y\":[-10.001888224176842,-9.473837694360276,-8.946039728086642,-8.42294074261031,-7.8951587750043455,-7.36611879102468,-6.839293298928108,-6.312626238470572,-5.795487845183096,-5.263975149739507,-4.738853268224829,-4.2089343407344195,-3.680367166801922,-3.1593555387503014,-2.6335992109655595,-2.0998580855552884,-1.581253413153659,-1.0539754876093108,-0.5247285264072007,0.006375820133364112],\"type\":\"scatter\",\"hoverinfo\":\"text\"},{\"xaxis\":\"x1\",\"colorbar\":{\"title\":\"\"},\"yaxis\":\"y1\",\"text\":[null,null,null,null,null,null,null,null,null,null,null,null,null,null,null,null,null,null,null,null],\"x\":[-3.0,-2.6842105263157894,-2.3684210526315788,-2.0526315789473686,-1.736842105263158,-1.4210526315789473,-1.105263157894737,-0.7894736842105263,-0.47368421052631576,-0.15789473684210525,0.15789473684210525,0.47368421052631576,0.7894736842105263,1.105263157894737,1.4210526315789473,1.736842105263158,2.0526315789473686,2.3684210526315788,2.6842105263157894,3.0],\"showlegend\":true,\"mode\":\"lines\",\"name\":\"y5\",\"legendgroup\":\"y5\",\"line\":{\"color\":\"rgba(255, 0, 0, 1.000)\",\"width\":1,\"dash\":\"dash\",\"shape\":\"linear\"},\"y\":[-4.001305132888895,-4.001305132888895,-4.001305132888895,-4.001305132888895,-4.001305132888895,-4.001305132888895,-4.001305132888895,-4.001305132888895,-4.001305132888895,-4.001305132888895,-4.001305132888895,-4.001305132888895,-4.001305132888895,-4.001305132888895,-4.001305132888895,-4.001305132888895,-4.001305132888895,-4.001305132888895,-4.001305132888895,-4.001305132888895],\"type\":\"scatter\",\"hoverinfo\":\"text\"},{\"xaxis\":\"x1\",\"colorbar\":{\"title\":\"\"},\"yaxis\":\"y1\",\"text\":[null,null,null,null,null,null,null,null,null,null,null,null,null,null,null,null,null,null,null,null],\"x\":[-3.0,-2.6842105263157894,-2.3684210526315788,-2.0526315789473686,-1.736842105263158,-1.4210526315789473,-1.105263157894737,-0.7894736842105263,-0.47368421052631576,-0.15789473684210525,0.15789473684210525,0.47368421052631576,0.7894736842105263,1.105263157894737,1.4210526315789473,1.736842105263158,2.0526315789473686,2.3684210526315788,2.6842105263157894,3.0],\"showlegend\":true,\"mode\":\"lines\",\"name\":\"y6\",\"legendgroup\":\"y6\",\"line\":{\"color\":\"rgba(0, 0, 0, 1.000)\",\"width\":1,\"dash\":\"solid\",\"shape\":\"linear\"},\"y\":[-0.10222152754320055,-0.1047757083143947,-0.09913409010372004,-0.09992021517662542,-0.09966130799840887,-0.09725513820477351,-0.0969374793095254,-0.10524607559297719,-0.09457351584768475,-0.10218692275359029,-0.10127111726299408,-0.09829408583003679,-0.09778750242516893,-0.10306623170082661,-0.10211088183381468,-0.10346423023398593,-0.10061548887326956,-0.10191167045307668,-0.10158148719793633,-0.09752231789455539],\"type\":\"scatter\",\"hoverinfo\":\"text\"},{\"xaxis\":\"x1\",\"colorbar\":{\"title\":\"\"},\"yaxis\":\"y3\",\"text\":[null,null,null,null,null,null,null,null,null,null,null,null,null,null,null,null,null,null,null,null],\"x\":[0.0,0.5263157894736842,1.0526315789473684,1.5789473684210527,2.1052631578947367,2.6315789473684212,3.1578947368421053,3.6842105263157894,4.2105263157894735,4.7368421052631575,5.2631578947368425,5.7894736842105265,6.315789473684211,6.842105263157895,7.368421052631579,7.894736842105263,8.421052631578947,8.947368421052632,9.473684210526315,10.0],\"showlegend\":true,\"mode\":\"lines\",\"name\":\"y7\",\"legendgroup\":\"y7\",\"line\":{\"color\":\"rgba(255, 0, 0, 1.000)\",\"width\":1,\"dash\":\"dash\",\"shape\":\"linear\"},\"y\":[-4.001305132888895,-4.001305132888895,-4.001305132888895,-4.001305132888895,-4.001305132888895,-4.001305132888895,-4.001305132888895,-4.001305132888895,-4.001305132888895,-4.001305132888895,-4.001305132888895,-4.001305132888895,-4.001305132888895,-4.001305132888895,-4.001305132888895,-4.001305132888895,-4.001305132888895,-4.001305132888895,-4.001305132888895,-4.001305132888895],\"type\":\"scatter\",\"hoverinfo\":\"text\"},{\"xaxis\":\"x1\",\"colorbar\":{\"title\":\"\"},\"yaxis\":\"y3\",\"text\":[null,null,null,null,null,null,null,null,null,null,null,null,null,null,null,null,null,null,null,null],\"x\":[0.0,0.5263157894736842,1.0526315789473684,1.5789473684210527,2.1052631578947367,2.6315789473684212,3.1578947368421053,3.6842105263157894,4.2105263157894735,4.7368421052631575,5.2631578947368425,5.7894736842105265,6.315789473684211,6.842105263157895,7.368421052631579,7.894736842105263,8.421052631578947,8.947368421052632,9.473684210526315,10.0],\"showlegend\":true,\"mode\":\"lines\",\"name\":\"y8\",\"legendgroup\":\"y8\",\"line\":{\"color\":\"rgba(0, 0, 0, 1.000)\",\"width\":1,\"dash\":\"solid\",\"shape\":\"linear\"},\"y\":[-0.0993220988311788,-0.09497706787138019,-0.10156261139753375,-0.10119954307313678,-0.10696287994291644,-0.09936655104318211,-0.09755434359336704,-0.10327621055628061,-0.100587597090857,-0.09975407047202088,-0.10068121170365187,-0.1029789076938388,-0.09828321790578516,-0.09905232736255733,-0.09722539822570067,-0.10008274238252299,-0.09968201859851986,-0.10053685974368824,-0.1035673638042018,-0.09954944876124636],\"type\":\"scatter\",\"hoverinfo\":\"text\"}];\n",
       "var layout_6dc41e75 = {\"paper_bgcolor\":\"rgba(255, 255, 255, 1.000)\",\"height\":400,\"yaxis4\":{\"showticklabels\":true,\"gridwidth\":0.5,\"tickvals\":[-10.0,-7.5,-5.0,-2.5,0.0],\"visible\":true,\"ticks\":\"inside\",\"range\":[-10.302136145506148,0.3066237414626703],\"domain\":[0.07581474190726165,0.49015748031496065],\"tickmode\":\"array\",\"linecolor\":\"rgba(0, 0, 0, 1.000)\",\"showgrid\":true,\"title\":\"\",\"mirror\":false,\"tickangle\":0,\"showline\":true,\"gridcolor\":\"rgba(0, 0, 0, 0.100)\",\"titlefont\":{\"color\":\"rgba(0, 0, 0, 1.000)\",\"family\":\"sans-serif\",\"size\":15},\"tickcolor\":\"rgb(0, 0, 0)\",\"ticktext\":[\"-10.0\",\"-7.5\",\"-5.0\",\"-2.5\",\"0.0\"],\"zeroline\":false,\"type\":\"-\",\"tickfont\":{\"color\":\"rgba(0, 0, 0, 1.000)\",\"family\":\"sans-serif\",\"size\":11},\"zerolinecolor\":\"rgba(0, 0, 0, 1.000)\",\"anchor\":\"x2\"},\"yaxis2\":{\"showticklabels\":true,\"gridwidth\":0.5,\"tickvals\":[-4.0,-3.0,-2.0,-1.0,0.0],\"visible\":true,\"ticks\":\"inside\",\"range\":[-4.118427712038161,0.01990341790257423],\"domain\":[0.5758147419072616,0.9901574803149606],\"tickmode\":\"array\",\"linecolor\":\"rgba(0, 0, 0, 1.000)\",\"showgrid\":true,\"title\":\"\",\"mirror\":false,\"tickangle\":0,\"showline\":true,\"gridcolor\":\"rgba(0, 0, 0, 0.100)\",\"titlefont\":{\"color\":\"rgba(0, 0, 0, 1.000)\",\"family\":\"sans-serif\",\"size\":15},\"tickcolor\":\"rgb(0, 0, 0)\",\"ticktext\":[\"-4\",\"-3\",\"-2\",\"-1\",\"0\"],\"zeroline\":false,\"type\":\"-\",\"tickfont\":{\"color\":\"rgba(0, 0, 0, 1.000)\",\"family\":\"sans-serif\",\"size\":11},\"zerolinecolor\":\"rgba(0, 0, 0, 1.000)\",\"anchor\":\"x2\"},\"yaxis1\":{\"showticklabels\":true,\"gridwidth\":0.5,\"tickvals\":[-4.0,-3.0,-2.0,-1.0,0.0],\"visible\":true,\"ticks\":\"inside\",\"range\":[-4.118507081400131,0.02262843266355155],\"domain\":[0.5758147419072616,0.9901574803149606],\"tickmode\":\"array\",\"linecolor\":\"rgba(0, 0, 0, 1.000)\",\"showgrid\":true,\"title\":\"mu4\",\"mirror\":false,\"tickangle\":0,\"showline\":true,\"gridcolor\":\"rgba(0, 0, 0, 0.100)\",\"titlefont\":{\"color\":\"rgba(0, 0, 0, 1.000)\",\"family\":\"sans-serif\",\"size\":15},\"tickcolor\":\"rgb(0, 0, 0)\",\"ticktext\":[\"-4\",\"-3\",\"-2\",\"-1\",\"0\"],\"zeroline\":false,\"type\":\"-\",\"tickfont\":{\"color\":\"rgba(0, 0, 0, 1.000)\",\"family\":\"sans-serif\",\"size\":11},\"zerolinecolor\":\"rgba(0, 0, 0, 1.000)\",\"anchor\":\"x1\"},\"annotations\":[],\"plot_bgcolor\":\"rgba(255, 255, 255, 1.000)\",\"showlegend\":false,\"xaxis1\":{\"showticklabels\":true,\"gridwidth\":0.5,\"tickvals\":[-2.0,0.0,2.0,4.0,6.0,8.0,10.0],\"visible\":true,\"ticks\":\"inside\",\"range\":[-3.39,10.39],\"domain\":[0.061654272382618835,0.483947579469233],\"tickmode\":\"array\",\"linecolor\":\"rgba(0, 0, 0, 1.000)\",\"showgrid\":true,\"title\":\"p3\",\"mirror\":false,\"tickangle\":0,\"showline\":true,\"gridcolor\":\"rgba(0, 0, 0, 0.100)\",\"titlefont\":{\"color\":\"rgba(0, 0, 0, 1.000)\",\"family\":\"sans-serif\",\"size\":15},\"tickcolor\":\"rgb(0, 0, 0)\",\"ticktext\":[\"-2\",\"0\",\"2\",\"4\",\"6\",\"8\",\"10\"],\"zeroline\":false,\"type\":\"-\",\"tickfont\":{\"color\":\"rgba(0, 0, 0, 1.000)\",\"family\":\"sans-serif\",\"size\":11},\"zerolinecolor\":\"rgba(0, 0, 0, 1.000)\",\"anchor\":\"y3\"},\"yaxis3\":{\"showticklabels\":true,\"gridwidth\":0.5,\"tickvals\":[-4.0,-3.0,-2.0,-1.0,0.0],\"visible\":true,\"ticks\":\"inside\",\"range\":[-4.11849497483942,0.02221277407914525],\"domain\":[0.07581474190726165,0.49015748031496065],\"tickmode\":\"array\",\"linecolor\":\"rgba(0, 0, 0, 1.000)\",\"showgrid\":true,\"title\":\"mu4\",\"mirror\":false,\"tickangle\":0,\"showline\":true,\"gridcolor\":\"rgba(0, 0, 0, 0.100)\",\"titlefont\":{\"color\":\"rgba(0, 0, 0, 1.000)\",\"family\":\"sans-serif\",\"size\":15},\"tickcolor\":\"rgb(0, 0, 0)\",\"ticktext\":[\"-4\",\"-3\",\"-2\",\"-1\",\"0\"],\"zeroline\":false,\"type\":\"-\",\"tickfont\":{\"color\":\"rgba(0, 0, 0, 1.000)\",\"family\":\"sans-serif\",\"size\":11},\"zerolinecolor\":\"rgba(0, 0, 0, 1.000)\",\"anchor\":\"x1\"},\"xaxis2\":{\"showticklabels\":true,\"gridwidth\":0.5,\"tickvals\":[-10.0,-7.5,-5.0,-2.5,0.0],\"visible\":true,\"ticks\":\"inside\",\"range\":[-10.36,2.36],\"domain\":[0.5711450131233596,0.9934383202099738],\"tickmode\":\"array\",\"linecolor\":\"rgba(0, 0, 0, 1.000)\",\"showgrid\":true,\"title\":\"p4\",\"mirror\":false,\"tickangle\":0,\"showline\":true,\"gridcolor\":\"rgba(0, 0, 0, 0.100)\",\"titlefont\":{\"color\":\"rgba(0, 0, 0, 1.000)\",\"family\":\"sans-serif\",\"size\":15},\"tickcolor\":\"rgb(0, 0, 0)\",\"ticktext\":[\"-10.0\",\"-7.5\",\"-5.0\",\"-2.5\",\"0.0\"],\"zeroline\":false,\"type\":\"-\",\"tickfont\":{\"color\":\"rgba(0, 0, 0, 1.000)\",\"family\":\"sans-serif\",\"size\":11},\"zerolinecolor\":\"rgba(0, 0, 0, 1.000)\",\"anchor\":\"y4\"},\"margin\":{\"l\":0,\"b\":20,\"r\":0,\"t\":20},\"width\":600};\n",
       "\n",
       "        if (!requirejs.specified('plotly')) {\n",
       "          requirejs.config({\n",
       "            paths: {\n",
       "              'plotly_cdn': ['https://cdn.plot.ly/plotly-latest.min']\n",
       "            },\n",
       "          });\n",
       "          require(['plotly_cdn'], function(Plotly) {\n",
       "            Plotly.newPlot('6dc41e75-4885-4155-bea4-07e353199b3d',\n",
       "    data_6dc41e75, layout_6dc41e75,\n",
       "    {showLink: false}\n",
       ");\n",
       "\n",
       "          });\n",
       "        } else {\n",
       "          require(['plotly'], function(Plotly) {\n",
       "            Plotly.newPlot('6dc41e75-4885-4155-bea4-07e353199b3d',\n",
       "    data_6dc41e75, layout_6dc41e75,\n",
       "    {showLink: false}\n",
       ");\n",
       "\n",
       "            if (window.Plotly == undefined) {\n",
       "                window.Plotly = Plotly;\n",
       "            }\n",
       "          });\n",
       "        }\n",
       "    })();\n",
       " </script>\n"
      ]
     },
     "metadata": {},
     "output_type": "display_data"
    }
   ],
   "source": [
    "# plot slices of objective function\n",
    "# grid with 20 points\n",
    "#-----------------------------------\n",
    "s = doSlices(mprob,20)\n",
    "\n",
    "# plot slices of the objective function:\n",
    "#---------------------------------------\n",
    "p = MomentOpt.plot(s,:value)\n",
    "display(p)\n",
    "\n",
    "if savePlots == true\n",
    "    Plots.savefig(p, joinpath(pwd(),\"slices_v.svg\"))\n",
    "end\n",
    "\n",
    "\n",
    "\n",
    "# Produce more precise plots with respect to each parameter:\n",
    "#-----------------------------------------------------------\n",
    "for symbol in parameters\n",
    "\n",
    "  p = MomentOpt.plot(s,symbol)\n",
    "  display(p)\n",
    "    \n",
    "  if savePlots == true\n",
    "      Plots.savefig(p, joinpath(pwd(),\"slices_v_$(String(symbol)).svg\"))\n",
    "  end\n",
    "    \n",
    "\n",
    "end"
   ]
  }
 ],
 "metadata": {
  "kernelspec": {
   "display_name": "Julia 0.6.3",
   "language": "julia",
   "name": "julia-0.6"
  },
  "language_info": {
   "file_extension": ".jl",
   "mimetype": "application/julia",
   "name": "julia",
   "version": "0.6.3"
  }
 },
 "nbformat": 4,
 "nbformat_minor": 2
}
