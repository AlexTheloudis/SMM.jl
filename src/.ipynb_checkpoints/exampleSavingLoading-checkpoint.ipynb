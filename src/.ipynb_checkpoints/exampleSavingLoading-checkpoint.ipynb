{
 "cells": [
  {
   "cell_type": "markdown",
   "metadata": {},
   "source": [
    "# MomentOpt Parallel\n",
    "This notebook shows how to save an optimization to disk, load it, and restart the algorithm n addional steps."
   ]
  },
  {
   "cell_type": "markdown",
   "metadata": {},
   "source": [
    "## Preliminaries"
   ]
  },
  {
   "cell_type": "markdown",
   "metadata": {},
   "source": [
    "When developping:"
   ]
  },
  {
   "cell_type": "code",
   "execution_count": 1,
   "metadata": {},
   "outputs": [
    {
     "data": {
      "text/plain": [
       "MomentOpt"
      ]
     },
     "execution_count": 1,
     "metadata": {},
     "output_type": "execute_result"
    }
   ],
   "source": [
    "# load the source of the package\n",
    "include(\"MomentOpt.jl\")"
   ]
  },
  {
   "cell_type": "markdown",
   "metadata": {},
   "source": [
    "Other packages:"
   ]
  },
  {
   "cell_type": "code",
   "execution_count": 2,
   "metadata": {},
   "outputs": [
    {
     "data": {
      "text/plain": [
       "DataStructures.OrderedDict{String,Array{Float64,1}} with 2 entries:\n",
       "  \"mu1\" => [-1.0]\n",
       "  \"mu2\" => [1.0]"
      ]
     },
     "execution_count": 2,
     "metadata": {},
     "output_type": "execute_result"
    }
   ],
   "source": [
    "using MomentOpt\n",
    "using DataStructures\n",
    "using DataFrames\n",
    "using Plots\n",
    "\n",
    "srand(1234);\n",
    "\n",
    "# Define true values of parameters\n",
    "#---------------------------------\n",
    "trueValues = OrderedDict(\"mu1\" => [-1.0], \"mu2\" => [1.0])\n"
   ]
  },
  {
   "cell_type": "markdown",
   "metadata": {},
   "source": [
    "## Set up a MomentOpt problem"
   ]
  },
  {
   "cell_type": "code",
   "execution_count": 3,
   "metadata": {
    "scrolled": true
   },
   "outputs": [
    {
     "data": {
      "text/plain": [
       "objfunc_normal (generic function with 1 method)"
      ]
     },
     "execution_count": 3,
     "metadata": {},
     "output_type": "execute_result"
    },
    {
     "name": "stderr",
     "output_type": "stream",
     "text": [
      "WARNING: using Plots.GR in module Main conflicts with an existing identifier.\n"
     ]
    }
   ],
   "source": [
    "#------------------------------------------------\n",
    "# Options\n",
    "#-------------------------------------------------\n",
    "# Boolean: do you want to save the plots to disk?\n",
    "savePlots = false\n",
    "\n",
    "#------------------------\n",
    "# initialize the problem:\n",
    "#------------------------\n",
    "\n",
    "# Specify the initial values for the parameters, and their support:\n",
    "pb = OrderedDict(\"p1\" => [0.2,-3,3] , \"p2\" => [-0.2,-2,2])\n",
    "\n",
    "# Specify moments to be matched + subjective weights:\n",
    "moms = DataFrame(name=[\"mu1\",\"mu2\"],value=[trueValues[\"mu1\"][], trueValues[\"mu2\"][]], weight=ones(2))\n",
    "\n",
    "# GMM objective function to be minized.\n",
    "# It returns a weigthed distance between empirical and simulated moments\n",
    "@everywhere function objfunc_normal(ev::Eval; verbose = false)\n",
    "\n",
    "    start(ev)\n",
    "\n",
    "\n",
    "    # when running in parallel, display worker's id:\n",
    "    #-----------------------------------------------\n",
    "    if verbose == true\n",
    "        if nprocs() > 1\n",
    "          println(myid())\n",
    "        end\n",
    "    end\n",
    "\n",
    "    # extract parameters from ev:\n",
    "    #----------------------------\n",
    "    mu  = collect(values(ev.params))\n",
    "\n",
    "    # compute simulated moments\n",
    "    #--------------------------\n",
    "    # Monte-Carlo:\n",
    "    #-------------\n",
    "    ns = 100000 #number of i.i.d draws from N([mu], sigma)\n",
    "    #initialize a multivariate normal N([mu], sigma)\n",
    "    #sigma is set to be the identity matrix\n",
    "    sigma = [1.0; 1.0]\n",
    "    # draw ns observations from N([mu], sigma):\n",
    "    randMultiNormal = MomentOpt.MvNormal(mu,MomentOpt.PDiagMat(sigma))\n",
    "    # calculate the mean of the simulated data\n",
    "    simM            = mean(rand(randMultiNormal,ns),2)\n",
    "    # store simulated moments in a dictionary\n",
    "    simMoments = Dict(:mu1 => simM[1], :mu2 => simM[2])\n",
    "\n",
    "    # Calculate the weighted distance between empirical moments\n",
    "    # and simulated ones:\n",
    "    #-----------------------------------------------------------\n",
    "    v = Dict{Symbol,Float64}()\n",
    "    for (k, mom) in dataMomentd(ev)\n",
    "        # If weight for moment k exists:\n",
    "        #-------------------------------\n",
    "        if haskey(MomentOpt.dataMomentWd(ev), k)\n",
    "            # divide by weight associated to moment k:\n",
    "            #----------------------------------------\n",
    "            v[k] = ((simMoments[k] .- mom) ./ MomentOpt.dataMomentW(ev,k)) .^2\n",
    "        else\n",
    "            v[k] = ((simMoments[k] .- mom) ) .^2\n",
    "        end\n",
    "    end\n",
    "\n",
    "    # Set value of the objective function:\n",
    "    #------------------------------------\n",
    "    setValue(ev, mean(collect(values(v))))\n",
    "\n",
    "    # also return the moments\n",
    "    #-----------------------\n",
    "    setMoment(ev, simMoments)\n",
    "\n",
    "    # flag for success:\n",
    "    #-------------------\n",
    "    ev.status = 1\n",
    "\n",
    "    # finish and return\n",
    "    finish(ev)\n",
    "\n",
    "    return ev\n",
    "end\n",
    "\n",
    "\n",
    "\n",
    "# Initialize an empty MProb() object:\n",
    "#------------------------------------\n",
    "mprob = MProb()\n",
    "\n",
    "# Add structural parameters to MProb():\n",
    "# specify starting values and support\n",
    "#--------------------------------------\n",
    "addSampledParam!(mprob,pb)\n",
    "\n",
    "# Add moments to be matched to MProb():\n",
    "#--------------------------------------\n",
    "addMoment!(mprob,moms)\n",
    "\n",
    "# Attach an objective function to MProb():\n",
    "#----------------------------------------\n",
    "addEvalFunc!(mprob, objfunc_normal)"
   ]
  },
  {
   "cell_type": "markdown",
   "metadata": {},
   "source": [
    "## Saving Options"
   ]
  },
  {
   "cell_type": "markdown",
   "metadata": {},
   "source": [
    "In order to save the optimization at every `n` steps, it is necessary to include the following items in the dictionary containing the optimization options:\n",
    "* \"save_frequency\": the optimization will be saved every ̀save_frequency steps\n",
    "* \"filename\": the name under which the optimization will be saved"
   ]
  },
  {
   "cell_type": "code",
   "execution_count": 4,
   "metadata": {
    "scrolled": false
   },
   "outputs": [
    {
     "name": "stderr",
     "output_type": "stream",
     "text": [
      "17:32:27:INFO:Main:Starting estimation loop.\n",
      "17:32:42:INFO:Main:saved data at iteration 10\n",
      "17:32:46:INFO:Main:saved data at iteration 20\n",
      "17:32:50:INFO:Main:saved data at iteration 30\n",
      "17:32:54:INFO:Main:saved data at iteration 40\n",
      "17:32:59:INFO:Main:saved data at iteration 50\n",
      "17:32:59:INFO:Main:Done with estimation after 0.5 minutes\n"
     ]
    },
    {
     "name": "stdout",
     "output_type": "stream",
     "text": [
      " 39.476758 seconds (13.69 M allocations: 948.911 MiB, 51.07% gc time)\n",
      "MomentOpt.summary(MA) = "
     ]
    },
    {
     "data": {
      "text/html": [
       "<table class=\"data-frame\"><thead><tr><th></th><th>id</th><th>acc_rate</th><th>perc_exchanged</th><th>exchanged_most_with</th><th>best_val</th></tr></thead><tbody><tr><th>1</th><td>1</td><td>0.636364</td><td>78.0</td><td>2</td><td>0.00444465</td></tr><tr><th>2</th><td>2</td><td>0.545455</td><td>78.0</td><td>1</td><td>0.00444465</td></tr><tr><th>3</th><td>3</td><td>0.466667</td><td>40.0</td><td>1</td><td>0.00854959</td></tr></tbody></table>"
      ],
      "text/plain": [
       "3×5 DataFrames.DataFrame\n",
       "│ Row │ id │ acc_rate │ perc_exchanged │ exchanged_most_with │ best_val   │\n",
       "├─────┼────┼──────────┼────────────────┼─────────────────────┼────────────┤\n",
       "│ 1   │ 1  │ 0.636364 │ 78.0           │ 2                   │ 0.00444465 │\n",
       "│ 2   │ 2  │ 0.545455 │ 78.0           │ 1                   │ 0.00444465 │\n",
       "│ 3   │ 3  │ 0.466667 │ 40.0           │ 1                   │ 0.00854959 │"
      ]
     },
     "execution_count": 4,
     "metadata": {},
     "output_type": "execute_result"
    },
    {
     "name": "stdout",
     "output_type": "stream",
     "text": [
      "3×5 DataFrames.DataFrame\n",
      "│ Row │ id │ acc_rate │ perc_exchanged │ exchanged_most_with │ best_val   │\n",
      "├─────┼────┼──────────┼────────────────┼─────────────────────┼────────────┤\n",
      "│ 1   │ 1  │ 0.636364 │ 78.0           │ 2                   │ 0.00444465 │\n",
      "│ 2   │ 2  │ 0.545455 │ 78.0           │ 1                   │ 0.00444465 │\n",
      "│ 3   │ 3  │ 0.466667 │ 40.0           │ 1                   │ 0.00854959 │\n"
     ]
    }
   ],
   "source": [
    "# estimation options:\n",
    "#--------------------\n",
    "# number of iterations for each chain\n",
    "niter = 50\n",
    "# number of chains\n",
    "nchains = 3\n",
    "\n",
    "opts = Dict(\"N\"=>nchains,\n",
    "        \"maxiter\"=>niter,\n",
    "        \"maxtemp\"=> 5,\n",
    "        \"coverage\"=>0.025,\n",
    "        \"sigma_update_steps\"=>10,\n",
    "        \"sigma_adjust_by\"=>0.01,\n",
    "        \"smpl_iters\"=>1000,\n",
    "        \"parallel\"=>true,\n",
    "        \"maxdists\"=>[0.05 for i in 1:nchains],\n",
    "        \"mixprob\"=>0.3,\n",
    "        \"acc_tuner\"=>12.0,\n",
    "        \"animate\"=>false,\n",
    "        \"save_frequency\"=>10,\n",
    "        \"filename\"=>\"MyMAProblem\")\n",
    "\n",
    "\n",
    "#---------------------------------------\n",
    "# Let's set-up and run the optimization\n",
    "#---------------------------------------\n",
    "# set-up BGP algorithm:\n",
    "MA = MAlgoBGP(mprob,opts)\n",
    "\n",
    "# run the estimation:\n",
    "@time MomentOpt.runMOpt!(MA)\n",
    "\n",
    "# show a summary of the optimization:\n",
    "@show MomentOpt.summary(MA)"
   ]
  },
  {
   "cell_type": "markdown",
   "metadata": {},
   "source": [
    "## Loading and restarting "
   ]
  },
  {
   "cell_type": "markdown",
   "metadata": {},
   "source": [
    "To load an optimization, use the function `readMalgo`"
   ]
  },
  {
   "cell_type": "code",
   "execution_count": 5,
   "metadata": {},
   "outputs": [
    {
     "data": {
      "text/html": [
       "<table class=\"data-frame\"><thead><tr><th></th><th>id</th><th>acc_rate</th><th>perc_exchanged</th><th>exchanged_most_with</th><th>best_val</th></tr></thead><tbody><tr><th>1</th><td>1</td><td>0.636364</td><td>78.0</td><td>2</td><td>0.00444465</td></tr><tr><th>2</th><td>2</td><td>0.545455</td><td>78.0</td><td>1</td><td>0.00444465</td></tr><tr><th>3</th><td>3</td><td>0.466667</td><td>40.0</td><td>1</td><td>0.00854959</td></tr></tbody></table>"
      ],
      "text/plain": [
       "3×5 DataFrames.DataFrame\n",
       "│ Row │ id │ acc_rate │ perc_exchanged │ exchanged_most_with │ best_val   │\n",
       "├─────┼────┼──────────┼────────────────┼─────────────────────┼────────────┤\n",
       "│ 1   │ 1  │ 0.636364 │ 78.0           │ 2                   │ 0.00444465 │\n",
       "│ 2   │ 2  │ 0.545455 │ 78.0           │ 1                   │ 0.00444465 │\n",
       "│ 3   │ 3  │ 0.466667 │ 40.0           │ 1                   │ 0.00854959 │"
      ]
     },
     "execution_count": 5,
     "metadata": {},
     "output_type": "execute_result"
    },
    {
     "name": "stdout",
     "output_type": "stream",
     "text": [
      "MomentOpt.summary(MA2) = 3×5 DataFrames.DataFrame\n",
      "│ Row │ id │ acc_rate │ perc_exchanged │ exchanged_most_with │ best_val   │\n",
      "├─────┼────┼──────────┼────────────────┼─────────────────────┼────────────┤\n",
      "│ 1   │ 1  │ 0.636364 │ 78.0           │ 2                   │ 0.00444465 │\n",
      "│ 2   │ 2  │ 0.545455 │ 78.0           │ 1                   │ 0.00444465 │\n",
      "│ 3   │ 3  │ 0.466667 │ 40.0           │ 1                   │ 0.00854959 │\n"
     ]
    }
   ],
   "source": [
    "MA2 = readMalgo(opts[\"filename\"])\n",
    "@show MomentOpt.summary(MA2)"
   ]
  },
  {
   "cell_type": "markdown",
   "metadata": {},
   "source": [
    "To restart the optimization, simply use the function `restartMOpt!`"
   ]
  },
  {
   "cell_type": "code",
   "execution_count": 6,
   "metadata": {},
   "outputs": [
    {
     "name": "stderr",
     "output_type": "stream",
     "text": [
      "17:33:44:INFO:Main:Restarting estimation loop with 50 iterations.\n",
      "17:33:44:INFO:Main:Current best value on chain 1 before restarting 0.004444649479586527\n",
      "17:33:45:INFO:Main:saved data at iteration 50\n",
      "17:33:49:INFO:Main:saved data at iteration 60\n",
      "17:33:53:INFO:Main:saved data at iteration 70\n",
      "17:33:57:INFO:Main:saved data at iteration 80\n",
      "17:34:02:INFO:Main:saved data at iteration 90\n",
      "17:34:06:INFO:Main:saved data at iteration 100\n",
      "17:34:06:INFO:Main:Done with estimation after 0.4 minutes\n",
      "17:34:06:INFO:Main:New best value on chain 1 = 0.0003911772143657501\n"
     ]
    },
    {
     "data": {
      "text/html": [
       "<table class=\"data-frame\"><thead><tr><th></th><th>id</th><th>acc_rate</th><th>perc_exchanged</th><th>exchanged_most_with</th><th>best_val</th></tr></thead><tbody><tr><th>1</th><td>1</td><td>0.8</td><td>81.0</td><td>2</td><td>0.000391177</td></tr><tr><th>2</th><td>2</td><td>0.666667</td><td>80.0</td><td>1</td><td>0.00221534</td></tr><tr><th>3</th><td>3</td><td>0.387755</td><td>52.0</td><td>1</td><td>0.00446463</td></tr></tbody></table>"
      ],
      "text/plain": [
       "3×5 DataFrames.DataFrame\n",
       "│ Row │ id │ acc_rate │ perc_exchanged │ exchanged_most_with │ best_val    │\n",
       "├─────┼────┼──────────┼────────────────┼─────────────────────┼─────────────┤\n",
       "│ 1   │ 1  │ 0.8      │ 81.0           │ 2                   │ 0.000391177 │\n",
       "│ 2   │ 2  │ 0.666667 │ 80.0           │ 1                   │ 0.00221534  │\n",
       "│ 3   │ 3  │ 0.387755 │ 52.0           │ 1                   │ 0.00446463  │"
      ]
     },
     "execution_count": 6,
     "metadata": {},
     "output_type": "execute_result"
    },
    {
     "name": "stdout",
     "output_type": "stream",
     "text": [
      "MomentOpt.summary(MA2) = 3×5 DataFrames.DataFrame\n",
      "│ Row │ id │ acc_rate │ perc_exchanged │ exchanged_most_with │ best_val    │\n",
      "├─────┼────┼──────────┼────────────────┼─────────────────────┼─────────────┤\n",
      "│ 1   │ 1  │ 0.8      │ 81.0           │ 2                   │ 0.000391177 │\n",
      "│ 2   │ 2  │ 0.666667 │ 80.0           │ 1                   │ 0.00221534  │\n",
      "│ 3   │ 3  │ 0.387755 │ 52.0           │ 1                   │ 0.00446463  │\n"
     ]
    }
   ],
   "source": [
    "# re-start the estimation adding newiters steps\n",
    "#----------------------------------------------\n",
    "newiters = 50\n",
    "srand(1234)\n",
    "restartMOpt!(MA2, newiters)\n",
    "\n",
    "# show a summary of the optimization:\n",
    "@show MomentOpt.summary(MA2)"
   ]
  },
  {
   "cell_type": "code",
   "execution_count": null,
   "metadata": {
    "collapsed": true
   },
   "outputs": [],
   "source": [
    "# re-start the estimation with MA\n",
    "#---------------------------------\n",
    "newiters = 50\n",
    "srand(1234)\n",
    "restartMOpt!(MA, newiters)\n",
    "\n",
    "# show a summary of the optimization:\n",
    "@show MomentOpt.summary(MA)"
   ]
  },
  {
   "cell_type": "code",
   "execution_count": null,
   "metadata": {
    "collapsed": true
   },
   "outputs": [],
   "source": [
    "# New estimation one-shot estimation:\n",
    "#------------------------------------\n",
    "# set-up BGP algorithm:\n",
    "MA3 = MAlgoBGP(mprob,opts)\n",
    "\n",
    "# run the estimation:\n",
    "srand(1234)\n",
    "@time MomentOpt.runMOpt!(MA3)\n",
    "\n",
    "# show a summary of the optimization:\n",
    "@show MomentOpt.summary(MA3)"
   ]
  },
  {
   "cell_type": "markdown",
   "metadata": {},
   "source": [
    "## Inference with MA\n",
    "When using the BGP algorithm, inference can be done using the first chain. Other chains are used to explore the state space and help to exit local minima."
   ]
  },
  {
   "cell_type": "code",
   "execution_count": null,
   "metadata": {},
   "outputs": [],
   "source": [
    "for algo in [MA, MA2, MA3]\n",
    "    # Realization of the first chain:\n",
    "    #-------------------------------\n",
    "    dat_chain1 = MomentOpt.history(algo.chains[1])\n",
    "\n",
    "    # discard the first 10th of the observations (\"burn-in\" phase):\n",
    "    #--------------------------------------------------------------\n",
    "    dat_chain1[round(Int, niter/10):niter, :]\n",
    "\n",
    "    # keep only accepted draws:\n",
    "    #--------------------------\n",
    "    dat_chain1 = dat_chain1[dat_chain1[:accepted ].== true, : ]\n",
    "\n",
    "    # create a list with the parameters to be estimated\n",
    "    parameters = [Symbol(String(\"mu$(i)\")) for i=1:2]\n",
    "    # list with the corresponding priors:\n",
    "    #------------------------------------\n",
    "    estimatedParameters = [Symbol(String(\"p$(i)\")) for i=1:2]\n",
    "\n",
    "\n",
    "    # Quasi Posterior mean and quasi posterior median for each parameter:\n",
    "    #-------------------------------------------------------------------\n",
    "    for (estimatedParameter, param) in zip(estimatedParameters, parameters)\n",
    "\n",
    "      println(\"Quasi posterior mean for $(String(estimatedParameter)) = $(mean(dat_chain1[estimatedParameter]))\")\n",
    "      println(\"Quasi posterior median for $(String(estimatedParameter)) = $(median(dat_chain1[estimatedParameter]))\")\n",
    "      println(\"True value = $(trueValues[String(param)][])\")\n",
    "      println(\"abs(True value - Quasi posterior median)  = $(abs(median(dat_chain1[estimatedParameter]) - trueValues[String(param)][])) \\n\")\n",
    "\n",
    "    end\n",
    "end"
   ]
  },
  {
   "cell_type": "code",
   "execution_count": null,
   "metadata": {
    "collapsed": true
   },
   "outputs": [],
   "source": []
  }
 ],
 "metadata": {
  "kernelspec": {
   "display_name": "Julia 0.6.3",
   "language": "julia",
   "name": "julia-0.6"
  },
  "language_info": {
   "file_extension": ".jl",
   "mimetype": "application/julia",
   "name": "julia",
   "version": "0.6.3"
  }
 },
 "nbformat": 4,
 "nbformat_minor": 2
}
